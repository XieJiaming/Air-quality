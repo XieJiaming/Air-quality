{
 "cells": [
  {
   "cell_type": "markdown",
   "metadata": {},
   "source": [
    "# EDA\n",
    "\n",
    "- data type\n",
    "- missing value、NA、empty\n",
    "- some cleaning\n",
    " \n",
    "\n",
    "\n"
   ]
  },
  {
   "cell_type": "markdown",
   "metadata": {},
   "source": [
    "各變數名詞:\n",
    "1. CO.GT.: CO濃度 mg/m^3\n",
    "2. PT08.S1.CO: 氧化錫濃度\n",
    "3. NMHC.GT: 非甲烷碳氫化合物\n",
    "4. C6H6.GT: 苯 mg/m^3\n",
    "5. PT08.S2.NMHC: 二氧化鈦\n",
    "6. NOx.GT: 氮氧化物 ppb\n",
    "7. PT08.S3.NOx: 氧化鎢\n",
    "8. NO2GT: 二氧化氮\n",
    "9. PT08.S4.NO2: 氧化鎢\n",
    "10. PT08.S5.O3: 氧化銦\n",
    "11. T: 溫度 C\n",
    "12. RH: 相對濕度\n",
    "\n",
    "13. AH: 絕對溼度"
   ]
  },
  {
   "cell_type": "code",
   "execution_count": null,
   "metadata": {},
   "outputs": [],
   "source": [
    "library(dplyr)\n",
    "airquality <- read.csv(\"AirQualityUCI.csv\",sep = \";\")"
   ]
  },
  {
   "cell_type": "code",
   "execution_count": 76,
   "metadata": {
    "collapsed": true
   },
   "outputs": [
    {
     "data": {
      "text/html": [
       "<table>\n",
       "<thead><tr><th></th><th scope=col>Date</th><th scope=col>Time</th><th scope=col>CO.GT.</th><th scope=col>PT08.S1.CO.</th><th scope=col>NMHC.GT.</th><th scope=col>C6H6.GT.</th><th scope=col>PT08.S2.NMHC.</th><th scope=col>NOx.GT.</th><th scope=col>PT08.S3.NOx.</th><th scope=col>NO2.GT.</th><th scope=col>PT08.S4.NO2.</th><th scope=col>PT08.S5.O3.</th><th scope=col>T</th><th scope=col>RH</th><th scope=col>AH</th><th scope=col>X</th><th scope=col>X.1</th></tr></thead>\n",
       "<tbody>\n",
       "\t<tr><th scope=row>9358</th><td>FALSE</td><td>FALSE</td><td>FALSE</td><td>TRUE </td><td>TRUE </td><td>FALSE</td><td>TRUE </td><td>TRUE </td><td>TRUE </td><td>TRUE </td><td>TRUE </td><td>TRUE </td><td>FALSE</td><td>FALSE</td><td>FALSE</td><td>TRUE </td><td>TRUE </td></tr>\n",
       "\t<tr><th scope=row>9359</th><td>FALSE</td><td>FALSE</td><td>FALSE</td><td>TRUE </td><td>TRUE </td><td>FALSE</td><td>TRUE </td><td>TRUE </td><td>TRUE </td><td>TRUE </td><td>TRUE </td><td>TRUE </td><td>FALSE</td><td>FALSE</td><td>FALSE</td><td>TRUE </td><td>TRUE </td></tr>\n",
       "\t<tr><th scope=row>9360</th><td>FALSE</td><td>FALSE</td><td>FALSE</td><td>TRUE </td><td>TRUE </td><td>FALSE</td><td>TRUE </td><td>TRUE </td><td>TRUE </td><td>TRUE </td><td>TRUE </td><td>TRUE </td><td>FALSE</td><td>FALSE</td><td>FALSE</td><td>TRUE </td><td>TRUE </td></tr>\n",
       "\t<tr><th scope=row>9361</th><td>FALSE</td><td>FALSE</td><td>FALSE</td><td>TRUE </td><td>TRUE </td><td>FALSE</td><td>TRUE </td><td>TRUE </td><td>TRUE </td><td>TRUE </td><td>TRUE </td><td>TRUE </td><td>FALSE</td><td>FALSE</td><td>FALSE</td><td>TRUE </td><td>TRUE </td></tr>\n",
       "\t<tr><th scope=row>9362</th><td>FALSE</td><td>FALSE</td><td>FALSE</td><td>TRUE </td><td>TRUE </td><td>FALSE</td><td>TRUE </td><td>TRUE </td><td>TRUE </td><td>TRUE </td><td>TRUE </td><td>TRUE </td><td>FALSE</td><td>FALSE</td><td>FALSE</td><td>TRUE </td><td>TRUE </td></tr>\n",
       "\t<tr><th scope=row>9363</th><td>FALSE</td><td>FALSE</td><td>FALSE</td><td>TRUE </td><td>TRUE </td><td>FALSE</td><td>TRUE </td><td>TRUE </td><td>TRUE </td><td>TRUE </td><td>TRUE </td><td>TRUE </td><td>FALSE</td><td>FALSE</td><td>FALSE</td><td>TRUE </td><td>TRUE </td></tr>\n",
       "\t<tr><th scope=row>9364</th><td>FALSE</td><td>FALSE</td><td>FALSE</td><td>TRUE </td><td>TRUE </td><td>FALSE</td><td>TRUE </td><td>TRUE </td><td>TRUE </td><td>TRUE </td><td>TRUE </td><td>TRUE </td><td>FALSE</td><td>FALSE</td><td>FALSE</td><td>TRUE </td><td>TRUE </td></tr>\n",
       "\t<tr><th scope=row>9365</th><td>FALSE</td><td>FALSE</td><td>FALSE</td><td>TRUE </td><td>TRUE </td><td>FALSE</td><td>TRUE </td><td>TRUE </td><td>TRUE </td><td>TRUE </td><td>TRUE </td><td>TRUE </td><td>FALSE</td><td>FALSE</td><td>FALSE</td><td>TRUE </td><td>TRUE </td></tr>\n",
       "\t<tr><th scope=row>9366</th><td>FALSE</td><td>FALSE</td><td>FALSE</td><td>TRUE </td><td>TRUE </td><td>FALSE</td><td>TRUE </td><td>TRUE </td><td>TRUE </td><td>TRUE </td><td>TRUE </td><td>TRUE </td><td>FALSE</td><td>FALSE</td><td>FALSE</td><td>TRUE </td><td>TRUE </td></tr>\n",
       "\t<tr><th scope=row>9367</th><td>FALSE</td><td>FALSE</td><td>FALSE</td><td>TRUE </td><td>TRUE </td><td>FALSE</td><td>TRUE </td><td>TRUE </td><td>TRUE </td><td>TRUE </td><td>TRUE </td><td>TRUE </td><td>FALSE</td><td>FALSE</td><td>FALSE</td><td>TRUE </td><td>TRUE </td></tr>\n",
       "\t<tr><th scope=row>9368</th><td>FALSE</td><td>FALSE</td><td>FALSE</td><td>TRUE </td><td>TRUE </td><td>FALSE</td><td>TRUE </td><td>TRUE </td><td>TRUE </td><td>TRUE </td><td>TRUE </td><td>TRUE </td><td>FALSE</td><td>FALSE</td><td>FALSE</td><td>TRUE </td><td>TRUE </td></tr>\n",
       "\t<tr><th scope=row>9369</th><td>FALSE</td><td>FALSE</td><td>FALSE</td><td>TRUE </td><td>TRUE </td><td>FALSE</td><td>TRUE </td><td>TRUE </td><td>TRUE </td><td>TRUE </td><td>TRUE </td><td>TRUE </td><td>FALSE</td><td>FALSE</td><td>FALSE</td><td>TRUE </td><td>TRUE </td></tr>\n",
       "\t<tr><th scope=row>9370</th><td>FALSE</td><td>FALSE</td><td>FALSE</td><td>TRUE </td><td>TRUE </td><td>FALSE</td><td>TRUE </td><td>TRUE </td><td>TRUE </td><td>TRUE </td><td>TRUE </td><td>TRUE </td><td>FALSE</td><td>FALSE</td><td>FALSE</td><td>TRUE </td><td>TRUE </td></tr>\n",
       "\t<tr><th scope=row>9371</th><td>FALSE</td><td>FALSE</td><td>FALSE</td><td>TRUE </td><td>TRUE </td><td>FALSE</td><td>TRUE </td><td>TRUE </td><td>TRUE </td><td>TRUE </td><td>TRUE </td><td>TRUE </td><td>FALSE</td><td>FALSE</td><td>FALSE</td><td>TRUE </td><td>TRUE </td></tr>\n",
       "\t<tr><th scope=row>9372</th><td>FALSE</td><td>FALSE</td><td>FALSE</td><td>TRUE </td><td>TRUE </td><td>FALSE</td><td>TRUE </td><td>TRUE </td><td>TRUE </td><td>TRUE </td><td>TRUE </td><td>TRUE </td><td>FALSE</td><td>FALSE</td><td>FALSE</td><td>TRUE </td><td>TRUE </td></tr>\n",
       "\t<tr><th scope=row>9373</th><td>FALSE</td><td>FALSE</td><td>FALSE</td><td>TRUE </td><td>TRUE </td><td>FALSE</td><td>TRUE </td><td>TRUE </td><td>TRUE </td><td>TRUE </td><td>TRUE </td><td>TRUE </td><td>FALSE</td><td>FALSE</td><td>FALSE</td><td>TRUE </td><td>TRUE </td></tr>\n",
       "\t<tr><th scope=row>9374</th><td>FALSE</td><td>FALSE</td><td>FALSE</td><td>TRUE </td><td>TRUE </td><td>FALSE</td><td>TRUE </td><td>TRUE </td><td>TRUE </td><td>TRUE </td><td>TRUE </td><td>TRUE </td><td>FALSE</td><td>FALSE</td><td>FALSE</td><td>TRUE </td><td>TRUE </td></tr>\n",
       "\t<tr><th scope=row>9375</th><td>FALSE</td><td>FALSE</td><td>FALSE</td><td>TRUE </td><td>TRUE </td><td>FALSE</td><td>TRUE </td><td>TRUE </td><td>TRUE </td><td>TRUE </td><td>TRUE </td><td>TRUE </td><td>FALSE</td><td>FALSE</td><td>FALSE</td><td>TRUE </td><td>TRUE </td></tr>\n",
       "\t<tr><th scope=row>9376</th><td>FALSE</td><td>FALSE</td><td>FALSE</td><td>TRUE </td><td>TRUE </td><td>FALSE</td><td>TRUE </td><td>TRUE </td><td>TRUE </td><td>TRUE </td><td>TRUE </td><td>TRUE </td><td>FALSE</td><td>FALSE</td><td>FALSE</td><td>TRUE </td><td>TRUE </td></tr>\n",
       "\t<tr><th scope=row>9377</th><td>FALSE</td><td>FALSE</td><td>FALSE</td><td>TRUE </td><td>TRUE </td><td>FALSE</td><td>TRUE </td><td>TRUE </td><td>TRUE </td><td>TRUE </td><td>TRUE </td><td>TRUE </td><td>FALSE</td><td>FALSE</td><td>FALSE</td><td>TRUE </td><td>TRUE </td></tr>\n",
       "\t<tr><th scope=row>9378</th><td>FALSE</td><td>FALSE</td><td>FALSE</td><td>TRUE </td><td>TRUE </td><td>FALSE</td><td>TRUE </td><td>TRUE </td><td>TRUE </td><td>TRUE </td><td>TRUE </td><td>TRUE </td><td>FALSE</td><td>FALSE</td><td>FALSE</td><td>TRUE </td><td>TRUE </td></tr>\n",
       "\t<tr><th scope=row>9379</th><td>FALSE</td><td>FALSE</td><td>FALSE</td><td>TRUE </td><td>TRUE </td><td>FALSE</td><td>TRUE </td><td>TRUE </td><td>TRUE </td><td>TRUE </td><td>TRUE </td><td>TRUE </td><td>FALSE</td><td>FALSE</td><td>FALSE</td><td>TRUE </td><td>TRUE </td></tr>\n",
       "\t<tr><th scope=row>9380</th><td>FALSE</td><td>FALSE</td><td>FALSE</td><td>TRUE </td><td>TRUE </td><td>FALSE</td><td>TRUE </td><td>TRUE </td><td>TRUE </td><td>TRUE </td><td>TRUE </td><td>TRUE </td><td>FALSE</td><td>FALSE</td><td>FALSE</td><td>TRUE </td><td>TRUE </td></tr>\n",
       "\t<tr><th scope=row>9381</th><td>FALSE</td><td>FALSE</td><td>FALSE</td><td>TRUE </td><td>TRUE </td><td>FALSE</td><td>TRUE </td><td>TRUE </td><td>TRUE </td><td>TRUE </td><td>TRUE </td><td>TRUE </td><td>FALSE</td><td>FALSE</td><td>FALSE</td><td>TRUE </td><td>TRUE </td></tr>\n",
       "\t<tr><th scope=row>9382</th><td>FALSE</td><td>FALSE</td><td>FALSE</td><td>TRUE </td><td>TRUE </td><td>FALSE</td><td>TRUE </td><td>TRUE </td><td>TRUE </td><td>TRUE </td><td>TRUE </td><td>TRUE </td><td>FALSE</td><td>FALSE</td><td>FALSE</td><td>TRUE </td><td>TRUE </td></tr>\n",
       "\t<tr><th scope=row>9383</th><td>FALSE</td><td>FALSE</td><td>FALSE</td><td>TRUE </td><td>TRUE </td><td>FALSE</td><td>TRUE </td><td>TRUE </td><td>TRUE </td><td>TRUE </td><td>TRUE </td><td>TRUE </td><td>FALSE</td><td>FALSE</td><td>FALSE</td><td>TRUE </td><td>TRUE </td></tr>\n",
       "\t<tr><th scope=row>9384</th><td>FALSE</td><td>FALSE</td><td>FALSE</td><td>TRUE </td><td>TRUE </td><td>FALSE</td><td>TRUE </td><td>TRUE </td><td>TRUE </td><td>TRUE </td><td>TRUE </td><td>TRUE </td><td>FALSE</td><td>FALSE</td><td>FALSE</td><td>TRUE </td><td>TRUE </td></tr>\n",
       "\t<tr><th scope=row>9385</th><td>FALSE</td><td>FALSE</td><td>FALSE</td><td>TRUE </td><td>TRUE </td><td>FALSE</td><td>TRUE </td><td>TRUE </td><td>TRUE </td><td>TRUE </td><td>TRUE </td><td>TRUE </td><td>FALSE</td><td>FALSE</td><td>FALSE</td><td>TRUE </td><td>TRUE </td></tr>\n",
       "\t<tr><th scope=row>9386</th><td>FALSE</td><td>FALSE</td><td>FALSE</td><td>TRUE </td><td>TRUE </td><td>FALSE</td><td>TRUE </td><td>TRUE </td><td>TRUE </td><td>TRUE </td><td>TRUE </td><td>TRUE </td><td>FALSE</td><td>FALSE</td><td>FALSE</td><td>TRUE </td><td>TRUE </td></tr>\n",
       "\t<tr><th scope=row>9387</th><td>FALSE</td><td>FALSE</td><td>FALSE</td><td>TRUE </td><td>TRUE </td><td>FALSE</td><td>TRUE </td><td>TRUE </td><td>TRUE </td><td>TRUE </td><td>TRUE </td><td>TRUE </td><td>FALSE</td><td>FALSE</td><td>FALSE</td><td>TRUE </td><td>TRUE </td></tr>\n",
       "\t<tr><th scope=row>...</th><td>...</td><td>...</td><td>...</td><td>...</td><td>...</td><td>...</td><td>...</td><td>...</td><td>...</td><td>...</td><td>...</td><td>...</td><td>...</td><td>...</td><td>...</td><td>...</td><td>...</td></tr>\n",
       "\t<tr><th scope=row>9442</th><td>FALSE</td><td>FALSE</td><td>FALSE</td><td>TRUE </td><td>TRUE </td><td>FALSE</td><td>TRUE </td><td>TRUE </td><td>TRUE </td><td>TRUE </td><td>TRUE </td><td>TRUE </td><td>FALSE</td><td>FALSE</td><td>FALSE</td><td>TRUE </td><td>TRUE </td></tr>\n",
       "\t<tr><th scope=row>9443</th><td>FALSE</td><td>FALSE</td><td>FALSE</td><td>TRUE </td><td>TRUE </td><td>FALSE</td><td>TRUE </td><td>TRUE </td><td>TRUE </td><td>TRUE </td><td>TRUE </td><td>TRUE </td><td>FALSE</td><td>FALSE</td><td>FALSE</td><td>TRUE </td><td>TRUE </td></tr>\n",
       "\t<tr><th scope=row>9444</th><td>FALSE</td><td>FALSE</td><td>FALSE</td><td>TRUE </td><td>TRUE </td><td>FALSE</td><td>TRUE </td><td>TRUE </td><td>TRUE </td><td>TRUE </td><td>TRUE </td><td>TRUE </td><td>FALSE</td><td>FALSE</td><td>FALSE</td><td>TRUE </td><td>TRUE </td></tr>\n",
       "\t<tr><th scope=row>9445</th><td>FALSE</td><td>FALSE</td><td>FALSE</td><td>TRUE </td><td>TRUE </td><td>FALSE</td><td>TRUE </td><td>TRUE </td><td>TRUE </td><td>TRUE </td><td>TRUE </td><td>TRUE </td><td>FALSE</td><td>FALSE</td><td>FALSE</td><td>TRUE </td><td>TRUE </td></tr>\n",
       "\t<tr><th scope=row>9446</th><td>FALSE</td><td>FALSE</td><td>FALSE</td><td>TRUE </td><td>TRUE </td><td>FALSE</td><td>TRUE </td><td>TRUE </td><td>TRUE </td><td>TRUE </td><td>TRUE </td><td>TRUE </td><td>FALSE</td><td>FALSE</td><td>FALSE</td><td>TRUE </td><td>TRUE </td></tr>\n",
       "\t<tr><th scope=row>9447</th><td>FALSE</td><td>FALSE</td><td>FALSE</td><td>TRUE </td><td>TRUE </td><td>FALSE</td><td>TRUE </td><td>TRUE </td><td>TRUE </td><td>TRUE </td><td>TRUE </td><td>TRUE </td><td>FALSE</td><td>FALSE</td><td>FALSE</td><td>TRUE </td><td>TRUE </td></tr>\n",
       "\t<tr><th scope=row>9448</th><td>FALSE</td><td>FALSE</td><td>FALSE</td><td>TRUE </td><td>TRUE </td><td>FALSE</td><td>TRUE </td><td>TRUE </td><td>TRUE </td><td>TRUE </td><td>TRUE </td><td>TRUE </td><td>FALSE</td><td>FALSE</td><td>FALSE</td><td>TRUE </td><td>TRUE </td></tr>\n",
       "\t<tr><th scope=row>9449</th><td>FALSE</td><td>FALSE</td><td>FALSE</td><td>TRUE </td><td>TRUE </td><td>FALSE</td><td>TRUE </td><td>TRUE </td><td>TRUE </td><td>TRUE </td><td>TRUE </td><td>TRUE </td><td>FALSE</td><td>FALSE</td><td>FALSE</td><td>TRUE </td><td>TRUE </td></tr>\n",
       "\t<tr><th scope=row>9450</th><td>FALSE</td><td>FALSE</td><td>FALSE</td><td>TRUE </td><td>TRUE </td><td>FALSE</td><td>TRUE </td><td>TRUE </td><td>TRUE </td><td>TRUE </td><td>TRUE </td><td>TRUE </td><td>FALSE</td><td>FALSE</td><td>FALSE</td><td>TRUE </td><td>TRUE </td></tr>\n",
       "\t<tr><th scope=row>9451</th><td>FALSE</td><td>FALSE</td><td>FALSE</td><td>TRUE </td><td>TRUE </td><td>FALSE</td><td>TRUE </td><td>TRUE </td><td>TRUE </td><td>TRUE </td><td>TRUE </td><td>TRUE </td><td>FALSE</td><td>FALSE</td><td>FALSE</td><td>TRUE </td><td>TRUE </td></tr>\n",
       "\t<tr><th scope=row>9452</th><td>FALSE</td><td>FALSE</td><td>FALSE</td><td>TRUE </td><td>TRUE </td><td>FALSE</td><td>TRUE </td><td>TRUE </td><td>TRUE </td><td>TRUE </td><td>TRUE </td><td>TRUE </td><td>FALSE</td><td>FALSE</td><td>FALSE</td><td>TRUE </td><td>TRUE </td></tr>\n",
       "\t<tr><th scope=row>9453</th><td>FALSE</td><td>FALSE</td><td>FALSE</td><td>TRUE </td><td>TRUE </td><td>FALSE</td><td>TRUE </td><td>TRUE </td><td>TRUE </td><td>TRUE </td><td>TRUE </td><td>TRUE </td><td>FALSE</td><td>FALSE</td><td>FALSE</td><td>TRUE </td><td>TRUE </td></tr>\n",
       "\t<tr><th scope=row>9454</th><td>FALSE</td><td>FALSE</td><td>FALSE</td><td>TRUE </td><td>TRUE </td><td>FALSE</td><td>TRUE </td><td>TRUE </td><td>TRUE </td><td>TRUE </td><td>TRUE </td><td>TRUE </td><td>FALSE</td><td>FALSE</td><td>FALSE</td><td>TRUE </td><td>TRUE </td></tr>\n",
       "\t<tr><th scope=row>9455</th><td>FALSE</td><td>FALSE</td><td>FALSE</td><td>TRUE </td><td>TRUE </td><td>FALSE</td><td>TRUE </td><td>TRUE </td><td>TRUE </td><td>TRUE </td><td>TRUE </td><td>TRUE </td><td>FALSE</td><td>FALSE</td><td>FALSE</td><td>TRUE </td><td>TRUE </td></tr>\n",
       "\t<tr><th scope=row>9456</th><td>FALSE</td><td>FALSE</td><td>FALSE</td><td>TRUE </td><td>TRUE </td><td>FALSE</td><td>TRUE </td><td>TRUE </td><td>TRUE </td><td>TRUE </td><td>TRUE </td><td>TRUE </td><td>FALSE</td><td>FALSE</td><td>FALSE</td><td>TRUE </td><td>TRUE </td></tr>\n",
       "\t<tr><th scope=row>9457</th><td>FALSE</td><td>FALSE</td><td>FALSE</td><td>TRUE </td><td>TRUE </td><td>FALSE</td><td>TRUE </td><td>TRUE </td><td>TRUE </td><td>TRUE </td><td>TRUE </td><td>TRUE </td><td>FALSE</td><td>FALSE</td><td>FALSE</td><td>TRUE </td><td>TRUE </td></tr>\n",
       "\t<tr><th scope=row>9458</th><td>FALSE</td><td>FALSE</td><td>FALSE</td><td>TRUE </td><td>TRUE </td><td>FALSE</td><td>TRUE </td><td>TRUE </td><td>TRUE </td><td>TRUE </td><td>TRUE </td><td>TRUE </td><td>FALSE</td><td>FALSE</td><td>FALSE</td><td>TRUE </td><td>TRUE </td></tr>\n",
       "\t<tr><th scope=row>9459</th><td>FALSE</td><td>FALSE</td><td>FALSE</td><td>TRUE </td><td>TRUE </td><td>FALSE</td><td>TRUE </td><td>TRUE </td><td>TRUE </td><td>TRUE </td><td>TRUE </td><td>TRUE </td><td>FALSE</td><td>FALSE</td><td>FALSE</td><td>TRUE </td><td>TRUE </td></tr>\n",
       "\t<tr><th scope=row>9460</th><td>FALSE</td><td>FALSE</td><td>FALSE</td><td>TRUE </td><td>TRUE </td><td>FALSE</td><td>TRUE </td><td>TRUE </td><td>TRUE </td><td>TRUE </td><td>TRUE </td><td>TRUE </td><td>FALSE</td><td>FALSE</td><td>FALSE</td><td>TRUE </td><td>TRUE </td></tr>\n",
       "\t<tr><th scope=row>9461</th><td>FALSE</td><td>FALSE</td><td>FALSE</td><td>TRUE </td><td>TRUE </td><td>FALSE</td><td>TRUE </td><td>TRUE </td><td>TRUE </td><td>TRUE </td><td>TRUE </td><td>TRUE </td><td>FALSE</td><td>FALSE</td><td>FALSE</td><td>TRUE </td><td>TRUE </td></tr>\n",
       "\t<tr><th scope=row>9462</th><td>FALSE</td><td>FALSE</td><td>FALSE</td><td>TRUE </td><td>TRUE </td><td>FALSE</td><td>TRUE </td><td>TRUE </td><td>TRUE </td><td>TRUE </td><td>TRUE </td><td>TRUE </td><td>FALSE</td><td>FALSE</td><td>FALSE</td><td>TRUE </td><td>TRUE </td></tr>\n",
       "\t<tr><th scope=row>9463</th><td>FALSE</td><td>FALSE</td><td>FALSE</td><td>TRUE </td><td>TRUE </td><td>FALSE</td><td>TRUE </td><td>TRUE </td><td>TRUE </td><td>TRUE </td><td>TRUE </td><td>TRUE </td><td>FALSE</td><td>FALSE</td><td>FALSE</td><td>TRUE </td><td>TRUE </td></tr>\n",
       "\t<tr><th scope=row>9464</th><td>FALSE</td><td>FALSE</td><td>FALSE</td><td>TRUE </td><td>TRUE </td><td>FALSE</td><td>TRUE </td><td>TRUE </td><td>TRUE </td><td>TRUE </td><td>TRUE </td><td>TRUE </td><td>FALSE</td><td>FALSE</td><td>FALSE</td><td>TRUE </td><td>TRUE </td></tr>\n",
       "\t<tr><th scope=row>9465</th><td>FALSE</td><td>FALSE</td><td>FALSE</td><td>TRUE </td><td>TRUE </td><td>FALSE</td><td>TRUE </td><td>TRUE </td><td>TRUE </td><td>TRUE </td><td>TRUE </td><td>TRUE </td><td>FALSE</td><td>FALSE</td><td>FALSE</td><td>TRUE </td><td>TRUE </td></tr>\n",
       "\t<tr><th scope=row>9466</th><td>FALSE</td><td>FALSE</td><td>FALSE</td><td>TRUE </td><td>TRUE </td><td>FALSE</td><td>TRUE </td><td>TRUE </td><td>TRUE </td><td>TRUE </td><td>TRUE </td><td>TRUE </td><td>FALSE</td><td>FALSE</td><td>FALSE</td><td>TRUE </td><td>TRUE </td></tr>\n",
       "\t<tr><th scope=row>9467</th><td>FALSE</td><td>FALSE</td><td>FALSE</td><td>TRUE </td><td>TRUE </td><td>FALSE</td><td>TRUE </td><td>TRUE </td><td>TRUE </td><td>TRUE </td><td>TRUE </td><td>TRUE </td><td>FALSE</td><td>FALSE</td><td>FALSE</td><td>TRUE </td><td>TRUE </td></tr>\n",
       "\t<tr><th scope=row>9468</th><td>FALSE</td><td>FALSE</td><td>FALSE</td><td>TRUE </td><td>TRUE </td><td>FALSE</td><td>TRUE </td><td>TRUE </td><td>TRUE </td><td>TRUE </td><td>TRUE </td><td>TRUE </td><td>FALSE</td><td>FALSE</td><td>FALSE</td><td>TRUE </td><td>TRUE </td></tr>\n",
       "\t<tr><th scope=row>9469</th><td>FALSE</td><td>FALSE</td><td>FALSE</td><td>TRUE </td><td>TRUE </td><td>FALSE</td><td>TRUE </td><td>TRUE </td><td>TRUE </td><td>TRUE </td><td>TRUE </td><td>TRUE </td><td>FALSE</td><td>FALSE</td><td>FALSE</td><td>TRUE </td><td>TRUE </td></tr>\n",
       "\t<tr><th scope=row>9470</th><td>FALSE</td><td>FALSE</td><td>FALSE</td><td>TRUE </td><td>TRUE </td><td>FALSE</td><td>TRUE </td><td>TRUE </td><td>TRUE </td><td>TRUE </td><td>TRUE </td><td>TRUE </td><td>FALSE</td><td>FALSE</td><td>FALSE</td><td>TRUE </td><td>TRUE </td></tr>\n",
       "\t<tr><th scope=row>9471</th><td>FALSE</td><td>FALSE</td><td>FALSE</td><td>TRUE </td><td>TRUE </td><td>FALSE</td><td>TRUE </td><td>TRUE </td><td>TRUE </td><td>TRUE </td><td>TRUE </td><td>TRUE </td><td>FALSE</td><td>FALSE</td><td>FALSE</td><td>TRUE </td><td>TRUE </td></tr>\n",
       "</tbody>\n",
       "</table>\n"
      ],
      "text/latex": [
       "\\begin{tabular}{r|lllllllllllllllll}\n",
       "  & Date & Time & CO.GT. & PT08.S1.CO. & NMHC.GT. & C6H6.GT. & PT08.S2.NMHC. & NOx.GT. & PT08.S3.NOx. & NO2.GT. & PT08.S4.NO2. & PT08.S5.O3. & T & RH & AH & X & X.1\\\\\n",
       "\\hline\n",
       "\t9358 & FALSE & FALSE & FALSE & TRUE  & TRUE  & FALSE & TRUE  & TRUE  & TRUE  & TRUE  & TRUE  & TRUE  & FALSE & FALSE & FALSE & TRUE  & TRUE \\\\\n",
       "\t9359 & FALSE & FALSE & FALSE & TRUE  & TRUE  & FALSE & TRUE  & TRUE  & TRUE  & TRUE  & TRUE  & TRUE  & FALSE & FALSE & FALSE & TRUE  & TRUE \\\\\n",
       "\t9360 & FALSE & FALSE & FALSE & TRUE  & TRUE  & FALSE & TRUE  & TRUE  & TRUE  & TRUE  & TRUE  & TRUE  & FALSE & FALSE & FALSE & TRUE  & TRUE \\\\\n",
       "\t9361 & FALSE & FALSE & FALSE & TRUE  & TRUE  & FALSE & TRUE  & TRUE  & TRUE  & TRUE  & TRUE  & TRUE  & FALSE & FALSE & FALSE & TRUE  & TRUE \\\\\n",
       "\t9362 & FALSE & FALSE & FALSE & TRUE  & TRUE  & FALSE & TRUE  & TRUE  & TRUE  & TRUE  & TRUE  & TRUE  & FALSE & FALSE & FALSE & TRUE  & TRUE \\\\\n",
       "\t9363 & FALSE & FALSE & FALSE & TRUE  & TRUE  & FALSE & TRUE  & TRUE  & TRUE  & TRUE  & TRUE  & TRUE  & FALSE & FALSE & FALSE & TRUE  & TRUE \\\\\n",
       "\t9364 & FALSE & FALSE & FALSE & TRUE  & TRUE  & FALSE & TRUE  & TRUE  & TRUE  & TRUE  & TRUE  & TRUE  & FALSE & FALSE & FALSE & TRUE  & TRUE \\\\\n",
       "\t9365 & FALSE & FALSE & FALSE & TRUE  & TRUE  & FALSE & TRUE  & TRUE  & TRUE  & TRUE  & TRUE  & TRUE  & FALSE & FALSE & FALSE & TRUE  & TRUE \\\\\n",
       "\t9366 & FALSE & FALSE & FALSE & TRUE  & TRUE  & FALSE & TRUE  & TRUE  & TRUE  & TRUE  & TRUE  & TRUE  & FALSE & FALSE & FALSE & TRUE  & TRUE \\\\\n",
       "\t9367 & FALSE & FALSE & FALSE & TRUE  & TRUE  & FALSE & TRUE  & TRUE  & TRUE  & TRUE  & TRUE  & TRUE  & FALSE & FALSE & FALSE & TRUE  & TRUE \\\\\n",
       "\t9368 & FALSE & FALSE & FALSE & TRUE  & TRUE  & FALSE & TRUE  & TRUE  & TRUE  & TRUE  & TRUE  & TRUE  & FALSE & FALSE & FALSE & TRUE  & TRUE \\\\\n",
       "\t9369 & FALSE & FALSE & FALSE & TRUE  & TRUE  & FALSE & TRUE  & TRUE  & TRUE  & TRUE  & TRUE  & TRUE  & FALSE & FALSE & FALSE & TRUE  & TRUE \\\\\n",
       "\t9370 & FALSE & FALSE & FALSE & TRUE  & TRUE  & FALSE & TRUE  & TRUE  & TRUE  & TRUE  & TRUE  & TRUE  & FALSE & FALSE & FALSE & TRUE  & TRUE \\\\\n",
       "\t9371 & FALSE & FALSE & FALSE & TRUE  & TRUE  & FALSE & TRUE  & TRUE  & TRUE  & TRUE  & TRUE  & TRUE  & FALSE & FALSE & FALSE & TRUE  & TRUE \\\\\n",
       "\t9372 & FALSE & FALSE & FALSE & TRUE  & TRUE  & FALSE & TRUE  & TRUE  & TRUE  & TRUE  & TRUE  & TRUE  & FALSE & FALSE & FALSE & TRUE  & TRUE \\\\\n",
       "\t9373 & FALSE & FALSE & FALSE & TRUE  & TRUE  & FALSE & TRUE  & TRUE  & TRUE  & TRUE  & TRUE  & TRUE  & FALSE & FALSE & FALSE & TRUE  & TRUE \\\\\n",
       "\t9374 & FALSE & FALSE & FALSE & TRUE  & TRUE  & FALSE & TRUE  & TRUE  & TRUE  & TRUE  & TRUE  & TRUE  & FALSE & FALSE & FALSE & TRUE  & TRUE \\\\\n",
       "\t9375 & FALSE & FALSE & FALSE & TRUE  & TRUE  & FALSE & TRUE  & TRUE  & TRUE  & TRUE  & TRUE  & TRUE  & FALSE & FALSE & FALSE & TRUE  & TRUE \\\\\n",
       "\t9376 & FALSE & FALSE & FALSE & TRUE  & TRUE  & FALSE & TRUE  & TRUE  & TRUE  & TRUE  & TRUE  & TRUE  & FALSE & FALSE & FALSE & TRUE  & TRUE \\\\\n",
       "\t9377 & FALSE & FALSE & FALSE & TRUE  & TRUE  & FALSE & TRUE  & TRUE  & TRUE  & TRUE  & TRUE  & TRUE  & FALSE & FALSE & FALSE & TRUE  & TRUE \\\\\n",
       "\t9378 & FALSE & FALSE & FALSE & TRUE  & TRUE  & FALSE & TRUE  & TRUE  & TRUE  & TRUE  & TRUE  & TRUE  & FALSE & FALSE & FALSE & TRUE  & TRUE \\\\\n",
       "\t9379 & FALSE & FALSE & FALSE & TRUE  & TRUE  & FALSE & TRUE  & TRUE  & TRUE  & TRUE  & TRUE  & TRUE  & FALSE & FALSE & FALSE & TRUE  & TRUE \\\\\n",
       "\t9380 & FALSE & FALSE & FALSE & TRUE  & TRUE  & FALSE & TRUE  & TRUE  & TRUE  & TRUE  & TRUE  & TRUE  & FALSE & FALSE & FALSE & TRUE  & TRUE \\\\\n",
       "\t9381 & FALSE & FALSE & FALSE & TRUE  & TRUE  & FALSE & TRUE  & TRUE  & TRUE  & TRUE  & TRUE  & TRUE  & FALSE & FALSE & FALSE & TRUE  & TRUE \\\\\n",
       "\t9382 & FALSE & FALSE & FALSE & TRUE  & TRUE  & FALSE & TRUE  & TRUE  & TRUE  & TRUE  & TRUE  & TRUE  & FALSE & FALSE & FALSE & TRUE  & TRUE \\\\\n",
       "\t9383 & FALSE & FALSE & FALSE & TRUE  & TRUE  & FALSE & TRUE  & TRUE  & TRUE  & TRUE  & TRUE  & TRUE  & FALSE & FALSE & FALSE & TRUE  & TRUE \\\\\n",
       "\t9384 & FALSE & FALSE & FALSE & TRUE  & TRUE  & FALSE & TRUE  & TRUE  & TRUE  & TRUE  & TRUE  & TRUE  & FALSE & FALSE & FALSE & TRUE  & TRUE \\\\\n",
       "\t9385 & FALSE & FALSE & FALSE & TRUE  & TRUE  & FALSE & TRUE  & TRUE  & TRUE  & TRUE  & TRUE  & TRUE  & FALSE & FALSE & FALSE & TRUE  & TRUE \\\\\n",
       "\t9386 & FALSE & FALSE & FALSE & TRUE  & TRUE  & FALSE & TRUE  & TRUE  & TRUE  & TRUE  & TRUE  & TRUE  & FALSE & FALSE & FALSE & TRUE  & TRUE \\\\\n",
       "\t9387 & FALSE & FALSE & FALSE & TRUE  & TRUE  & FALSE & TRUE  & TRUE  & TRUE  & TRUE  & TRUE  & TRUE  & FALSE & FALSE & FALSE & TRUE  & TRUE \\\\\n",
       "\t... & ... & ... & ... & ... & ... & ... & ... & ... & ... & ... & ... & ... & ... & ... & ... & ... & ...\\\\\n",
       "\t9442 & FALSE & FALSE & FALSE & TRUE  & TRUE  & FALSE & TRUE  & TRUE  & TRUE  & TRUE  & TRUE  & TRUE  & FALSE & FALSE & FALSE & TRUE  & TRUE \\\\\n",
       "\t9443 & FALSE & FALSE & FALSE & TRUE  & TRUE  & FALSE & TRUE  & TRUE  & TRUE  & TRUE  & TRUE  & TRUE  & FALSE & FALSE & FALSE & TRUE  & TRUE \\\\\n",
       "\t9444 & FALSE & FALSE & FALSE & TRUE  & TRUE  & FALSE & TRUE  & TRUE  & TRUE  & TRUE  & TRUE  & TRUE  & FALSE & FALSE & FALSE & TRUE  & TRUE \\\\\n",
       "\t9445 & FALSE & FALSE & FALSE & TRUE  & TRUE  & FALSE & TRUE  & TRUE  & TRUE  & TRUE  & TRUE  & TRUE  & FALSE & FALSE & FALSE & TRUE  & TRUE \\\\\n",
       "\t9446 & FALSE & FALSE & FALSE & TRUE  & TRUE  & FALSE & TRUE  & TRUE  & TRUE  & TRUE  & TRUE  & TRUE  & FALSE & FALSE & FALSE & TRUE  & TRUE \\\\\n",
       "\t9447 & FALSE & FALSE & FALSE & TRUE  & TRUE  & FALSE & TRUE  & TRUE  & TRUE  & TRUE  & TRUE  & TRUE  & FALSE & FALSE & FALSE & TRUE  & TRUE \\\\\n",
       "\t9448 & FALSE & FALSE & FALSE & TRUE  & TRUE  & FALSE & TRUE  & TRUE  & TRUE  & TRUE  & TRUE  & TRUE  & FALSE & FALSE & FALSE & TRUE  & TRUE \\\\\n",
       "\t9449 & FALSE & FALSE & FALSE & TRUE  & TRUE  & FALSE & TRUE  & TRUE  & TRUE  & TRUE  & TRUE  & TRUE  & FALSE & FALSE & FALSE & TRUE  & TRUE \\\\\n",
       "\t9450 & FALSE & FALSE & FALSE & TRUE  & TRUE  & FALSE & TRUE  & TRUE  & TRUE  & TRUE  & TRUE  & TRUE  & FALSE & FALSE & FALSE & TRUE  & TRUE \\\\\n",
       "\t9451 & FALSE & FALSE & FALSE & TRUE  & TRUE  & FALSE & TRUE  & TRUE  & TRUE  & TRUE  & TRUE  & TRUE  & FALSE & FALSE & FALSE & TRUE  & TRUE \\\\\n",
       "\t9452 & FALSE & FALSE & FALSE & TRUE  & TRUE  & FALSE & TRUE  & TRUE  & TRUE  & TRUE  & TRUE  & TRUE  & FALSE & FALSE & FALSE & TRUE  & TRUE \\\\\n",
       "\t9453 & FALSE & FALSE & FALSE & TRUE  & TRUE  & FALSE & TRUE  & TRUE  & TRUE  & TRUE  & TRUE  & TRUE  & FALSE & FALSE & FALSE & TRUE  & TRUE \\\\\n",
       "\t9454 & FALSE & FALSE & FALSE & TRUE  & TRUE  & FALSE & TRUE  & TRUE  & TRUE  & TRUE  & TRUE  & TRUE  & FALSE & FALSE & FALSE & TRUE  & TRUE \\\\\n",
       "\t9455 & FALSE & FALSE & FALSE & TRUE  & TRUE  & FALSE & TRUE  & TRUE  & TRUE  & TRUE  & TRUE  & TRUE  & FALSE & FALSE & FALSE & TRUE  & TRUE \\\\\n",
       "\t9456 & FALSE & FALSE & FALSE & TRUE  & TRUE  & FALSE & TRUE  & TRUE  & TRUE  & TRUE  & TRUE  & TRUE  & FALSE & FALSE & FALSE & TRUE  & TRUE \\\\\n",
       "\t9457 & FALSE & FALSE & FALSE & TRUE  & TRUE  & FALSE & TRUE  & TRUE  & TRUE  & TRUE  & TRUE  & TRUE  & FALSE & FALSE & FALSE & TRUE  & TRUE \\\\\n",
       "\t9458 & FALSE & FALSE & FALSE & TRUE  & TRUE  & FALSE & TRUE  & TRUE  & TRUE  & TRUE  & TRUE  & TRUE  & FALSE & FALSE & FALSE & TRUE  & TRUE \\\\\n",
       "\t9459 & FALSE & FALSE & FALSE & TRUE  & TRUE  & FALSE & TRUE  & TRUE  & TRUE  & TRUE  & TRUE  & TRUE  & FALSE & FALSE & FALSE & TRUE  & TRUE \\\\\n",
       "\t9460 & FALSE & FALSE & FALSE & TRUE  & TRUE  & FALSE & TRUE  & TRUE  & TRUE  & TRUE  & TRUE  & TRUE  & FALSE & FALSE & FALSE & TRUE  & TRUE \\\\\n",
       "\t9461 & FALSE & FALSE & FALSE & TRUE  & TRUE  & FALSE & TRUE  & TRUE  & TRUE  & TRUE  & TRUE  & TRUE  & FALSE & FALSE & FALSE & TRUE  & TRUE \\\\\n",
       "\t9462 & FALSE & FALSE & FALSE & TRUE  & TRUE  & FALSE & TRUE  & TRUE  & TRUE  & TRUE  & TRUE  & TRUE  & FALSE & FALSE & FALSE & TRUE  & TRUE \\\\\n",
       "\t9463 & FALSE & FALSE & FALSE & TRUE  & TRUE  & FALSE & TRUE  & TRUE  & TRUE  & TRUE  & TRUE  & TRUE  & FALSE & FALSE & FALSE & TRUE  & TRUE \\\\\n",
       "\t9464 & FALSE & FALSE & FALSE & TRUE  & TRUE  & FALSE & TRUE  & TRUE  & TRUE  & TRUE  & TRUE  & TRUE  & FALSE & FALSE & FALSE & TRUE  & TRUE \\\\\n",
       "\t9465 & FALSE & FALSE & FALSE & TRUE  & TRUE  & FALSE & TRUE  & TRUE  & TRUE  & TRUE  & TRUE  & TRUE  & FALSE & FALSE & FALSE & TRUE  & TRUE \\\\\n",
       "\t9466 & FALSE & FALSE & FALSE & TRUE  & TRUE  & FALSE & TRUE  & TRUE  & TRUE  & TRUE  & TRUE  & TRUE  & FALSE & FALSE & FALSE & TRUE  & TRUE \\\\\n",
       "\t9467 & FALSE & FALSE & FALSE & TRUE  & TRUE  & FALSE & TRUE  & TRUE  & TRUE  & TRUE  & TRUE  & TRUE  & FALSE & FALSE & FALSE & TRUE  & TRUE \\\\\n",
       "\t9468 & FALSE & FALSE & FALSE & TRUE  & TRUE  & FALSE & TRUE  & TRUE  & TRUE  & TRUE  & TRUE  & TRUE  & FALSE & FALSE & FALSE & TRUE  & TRUE \\\\\n",
       "\t9469 & FALSE & FALSE & FALSE & TRUE  & TRUE  & FALSE & TRUE  & TRUE  & TRUE  & TRUE  & TRUE  & TRUE  & FALSE & FALSE & FALSE & TRUE  & TRUE \\\\\n",
       "\t9470 & FALSE & FALSE & FALSE & TRUE  & TRUE  & FALSE & TRUE  & TRUE  & TRUE  & TRUE  & TRUE  & TRUE  & FALSE & FALSE & FALSE & TRUE  & TRUE \\\\\n",
       "\t9471 & FALSE & FALSE & FALSE & TRUE  & TRUE  & FALSE & TRUE  & TRUE  & TRUE  & TRUE  & TRUE  & TRUE  & FALSE & FALSE & FALSE & TRUE  & TRUE \\\\\n",
       "\\end{tabular}\n"
      ],
      "text/markdown": [
       "\n",
       "| <!--/--> | Date | Time | CO.GT. | PT08.S1.CO. | NMHC.GT. | C6H6.GT. | PT08.S2.NMHC. | NOx.GT. | PT08.S3.NOx. | NO2.GT. | PT08.S4.NO2. | PT08.S5.O3. | T | RH | AH | X | X.1 | \n",
       "|---|---|---|---|---|---|---|---|---|---|---|---|---|---|---|---|---|---|---|---|---|---|---|---|---|---|---|---|---|---|---|---|---|---|---|---|---|---|---|---|---|---|---|---|---|---|---|---|---|---|---|---|---|---|---|---|---|---|---|---|---|\n",
       "| 9358 | FALSE | FALSE | FALSE | TRUE  | TRUE  | FALSE | TRUE  | TRUE  | TRUE  | TRUE  | TRUE  | TRUE  | FALSE | FALSE | FALSE | TRUE  | TRUE  | \n",
       "| 9359 | FALSE | FALSE | FALSE | TRUE  | TRUE  | FALSE | TRUE  | TRUE  | TRUE  | TRUE  | TRUE  | TRUE  | FALSE | FALSE | FALSE | TRUE  | TRUE  | \n",
       "| 9360 | FALSE | FALSE | FALSE | TRUE  | TRUE  | FALSE | TRUE  | TRUE  | TRUE  | TRUE  | TRUE  | TRUE  | FALSE | FALSE | FALSE | TRUE  | TRUE  | \n",
       "| 9361 | FALSE | FALSE | FALSE | TRUE  | TRUE  | FALSE | TRUE  | TRUE  | TRUE  | TRUE  | TRUE  | TRUE  | FALSE | FALSE | FALSE | TRUE  | TRUE  | \n",
       "| 9362 | FALSE | FALSE | FALSE | TRUE  | TRUE  | FALSE | TRUE  | TRUE  | TRUE  | TRUE  | TRUE  | TRUE  | FALSE | FALSE | FALSE | TRUE  | TRUE  | \n",
       "| 9363 | FALSE | FALSE | FALSE | TRUE  | TRUE  | FALSE | TRUE  | TRUE  | TRUE  | TRUE  | TRUE  | TRUE  | FALSE | FALSE | FALSE | TRUE  | TRUE  | \n",
       "| 9364 | FALSE | FALSE | FALSE | TRUE  | TRUE  | FALSE | TRUE  | TRUE  | TRUE  | TRUE  | TRUE  | TRUE  | FALSE | FALSE | FALSE | TRUE  | TRUE  | \n",
       "| 9365 | FALSE | FALSE | FALSE | TRUE  | TRUE  | FALSE | TRUE  | TRUE  | TRUE  | TRUE  | TRUE  | TRUE  | FALSE | FALSE | FALSE | TRUE  | TRUE  | \n",
       "| 9366 | FALSE | FALSE | FALSE | TRUE  | TRUE  | FALSE | TRUE  | TRUE  | TRUE  | TRUE  | TRUE  | TRUE  | FALSE | FALSE | FALSE | TRUE  | TRUE  | \n",
       "| 9367 | FALSE | FALSE | FALSE | TRUE  | TRUE  | FALSE | TRUE  | TRUE  | TRUE  | TRUE  | TRUE  | TRUE  | FALSE | FALSE | FALSE | TRUE  | TRUE  | \n",
       "| 9368 | FALSE | FALSE | FALSE | TRUE  | TRUE  | FALSE | TRUE  | TRUE  | TRUE  | TRUE  | TRUE  | TRUE  | FALSE | FALSE | FALSE | TRUE  | TRUE  | \n",
       "| 9369 | FALSE | FALSE | FALSE | TRUE  | TRUE  | FALSE | TRUE  | TRUE  | TRUE  | TRUE  | TRUE  | TRUE  | FALSE | FALSE | FALSE | TRUE  | TRUE  | \n",
       "| 9370 | FALSE | FALSE | FALSE | TRUE  | TRUE  | FALSE | TRUE  | TRUE  | TRUE  | TRUE  | TRUE  | TRUE  | FALSE | FALSE | FALSE | TRUE  | TRUE  | \n",
       "| 9371 | FALSE | FALSE | FALSE | TRUE  | TRUE  | FALSE | TRUE  | TRUE  | TRUE  | TRUE  | TRUE  | TRUE  | FALSE | FALSE | FALSE | TRUE  | TRUE  | \n",
       "| 9372 | FALSE | FALSE | FALSE | TRUE  | TRUE  | FALSE | TRUE  | TRUE  | TRUE  | TRUE  | TRUE  | TRUE  | FALSE | FALSE | FALSE | TRUE  | TRUE  | \n",
       "| 9373 | FALSE | FALSE | FALSE | TRUE  | TRUE  | FALSE | TRUE  | TRUE  | TRUE  | TRUE  | TRUE  | TRUE  | FALSE | FALSE | FALSE | TRUE  | TRUE  | \n",
       "| 9374 | FALSE | FALSE | FALSE | TRUE  | TRUE  | FALSE | TRUE  | TRUE  | TRUE  | TRUE  | TRUE  | TRUE  | FALSE | FALSE | FALSE | TRUE  | TRUE  | \n",
       "| 9375 | FALSE | FALSE | FALSE | TRUE  | TRUE  | FALSE | TRUE  | TRUE  | TRUE  | TRUE  | TRUE  | TRUE  | FALSE | FALSE | FALSE | TRUE  | TRUE  | \n",
       "| 9376 | FALSE | FALSE | FALSE | TRUE  | TRUE  | FALSE | TRUE  | TRUE  | TRUE  | TRUE  | TRUE  | TRUE  | FALSE | FALSE | FALSE | TRUE  | TRUE  | \n",
       "| 9377 | FALSE | FALSE | FALSE | TRUE  | TRUE  | FALSE | TRUE  | TRUE  | TRUE  | TRUE  | TRUE  | TRUE  | FALSE | FALSE | FALSE | TRUE  | TRUE  | \n",
       "| 9378 | FALSE | FALSE | FALSE | TRUE  | TRUE  | FALSE | TRUE  | TRUE  | TRUE  | TRUE  | TRUE  | TRUE  | FALSE | FALSE | FALSE | TRUE  | TRUE  | \n",
       "| 9379 | FALSE | FALSE | FALSE | TRUE  | TRUE  | FALSE | TRUE  | TRUE  | TRUE  | TRUE  | TRUE  | TRUE  | FALSE | FALSE | FALSE | TRUE  | TRUE  | \n",
       "| 9380 | FALSE | FALSE | FALSE | TRUE  | TRUE  | FALSE | TRUE  | TRUE  | TRUE  | TRUE  | TRUE  | TRUE  | FALSE | FALSE | FALSE | TRUE  | TRUE  | \n",
       "| 9381 | FALSE | FALSE | FALSE | TRUE  | TRUE  | FALSE | TRUE  | TRUE  | TRUE  | TRUE  | TRUE  | TRUE  | FALSE | FALSE | FALSE | TRUE  | TRUE  | \n",
       "| 9382 | FALSE | FALSE | FALSE | TRUE  | TRUE  | FALSE | TRUE  | TRUE  | TRUE  | TRUE  | TRUE  | TRUE  | FALSE | FALSE | FALSE | TRUE  | TRUE  | \n",
       "| 9383 | FALSE | FALSE | FALSE | TRUE  | TRUE  | FALSE | TRUE  | TRUE  | TRUE  | TRUE  | TRUE  | TRUE  | FALSE | FALSE | FALSE | TRUE  | TRUE  | \n",
       "| 9384 | FALSE | FALSE | FALSE | TRUE  | TRUE  | FALSE | TRUE  | TRUE  | TRUE  | TRUE  | TRUE  | TRUE  | FALSE | FALSE | FALSE | TRUE  | TRUE  | \n",
       "| 9385 | FALSE | FALSE | FALSE | TRUE  | TRUE  | FALSE | TRUE  | TRUE  | TRUE  | TRUE  | TRUE  | TRUE  | FALSE | FALSE | FALSE | TRUE  | TRUE  | \n",
       "| 9386 | FALSE | FALSE | FALSE | TRUE  | TRUE  | FALSE | TRUE  | TRUE  | TRUE  | TRUE  | TRUE  | TRUE  | FALSE | FALSE | FALSE | TRUE  | TRUE  | \n",
       "| 9387 | FALSE | FALSE | FALSE | TRUE  | TRUE  | FALSE | TRUE  | TRUE  | TRUE  | TRUE  | TRUE  | TRUE  | FALSE | FALSE | FALSE | TRUE  | TRUE  | \n",
       "| ... | ... | ... | ... | ... | ... | ... | ... | ... | ... | ... | ... | ... | ... | ... | ... | ... | ... | \n",
       "| 9442 | FALSE | FALSE | FALSE | TRUE  | TRUE  | FALSE | TRUE  | TRUE  | TRUE  | TRUE  | TRUE  | TRUE  | FALSE | FALSE | FALSE | TRUE  | TRUE  | \n",
       "| 9443 | FALSE | FALSE | FALSE | TRUE  | TRUE  | FALSE | TRUE  | TRUE  | TRUE  | TRUE  | TRUE  | TRUE  | FALSE | FALSE | FALSE | TRUE  | TRUE  | \n",
       "| 9444 | FALSE | FALSE | FALSE | TRUE  | TRUE  | FALSE | TRUE  | TRUE  | TRUE  | TRUE  | TRUE  | TRUE  | FALSE | FALSE | FALSE | TRUE  | TRUE  | \n",
       "| 9445 | FALSE | FALSE | FALSE | TRUE  | TRUE  | FALSE | TRUE  | TRUE  | TRUE  | TRUE  | TRUE  | TRUE  | FALSE | FALSE | FALSE | TRUE  | TRUE  | \n",
       "| 9446 | FALSE | FALSE | FALSE | TRUE  | TRUE  | FALSE | TRUE  | TRUE  | TRUE  | TRUE  | TRUE  | TRUE  | FALSE | FALSE | FALSE | TRUE  | TRUE  | \n",
       "| 9447 | FALSE | FALSE | FALSE | TRUE  | TRUE  | FALSE | TRUE  | TRUE  | TRUE  | TRUE  | TRUE  | TRUE  | FALSE | FALSE | FALSE | TRUE  | TRUE  | \n",
       "| 9448 | FALSE | FALSE | FALSE | TRUE  | TRUE  | FALSE | TRUE  | TRUE  | TRUE  | TRUE  | TRUE  | TRUE  | FALSE | FALSE | FALSE | TRUE  | TRUE  | \n",
       "| 9449 | FALSE | FALSE | FALSE | TRUE  | TRUE  | FALSE | TRUE  | TRUE  | TRUE  | TRUE  | TRUE  | TRUE  | FALSE | FALSE | FALSE | TRUE  | TRUE  | \n",
       "| 9450 | FALSE | FALSE | FALSE | TRUE  | TRUE  | FALSE | TRUE  | TRUE  | TRUE  | TRUE  | TRUE  | TRUE  | FALSE | FALSE | FALSE | TRUE  | TRUE  | \n",
       "| 9451 | FALSE | FALSE | FALSE | TRUE  | TRUE  | FALSE | TRUE  | TRUE  | TRUE  | TRUE  | TRUE  | TRUE  | FALSE | FALSE | FALSE | TRUE  | TRUE  | \n",
       "| 9452 | FALSE | FALSE | FALSE | TRUE  | TRUE  | FALSE | TRUE  | TRUE  | TRUE  | TRUE  | TRUE  | TRUE  | FALSE | FALSE | FALSE | TRUE  | TRUE  | \n",
       "| 9453 | FALSE | FALSE | FALSE | TRUE  | TRUE  | FALSE | TRUE  | TRUE  | TRUE  | TRUE  | TRUE  | TRUE  | FALSE | FALSE | FALSE | TRUE  | TRUE  | \n",
       "| 9454 | FALSE | FALSE | FALSE | TRUE  | TRUE  | FALSE | TRUE  | TRUE  | TRUE  | TRUE  | TRUE  | TRUE  | FALSE | FALSE | FALSE | TRUE  | TRUE  | \n",
       "| 9455 | FALSE | FALSE | FALSE | TRUE  | TRUE  | FALSE | TRUE  | TRUE  | TRUE  | TRUE  | TRUE  | TRUE  | FALSE | FALSE | FALSE | TRUE  | TRUE  | \n",
       "| 9456 | FALSE | FALSE | FALSE | TRUE  | TRUE  | FALSE | TRUE  | TRUE  | TRUE  | TRUE  | TRUE  | TRUE  | FALSE | FALSE | FALSE | TRUE  | TRUE  | \n",
       "| 9457 | FALSE | FALSE | FALSE | TRUE  | TRUE  | FALSE | TRUE  | TRUE  | TRUE  | TRUE  | TRUE  | TRUE  | FALSE | FALSE | FALSE | TRUE  | TRUE  | \n",
       "| 9458 | FALSE | FALSE | FALSE | TRUE  | TRUE  | FALSE | TRUE  | TRUE  | TRUE  | TRUE  | TRUE  | TRUE  | FALSE | FALSE | FALSE | TRUE  | TRUE  | \n",
       "| 9459 | FALSE | FALSE | FALSE | TRUE  | TRUE  | FALSE | TRUE  | TRUE  | TRUE  | TRUE  | TRUE  | TRUE  | FALSE | FALSE | FALSE | TRUE  | TRUE  | \n",
       "| 9460 | FALSE | FALSE | FALSE | TRUE  | TRUE  | FALSE | TRUE  | TRUE  | TRUE  | TRUE  | TRUE  | TRUE  | FALSE | FALSE | FALSE | TRUE  | TRUE  | \n",
       "| 9461 | FALSE | FALSE | FALSE | TRUE  | TRUE  | FALSE | TRUE  | TRUE  | TRUE  | TRUE  | TRUE  | TRUE  | FALSE | FALSE | FALSE | TRUE  | TRUE  | \n",
       "| 9462 | FALSE | FALSE | FALSE | TRUE  | TRUE  | FALSE | TRUE  | TRUE  | TRUE  | TRUE  | TRUE  | TRUE  | FALSE | FALSE | FALSE | TRUE  | TRUE  | \n",
       "| 9463 | FALSE | FALSE | FALSE | TRUE  | TRUE  | FALSE | TRUE  | TRUE  | TRUE  | TRUE  | TRUE  | TRUE  | FALSE | FALSE | FALSE | TRUE  | TRUE  | \n",
       "| 9464 | FALSE | FALSE | FALSE | TRUE  | TRUE  | FALSE | TRUE  | TRUE  | TRUE  | TRUE  | TRUE  | TRUE  | FALSE | FALSE | FALSE | TRUE  | TRUE  | \n",
       "| 9465 | FALSE | FALSE | FALSE | TRUE  | TRUE  | FALSE | TRUE  | TRUE  | TRUE  | TRUE  | TRUE  | TRUE  | FALSE | FALSE | FALSE | TRUE  | TRUE  | \n",
       "| 9466 | FALSE | FALSE | FALSE | TRUE  | TRUE  | FALSE | TRUE  | TRUE  | TRUE  | TRUE  | TRUE  | TRUE  | FALSE | FALSE | FALSE | TRUE  | TRUE  | \n",
       "| 9467 | FALSE | FALSE | FALSE | TRUE  | TRUE  | FALSE | TRUE  | TRUE  | TRUE  | TRUE  | TRUE  | TRUE  | FALSE | FALSE | FALSE | TRUE  | TRUE  | \n",
       "| 9468 | FALSE | FALSE | FALSE | TRUE  | TRUE  | FALSE | TRUE  | TRUE  | TRUE  | TRUE  | TRUE  | TRUE  | FALSE | FALSE | FALSE | TRUE  | TRUE  | \n",
       "| 9469 | FALSE | FALSE | FALSE | TRUE  | TRUE  | FALSE | TRUE  | TRUE  | TRUE  | TRUE  | TRUE  | TRUE  | FALSE | FALSE | FALSE | TRUE  | TRUE  | \n",
       "| 9470 | FALSE | FALSE | FALSE | TRUE  | TRUE  | FALSE | TRUE  | TRUE  | TRUE  | TRUE  | TRUE  | TRUE  | FALSE | FALSE | FALSE | TRUE  | TRUE  | \n",
       "| 9471 | FALSE | FALSE | FALSE | TRUE  | TRUE  | FALSE | TRUE  | TRUE  | TRUE  | TRUE  | TRUE  | TRUE  | FALSE | FALSE | FALSE | TRUE  | TRUE  | \n",
       "\n",
       "\n"
      ],
      "text/plain": [
       "     Date  Time  CO.GT. PT08.S1.CO. NMHC.GT. C6H6.GT. PT08.S2.NMHC. NOx.GT.\n",
       "9358 FALSE FALSE FALSE  TRUE        TRUE     FALSE    TRUE          TRUE   \n",
       "9359 FALSE FALSE FALSE  TRUE        TRUE     FALSE    TRUE          TRUE   \n",
       "9360 FALSE FALSE FALSE  TRUE        TRUE     FALSE    TRUE          TRUE   \n",
       "9361 FALSE FALSE FALSE  TRUE        TRUE     FALSE    TRUE          TRUE   \n",
       "9362 FALSE FALSE FALSE  TRUE        TRUE     FALSE    TRUE          TRUE   \n",
       "9363 FALSE FALSE FALSE  TRUE        TRUE     FALSE    TRUE          TRUE   \n",
       "9364 FALSE FALSE FALSE  TRUE        TRUE     FALSE    TRUE          TRUE   \n",
       "9365 FALSE FALSE FALSE  TRUE        TRUE     FALSE    TRUE          TRUE   \n",
       "9366 FALSE FALSE FALSE  TRUE        TRUE     FALSE    TRUE          TRUE   \n",
       "9367 FALSE FALSE FALSE  TRUE        TRUE     FALSE    TRUE          TRUE   \n",
       "9368 FALSE FALSE FALSE  TRUE        TRUE     FALSE    TRUE          TRUE   \n",
       "9369 FALSE FALSE FALSE  TRUE        TRUE     FALSE    TRUE          TRUE   \n",
       "9370 FALSE FALSE FALSE  TRUE        TRUE     FALSE    TRUE          TRUE   \n",
       "9371 FALSE FALSE FALSE  TRUE        TRUE     FALSE    TRUE          TRUE   \n",
       "9372 FALSE FALSE FALSE  TRUE        TRUE     FALSE    TRUE          TRUE   \n",
       "9373 FALSE FALSE FALSE  TRUE        TRUE     FALSE    TRUE          TRUE   \n",
       "9374 FALSE FALSE FALSE  TRUE        TRUE     FALSE    TRUE          TRUE   \n",
       "9375 FALSE FALSE FALSE  TRUE        TRUE     FALSE    TRUE          TRUE   \n",
       "9376 FALSE FALSE FALSE  TRUE        TRUE     FALSE    TRUE          TRUE   \n",
       "9377 FALSE FALSE FALSE  TRUE        TRUE     FALSE    TRUE          TRUE   \n",
       "9378 FALSE FALSE FALSE  TRUE        TRUE     FALSE    TRUE          TRUE   \n",
       "9379 FALSE FALSE FALSE  TRUE        TRUE     FALSE    TRUE          TRUE   \n",
       "9380 FALSE FALSE FALSE  TRUE        TRUE     FALSE    TRUE          TRUE   \n",
       "9381 FALSE FALSE FALSE  TRUE        TRUE     FALSE    TRUE          TRUE   \n",
       "9382 FALSE FALSE FALSE  TRUE        TRUE     FALSE    TRUE          TRUE   \n",
       "9383 FALSE FALSE FALSE  TRUE        TRUE     FALSE    TRUE          TRUE   \n",
       "9384 FALSE FALSE FALSE  TRUE        TRUE     FALSE    TRUE          TRUE   \n",
       "9385 FALSE FALSE FALSE  TRUE        TRUE     FALSE    TRUE          TRUE   \n",
       "9386 FALSE FALSE FALSE  TRUE        TRUE     FALSE    TRUE          TRUE   \n",
       "9387 FALSE FALSE FALSE  TRUE        TRUE     FALSE    TRUE          TRUE   \n",
       "...  ...   ...   ...    ...         ...      ...      ...           ...    \n",
       "9442 FALSE FALSE FALSE  TRUE        TRUE     FALSE    TRUE          TRUE   \n",
       "9443 FALSE FALSE FALSE  TRUE        TRUE     FALSE    TRUE          TRUE   \n",
       "9444 FALSE FALSE FALSE  TRUE        TRUE     FALSE    TRUE          TRUE   \n",
       "9445 FALSE FALSE FALSE  TRUE        TRUE     FALSE    TRUE          TRUE   \n",
       "9446 FALSE FALSE FALSE  TRUE        TRUE     FALSE    TRUE          TRUE   \n",
       "9447 FALSE FALSE FALSE  TRUE        TRUE     FALSE    TRUE          TRUE   \n",
       "9448 FALSE FALSE FALSE  TRUE        TRUE     FALSE    TRUE          TRUE   \n",
       "9449 FALSE FALSE FALSE  TRUE        TRUE     FALSE    TRUE          TRUE   \n",
       "9450 FALSE FALSE FALSE  TRUE        TRUE     FALSE    TRUE          TRUE   \n",
       "9451 FALSE FALSE FALSE  TRUE        TRUE     FALSE    TRUE          TRUE   \n",
       "9452 FALSE FALSE FALSE  TRUE        TRUE     FALSE    TRUE          TRUE   \n",
       "9453 FALSE FALSE FALSE  TRUE        TRUE     FALSE    TRUE          TRUE   \n",
       "9454 FALSE FALSE FALSE  TRUE        TRUE     FALSE    TRUE          TRUE   \n",
       "9455 FALSE FALSE FALSE  TRUE        TRUE     FALSE    TRUE          TRUE   \n",
       "9456 FALSE FALSE FALSE  TRUE        TRUE     FALSE    TRUE          TRUE   \n",
       "9457 FALSE FALSE FALSE  TRUE        TRUE     FALSE    TRUE          TRUE   \n",
       "9458 FALSE FALSE FALSE  TRUE        TRUE     FALSE    TRUE          TRUE   \n",
       "9459 FALSE FALSE FALSE  TRUE        TRUE     FALSE    TRUE          TRUE   \n",
       "9460 FALSE FALSE FALSE  TRUE        TRUE     FALSE    TRUE          TRUE   \n",
       "9461 FALSE FALSE FALSE  TRUE        TRUE     FALSE    TRUE          TRUE   \n",
       "9462 FALSE FALSE FALSE  TRUE        TRUE     FALSE    TRUE          TRUE   \n",
       "9463 FALSE FALSE FALSE  TRUE        TRUE     FALSE    TRUE          TRUE   \n",
       "9464 FALSE FALSE FALSE  TRUE        TRUE     FALSE    TRUE          TRUE   \n",
       "9465 FALSE FALSE FALSE  TRUE        TRUE     FALSE    TRUE          TRUE   \n",
       "9466 FALSE FALSE FALSE  TRUE        TRUE     FALSE    TRUE          TRUE   \n",
       "9467 FALSE FALSE FALSE  TRUE        TRUE     FALSE    TRUE          TRUE   \n",
       "9468 FALSE FALSE FALSE  TRUE        TRUE     FALSE    TRUE          TRUE   \n",
       "9469 FALSE FALSE FALSE  TRUE        TRUE     FALSE    TRUE          TRUE   \n",
       "9470 FALSE FALSE FALSE  TRUE        TRUE     FALSE    TRUE          TRUE   \n",
       "9471 FALSE FALSE FALSE  TRUE        TRUE     FALSE    TRUE          TRUE   \n",
       "     PT08.S3.NOx. NO2.GT. PT08.S4.NO2. PT08.S5.O3. T     RH    AH    X    X.1 \n",
       "9358 TRUE         TRUE    TRUE         TRUE        FALSE FALSE FALSE TRUE TRUE\n",
       "9359 TRUE         TRUE    TRUE         TRUE        FALSE FALSE FALSE TRUE TRUE\n",
       "9360 TRUE         TRUE    TRUE         TRUE        FALSE FALSE FALSE TRUE TRUE\n",
       "9361 TRUE         TRUE    TRUE         TRUE        FALSE FALSE FALSE TRUE TRUE\n",
       "9362 TRUE         TRUE    TRUE         TRUE        FALSE FALSE FALSE TRUE TRUE\n",
       "9363 TRUE         TRUE    TRUE         TRUE        FALSE FALSE FALSE TRUE TRUE\n",
       "9364 TRUE         TRUE    TRUE         TRUE        FALSE FALSE FALSE TRUE TRUE\n",
       "9365 TRUE         TRUE    TRUE         TRUE        FALSE FALSE FALSE TRUE TRUE\n",
       "9366 TRUE         TRUE    TRUE         TRUE        FALSE FALSE FALSE TRUE TRUE\n",
       "9367 TRUE         TRUE    TRUE         TRUE        FALSE FALSE FALSE TRUE TRUE\n",
       "9368 TRUE         TRUE    TRUE         TRUE        FALSE FALSE FALSE TRUE TRUE\n",
       "9369 TRUE         TRUE    TRUE         TRUE        FALSE FALSE FALSE TRUE TRUE\n",
       "9370 TRUE         TRUE    TRUE         TRUE        FALSE FALSE FALSE TRUE TRUE\n",
       "9371 TRUE         TRUE    TRUE         TRUE        FALSE FALSE FALSE TRUE TRUE\n",
       "9372 TRUE         TRUE    TRUE         TRUE        FALSE FALSE FALSE TRUE TRUE\n",
       "9373 TRUE         TRUE    TRUE         TRUE        FALSE FALSE FALSE TRUE TRUE\n",
       "9374 TRUE         TRUE    TRUE         TRUE        FALSE FALSE FALSE TRUE TRUE\n",
       "9375 TRUE         TRUE    TRUE         TRUE        FALSE FALSE FALSE TRUE TRUE\n",
       "9376 TRUE         TRUE    TRUE         TRUE        FALSE FALSE FALSE TRUE TRUE\n",
       "9377 TRUE         TRUE    TRUE         TRUE        FALSE FALSE FALSE TRUE TRUE\n",
       "9378 TRUE         TRUE    TRUE         TRUE        FALSE FALSE FALSE TRUE TRUE\n",
       "9379 TRUE         TRUE    TRUE         TRUE        FALSE FALSE FALSE TRUE TRUE\n",
       "9380 TRUE         TRUE    TRUE         TRUE        FALSE FALSE FALSE TRUE TRUE\n",
       "9381 TRUE         TRUE    TRUE         TRUE        FALSE FALSE FALSE TRUE TRUE\n",
       "9382 TRUE         TRUE    TRUE         TRUE        FALSE FALSE FALSE TRUE TRUE\n",
       "9383 TRUE         TRUE    TRUE         TRUE        FALSE FALSE FALSE TRUE TRUE\n",
       "9384 TRUE         TRUE    TRUE         TRUE        FALSE FALSE FALSE TRUE TRUE\n",
       "9385 TRUE         TRUE    TRUE         TRUE        FALSE FALSE FALSE TRUE TRUE\n",
       "9386 TRUE         TRUE    TRUE         TRUE        FALSE FALSE FALSE TRUE TRUE\n",
       "9387 TRUE         TRUE    TRUE         TRUE        FALSE FALSE FALSE TRUE TRUE\n",
       "...  ...          ...     ...          ...         ...   ...   ...   ...  ... \n",
       "9442 TRUE         TRUE    TRUE         TRUE        FALSE FALSE FALSE TRUE TRUE\n",
       "9443 TRUE         TRUE    TRUE         TRUE        FALSE FALSE FALSE TRUE TRUE\n",
       "9444 TRUE         TRUE    TRUE         TRUE        FALSE FALSE FALSE TRUE TRUE\n",
       "9445 TRUE         TRUE    TRUE         TRUE        FALSE FALSE FALSE TRUE TRUE\n",
       "9446 TRUE         TRUE    TRUE         TRUE        FALSE FALSE FALSE TRUE TRUE\n",
       "9447 TRUE         TRUE    TRUE         TRUE        FALSE FALSE FALSE TRUE TRUE\n",
       "9448 TRUE         TRUE    TRUE         TRUE        FALSE FALSE FALSE TRUE TRUE\n",
       "9449 TRUE         TRUE    TRUE         TRUE        FALSE FALSE FALSE TRUE TRUE\n",
       "9450 TRUE         TRUE    TRUE         TRUE        FALSE FALSE FALSE TRUE TRUE\n",
       "9451 TRUE         TRUE    TRUE         TRUE        FALSE FALSE FALSE TRUE TRUE\n",
       "9452 TRUE         TRUE    TRUE         TRUE        FALSE FALSE FALSE TRUE TRUE\n",
       "9453 TRUE         TRUE    TRUE         TRUE        FALSE FALSE FALSE TRUE TRUE\n",
       "9454 TRUE         TRUE    TRUE         TRUE        FALSE FALSE FALSE TRUE TRUE\n",
       "9455 TRUE         TRUE    TRUE         TRUE        FALSE FALSE FALSE TRUE TRUE\n",
       "9456 TRUE         TRUE    TRUE         TRUE        FALSE FALSE FALSE TRUE TRUE\n",
       "9457 TRUE         TRUE    TRUE         TRUE        FALSE FALSE FALSE TRUE TRUE\n",
       "9458 TRUE         TRUE    TRUE         TRUE        FALSE FALSE FALSE TRUE TRUE\n",
       "9459 TRUE         TRUE    TRUE         TRUE        FALSE FALSE FALSE TRUE TRUE\n",
       "9460 TRUE         TRUE    TRUE         TRUE        FALSE FALSE FALSE TRUE TRUE\n",
       "9461 TRUE         TRUE    TRUE         TRUE        FALSE FALSE FALSE TRUE TRUE\n",
       "9462 TRUE         TRUE    TRUE         TRUE        FALSE FALSE FALSE TRUE TRUE\n",
       "9463 TRUE         TRUE    TRUE         TRUE        FALSE FALSE FALSE TRUE TRUE\n",
       "9464 TRUE         TRUE    TRUE         TRUE        FALSE FALSE FALSE TRUE TRUE\n",
       "9465 TRUE         TRUE    TRUE         TRUE        FALSE FALSE FALSE TRUE TRUE\n",
       "9466 TRUE         TRUE    TRUE         TRUE        FALSE FALSE FALSE TRUE TRUE\n",
       "9467 TRUE         TRUE    TRUE         TRUE        FALSE FALSE FALSE TRUE TRUE\n",
       "9468 TRUE         TRUE    TRUE         TRUE        FALSE FALSE FALSE TRUE TRUE\n",
       "9469 TRUE         TRUE    TRUE         TRUE        FALSE FALSE FALSE TRUE TRUE\n",
       "9470 TRUE         TRUE    TRUE         TRUE        FALSE FALSE FALSE TRUE TRUE\n",
       "9471 TRUE         TRUE    TRUE         TRUE        FALSE FALSE FALSE TRUE TRUE"
      ]
     },
     "metadata": {},
     "output_type": "display_data"
    }
   ],
   "source": [
    "# there are NA is 9358~9471 rows \n",
    "airquality[(9358:9471),] %>% is.na()"
   ]
  },
  {
   "cell_type": "code",
   "execution_count": 77,
   "metadata": {
    "collapsed": true
   },
   "outputs": [
    {
     "data": {
      "text/html": [
       "<table>\n",
       "<thead><tr><th></th><th scope=col>Date</th><th scope=col>Time</th><th scope=col>CO.GT.</th><th scope=col>PT08.S1.CO.</th><th scope=col>NMHC.GT.</th><th scope=col>C6H6.GT.</th><th scope=col>PT08.S2.NMHC.</th><th scope=col>NOx.GT.</th><th scope=col>PT08.S3.NOx.</th><th scope=col>NO2.GT.</th><th scope=col>PT08.S4.NO2.</th><th scope=col>PT08.S5.O3.</th><th scope=col>T</th><th scope=col>RH</th><th scope=col>AH</th><th scope=col>X</th><th scope=col>X.1</th></tr></thead>\n",
       "<tbody>\n",
       "\t<tr><th scope=row>9358</th><td>TRUE</td><td>TRUE</td><td>TRUE</td><td>NA  </td><td>NA  </td><td>TRUE</td><td>NA  </td><td>NA  </td><td>NA  </td><td>NA  </td><td>NA  </td><td>NA  </td><td>TRUE</td><td>TRUE</td><td>TRUE</td><td>NA  </td><td>NA  </td></tr>\n",
       "\t<tr><th scope=row>9359</th><td>TRUE</td><td>TRUE</td><td>TRUE</td><td>NA  </td><td>NA  </td><td>TRUE</td><td>NA  </td><td>NA  </td><td>NA  </td><td>NA  </td><td>NA  </td><td>NA  </td><td>TRUE</td><td>TRUE</td><td>TRUE</td><td>NA  </td><td>NA  </td></tr>\n",
       "\t<tr><th scope=row>9360</th><td>TRUE</td><td>TRUE</td><td>TRUE</td><td>NA  </td><td>NA  </td><td>TRUE</td><td>NA  </td><td>NA  </td><td>NA  </td><td>NA  </td><td>NA  </td><td>NA  </td><td>TRUE</td><td>TRUE</td><td>TRUE</td><td>NA  </td><td>NA  </td></tr>\n",
       "\t<tr><th scope=row>9361</th><td>TRUE</td><td>TRUE</td><td>TRUE</td><td>NA  </td><td>NA  </td><td>TRUE</td><td>NA  </td><td>NA  </td><td>NA  </td><td>NA  </td><td>NA  </td><td>NA  </td><td>TRUE</td><td>TRUE</td><td>TRUE</td><td>NA  </td><td>NA  </td></tr>\n",
       "\t<tr><th scope=row>9362</th><td>TRUE</td><td>TRUE</td><td>TRUE</td><td>NA  </td><td>NA  </td><td>TRUE</td><td>NA  </td><td>NA  </td><td>NA  </td><td>NA  </td><td>NA  </td><td>NA  </td><td>TRUE</td><td>TRUE</td><td>TRUE</td><td>NA  </td><td>NA  </td></tr>\n",
       "\t<tr><th scope=row>9363</th><td>TRUE</td><td>TRUE</td><td>TRUE</td><td>NA  </td><td>NA  </td><td>TRUE</td><td>NA  </td><td>NA  </td><td>NA  </td><td>NA  </td><td>NA  </td><td>NA  </td><td>TRUE</td><td>TRUE</td><td>TRUE</td><td>NA  </td><td>NA  </td></tr>\n",
       "\t<tr><th scope=row>9364</th><td>TRUE</td><td>TRUE</td><td>TRUE</td><td>NA  </td><td>NA  </td><td>TRUE</td><td>NA  </td><td>NA  </td><td>NA  </td><td>NA  </td><td>NA  </td><td>NA  </td><td>TRUE</td><td>TRUE</td><td>TRUE</td><td>NA  </td><td>NA  </td></tr>\n",
       "\t<tr><th scope=row>9365</th><td>TRUE</td><td>TRUE</td><td>TRUE</td><td>NA  </td><td>NA  </td><td>TRUE</td><td>NA  </td><td>NA  </td><td>NA  </td><td>NA  </td><td>NA  </td><td>NA  </td><td>TRUE</td><td>TRUE</td><td>TRUE</td><td>NA  </td><td>NA  </td></tr>\n",
       "\t<tr><th scope=row>9366</th><td>TRUE</td><td>TRUE</td><td>TRUE</td><td>NA  </td><td>NA  </td><td>TRUE</td><td>NA  </td><td>NA  </td><td>NA  </td><td>NA  </td><td>NA  </td><td>NA  </td><td>TRUE</td><td>TRUE</td><td>TRUE</td><td>NA  </td><td>NA  </td></tr>\n",
       "\t<tr><th scope=row>9367</th><td>TRUE</td><td>TRUE</td><td>TRUE</td><td>NA  </td><td>NA  </td><td>TRUE</td><td>NA  </td><td>NA  </td><td>NA  </td><td>NA  </td><td>NA  </td><td>NA  </td><td>TRUE</td><td>TRUE</td><td>TRUE</td><td>NA  </td><td>NA  </td></tr>\n",
       "\t<tr><th scope=row>9368</th><td>TRUE</td><td>TRUE</td><td>TRUE</td><td>NA  </td><td>NA  </td><td>TRUE</td><td>NA  </td><td>NA  </td><td>NA  </td><td>NA  </td><td>NA  </td><td>NA  </td><td>TRUE</td><td>TRUE</td><td>TRUE</td><td>NA  </td><td>NA  </td></tr>\n",
       "\t<tr><th scope=row>9369</th><td>TRUE</td><td>TRUE</td><td>TRUE</td><td>NA  </td><td>NA  </td><td>TRUE</td><td>NA  </td><td>NA  </td><td>NA  </td><td>NA  </td><td>NA  </td><td>NA  </td><td>TRUE</td><td>TRUE</td><td>TRUE</td><td>NA  </td><td>NA  </td></tr>\n",
       "\t<tr><th scope=row>9370</th><td>TRUE</td><td>TRUE</td><td>TRUE</td><td>NA  </td><td>NA  </td><td>TRUE</td><td>NA  </td><td>NA  </td><td>NA  </td><td>NA  </td><td>NA  </td><td>NA  </td><td>TRUE</td><td>TRUE</td><td>TRUE</td><td>NA  </td><td>NA  </td></tr>\n",
       "\t<tr><th scope=row>9371</th><td>TRUE</td><td>TRUE</td><td>TRUE</td><td>NA  </td><td>NA  </td><td>TRUE</td><td>NA  </td><td>NA  </td><td>NA  </td><td>NA  </td><td>NA  </td><td>NA  </td><td>TRUE</td><td>TRUE</td><td>TRUE</td><td>NA  </td><td>NA  </td></tr>\n",
       "\t<tr><th scope=row>9372</th><td>TRUE</td><td>TRUE</td><td>TRUE</td><td>NA  </td><td>NA  </td><td>TRUE</td><td>NA  </td><td>NA  </td><td>NA  </td><td>NA  </td><td>NA  </td><td>NA  </td><td>TRUE</td><td>TRUE</td><td>TRUE</td><td>NA  </td><td>NA  </td></tr>\n",
       "\t<tr><th scope=row>9373</th><td>TRUE</td><td>TRUE</td><td>TRUE</td><td>NA  </td><td>NA  </td><td>TRUE</td><td>NA  </td><td>NA  </td><td>NA  </td><td>NA  </td><td>NA  </td><td>NA  </td><td>TRUE</td><td>TRUE</td><td>TRUE</td><td>NA  </td><td>NA  </td></tr>\n",
       "\t<tr><th scope=row>9374</th><td>TRUE</td><td>TRUE</td><td>TRUE</td><td>NA  </td><td>NA  </td><td>TRUE</td><td>NA  </td><td>NA  </td><td>NA  </td><td>NA  </td><td>NA  </td><td>NA  </td><td>TRUE</td><td>TRUE</td><td>TRUE</td><td>NA  </td><td>NA  </td></tr>\n",
       "\t<tr><th scope=row>9375</th><td>TRUE</td><td>TRUE</td><td>TRUE</td><td>NA  </td><td>NA  </td><td>TRUE</td><td>NA  </td><td>NA  </td><td>NA  </td><td>NA  </td><td>NA  </td><td>NA  </td><td>TRUE</td><td>TRUE</td><td>TRUE</td><td>NA  </td><td>NA  </td></tr>\n",
       "\t<tr><th scope=row>9376</th><td>TRUE</td><td>TRUE</td><td>TRUE</td><td>NA  </td><td>NA  </td><td>TRUE</td><td>NA  </td><td>NA  </td><td>NA  </td><td>NA  </td><td>NA  </td><td>NA  </td><td>TRUE</td><td>TRUE</td><td>TRUE</td><td>NA  </td><td>NA  </td></tr>\n",
       "\t<tr><th scope=row>9377</th><td>TRUE</td><td>TRUE</td><td>TRUE</td><td>NA  </td><td>NA  </td><td>TRUE</td><td>NA  </td><td>NA  </td><td>NA  </td><td>NA  </td><td>NA  </td><td>NA  </td><td>TRUE</td><td>TRUE</td><td>TRUE</td><td>NA  </td><td>NA  </td></tr>\n",
       "\t<tr><th scope=row>9378</th><td>TRUE</td><td>TRUE</td><td>TRUE</td><td>NA  </td><td>NA  </td><td>TRUE</td><td>NA  </td><td>NA  </td><td>NA  </td><td>NA  </td><td>NA  </td><td>NA  </td><td>TRUE</td><td>TRUE</td><td>TRUE</td><td>NA  </td><td>NA  </td></tr>\n",
       "\t<tr><th scope=row>9379</th><td>TRUE</td><td>TRUE</td><td>TRUE</td><td>NA  </td><td>NA  </td><td>TRUE</td><td>NA  </td><td>NA  </td><td>NA  </td><td>NA  </td><td>NA  </td><td>NA  </td><td>TRUE</td><td>TRUE</td><td>TRUE</td><td>NA  </td><td>NA  </td></tr>\n",
       "\t<tr><th scope=row>9380</th><td>TRUE</td><td>TRUE</td><td>TRUE</td><td>NA  </td><td>NA  </td><td>TRUE</td><td>NA  </td><td>NA  </td><td>NA  </td><td>NA  </td><td>NA  </td><td>NA  </td><td>TRUE</td><td>TRUE</td><td>TRUE</td><td>NA  </td><td>NA  </td></tr>\n",
       "\t<tr><th scope=row>9381</th><td>TRUE</td><td>TRUE</td><td>TRUE</td><td>NA  </td><td>NA  </td><td>TRUE</td><td>NA  </td><td>NA  </td><td>NA  </td><td>NA  </td><td>NA  </td><td>NA  </td><td>TRUE</td><td>TRUE</td><td>TRUE</td><td>NA  </td><td>NA  </td></tr>\n",
       "\t<tr><th scope=row>9382</th><td>TRUE</td><td>TRUE</td><td>TRUE</td><td>NA  </td><td>NA  </td><td>TRUE</td><td>NA  </td><td>NA  </td><td>NA  </td><td>NA  </td><td>NA  </td><td>NA  </td><td>TRUE</td><td>TRUE</td><td>TRUE</td><td>NA  </td><td>NA  </td></tr>\n",
       "\t<tr><th scope=row>9383</th><td>TRUE</td><td>TRUE</td><td>TRUE</td><td>NA  </td><td>NA  </td><td>TRUE</td><td>NA  </td><td>NA  </td><td>NA  </td><td>NA  </td><td>NA  </td><td>NA  </td><td>TRUE</td><td>TRUE</td><td>TRUE</td><td>NA  </td><td>NA  </td></tr>\n",
       "\t<tr><th scope=row>9384</th><td>TRUE</td><td>TRUE</td><td>TRUE</td><td>NA  </td><td>NA  </td><td>TRUE</td><td>NA  </td><td>NA  </td><td>NA  </td><td>NA  </td><td>NA  </td><td>NA  </td><td>TRUE</td><td>TRUE</td><td>TRUE</td><td>NA  </td><td>NA  </td></tr>\n",
       "\t<tr><th scope=row>9385</th><td>TRUE</td><td>TRUE</td><td>TRUE</td><td>NA  </td><td>NA  </td><td>TRUE</td><td>NA  </td><td>NA  </td><td>NA  </td><td>NA  </td><td>NA  </td><td>NA  </td><td>TRUE</td><td>TRUE</td><td>TRUE</td><td>NA  </td><td>NA  </td></tr>\n",
       "\t<tr><th scope=row>9386</th><td>TRUE</td><td>TRUE</td><td>TRUE</td><td>NA  </td><td>NA  </td><td>TRUE</td><td>NA  </td><td>NA  </td><td>NA  </td><td>NA  </td><td>NA  </td><td>NA  </td><td>TRUE</td><td>TRUE</td><td>TRUE</td><td>NA  </td><td>NA  </td></tr>\n",
       "\t<tr><th scope=row>9387</th><td>TRUE</td><td>TRUE</td><td>TRUE</td><td>NA  </td><td>NA  </td><td>TRUE</td><td>NA  </td><td>NA  </td><td>NA  </td><td>NA  </td><td>NA  </td><td>NA  </td><td>TRUE</td><td>TRUE</td><td>TRUE</td><td>NA  </td><td>NA  </td></tr>\n",
       "\t<tr><th scope=row>...</th><td>...</td><td>...</td><td>...</td><td>...</td><td>...</td><td>...</td><td>...</td><td>...</td><td>...</td><td>...</td><td>...</td><td>...</td><td>...</td><td>...</td><td>...</td><td>...</td><td>...</td></tr>\n",
       "\t<tr><th scope=row>9442</th><td>TRUE</td><td>TRUE</td><td>TRUE</td><td>NA  </td><td>NA  </td><td>TRUE</td><td>NA  </td><td>NA  </td><td>NA  </td><td>NA  </td><td>NA  </td><td>NA  </td><td>TRUE</td><td>TRUE</td><td>TRUE</td><td>NA  </td><td>NA  </td></tr>\n",
       "\t<tr><th scope=row>9443</th><td>TRUE</td><td>TRUE</td><td>TRUE</td><td>NA  </td><td>NA  </td><td>TRUE</td><td>NA  </td><td>NA  </td><td>NA  </td><td>NA  </td><td>NA  </td><td>NA  </td><td>TRUE</td><td>TRUE</td><td>TRUE</td><td>NA  </td><td>NA  </td></tr>\n",
       "\t<tr><th scope=row>9444</th><td>TRUE</td><td>TRUE</td><td>TRUE</td><td>NA  </td><td>NA  </td><td>TRUE</td><td>NA  </td><td>NA  </td><td>NA  </td><td>NA  </td><td>NA  </td><td>NA  </td><td>TRUE</td><td>TRUE</td><td>TRUE</td><td>NA  </td><td>NA  </td></tr>\n",
       "\t<tr><th scope=row>9445</th><td>TRUE</td><td>TRUE</td><td>TRUE</td><td>NA  </td><td>NA  </td><td>TRUE</td><td>NA  </td><td>NA  </td><td>NA  </td><td>NA  </td><td>NA  </td><td>NA  </td><td>TRUE</td><td>TRUE</td><td>TRUE</td><td>NA  </td><td>NA  </td></tr>\n",
       "\t<tr><th scope=row>9446</th><td>TRUE</td><td>TRUE</td><td>TRUE</td><td>NA  </td><td>NA  </td><td>TRUE</td><td>NA  </td><td>NA  </td><td>NA  </td><td>NA  </td><td>NA  </td><td>NA  </td><td>TRUE</td><td>TRUE</td><td>TRUE</td><td>NA  </td><td>NA  </td></tr>\n",
       "\t<tr><th scope=row>9447</th><td>TRUE</td><td>TRUE</td><td>TRUE</td><td>NA  </td><td>NA  </td><td>TRUE</td><td>NA  </td><td>NA  </td><td>NA  </td><td>NA  </td><td>NA  </td><td>NA  </td><td>TRUE</td><td>TRUE</td><td>TRUE</td><td>NA  </td><td>NA  </td></tr>\n",
       "\t<tr><th scope=row>9448</th><td>TRUE</td><td>TRUE</td><td>TRUE</td><td>NA  </td><td>NA  </td><td>TRUE</td><td>NA  </td><td>NA  </td><td>NA  </td><td>NA  </td><td>NA  </td><td>NA  </td><td>TRUE</td><td>TRUE</td><td>TRUE</td><td>NA  </td><td>NA  </td></tr>\n",
       "\t<tr><th scope=row>9449</th><td>TRUE</td><td>TRUE</td><td>TRUE</td><td>NA  </td><td>NA  </td><td>TRUE</td><td>NA  </td><td>NA  </td><td>NA  </td><td>NA  </td><td>NA  </td><td>NA  </td><td>TRUE</td><td>TRUE</td><td>TRUE</td><td>NA  </td><td>NA  </td></tr>\n",
       "\t<tr><th scope=row>9450</th><td>TRUE</td><td>TRUE</td><td>TRUE</td><td>NA  </td><td>NA  </td><td>TRUE</td><td>NA  </td><td>NA  </td><td>NA  </td><td>NA  </td><td>NA  </td><td>NA  </td><td>TRUE</td><td>TRUE</td><td>TRUE</td><td>NA  </td><td>NA  </td></tr>\n",
       "\t<tr><th scope=row>9451</th><td>TRUE</td><td>TRUE</td><td>TRUE</td><td>NA  </td><td>NA  </td><td>TRUE</td><td>NA  </td><td>NA  </td><td>NA  </td><td>NA  </td><td>NA  </td><td>NA  </td><td>TRUE</td><td>TRUE</td><td>TRUE</td><td>NA  </td><td>NA  </td></tr>\n",
       "\t<tr><th scope=row>9452</th><td>TRUE</td><td>TRUE</td><td>TRUE</td><td>NA  </td><td>NA  </td><td>TRUE</td><td>NA  </td><td>NA  </td><td>NA  </td><td>NA  </td><td>NA  </td><td>NA  </td><td>TRUE</td><td>TRUE</td><td>TRUE</td><td>NA  </td><td>NA  </td></tr>\n",
       "\t<tr><th scope=row>9453</th><td>TRUE</td><td>TRUE</td><td>TRUE</td><td>NA  </td><td>NA  </td><td>TRUE</td><td>NA  </td><td>NA  </td><td>NA  </td><td>NA  </td><td>NA  </td><td>NA  </td><td>TRUE</td><td>TRUE</td><td>TRUE</td><td>NA  </td><td>NA  </td></tr>\n",
       "\t<tr><th scope=row>9454</th><td>TRUE</td><td>TRUE</td><td>TRUE</td><td>NA  </td><td>NA  </td><td>TRUE</td><td>NA  </td><td>NA  </td><td>NA  </td><td>NA  </td><td>NA  </td><td>NA  </td><td>TRUE</td><td>TRUE</td><td>TRUE</td><td>NA  </td><td>NA  </td></tr>\n",
       "\t<tr><th scope=row>9455</th><td>TRUE</td><td>TRUE</td><td>TRUE</td><td>NA  </td><td>NA  </td><td>TRUE</td><td>NA  </td><td>NA  </td><td>NA  </td><td>NA  </td><td>NA  </td><td>NA  </td><td>TRUE</td><td>TRUE</td><td>TRUE</td><td>NA  </td><td>NA  </td></tr>\n",
       "\t<tr><th scope=row>9456</th><td>TRUE</td><td>TRUE</td><td>TRUE</td><td>NA  </td><td>NA  </td><td>TRUE</td><td>NA  </td><td>NA  </td><td>NA  </td><td>NA  </td><td>NA  </td><td>NA  </td><td>TRUE</td><td>TRUE</td><td>TRUE</td><td>NA  </td><td>NA  </td></tr>\n",
       "\t<tr><th scope=row>9457</th><td>TRUE</td><td>TRUE</td><td>TRUE</td><td>NA  </td><td>NA  </td><td>TRUE</td><td>NA  </td><td>NA  </td><td>NA  </td><td>NA  </td><td>NA  </td><td>NA  </td><td>TRUE</td><td>TRUE</td><td>TRUE</td><td>NA  </td><td>NA  </td></tr>\n",
       "\t<tr><th scope=row>9458</th><td>TRUE</td><td>TRUE</td><td>TRUE</td><td>NA  </td><td>NA  </td><td>TRUE</td><td>NA  </td><td>NA  </td><td>NA  </td><td>NA  </td><td>NA  </td><td>NA  </td><td>TRUE</td><td>TRUE</td><td>TRUE</td><td>NA  </td><td>NA  </td></tr>\n",
       "\t<tr><th scope=row>9459</th><td>TRUE</td><td>TRUE</td><td>TRUE</td><td>NA  </td><td>NA  </td><td>TRUE</td><td>NA  </td><td>NA  </td><td>NA  </td><td>NA  </td><td>NA  </td><td>NA  </td><td>TRUE</td><td>TRUE</td><td>TRUE</td><td>NA  </td><td>NA  </td></tr>\n",
       "\t<tr><th scope=row>9460</th><td>TRUE</td><td>TRUE</td><td>TRUE</td><td>NA  </td><td>NA  </td><td>TRUE</td><td>NA  </td><td>NA  </td><td>NA  </td><td>NA  </td><td>NA  </td><td>NA  </td><td>TRUE</td><td>TRUE</td><td>TRUE</td><td>NA  </td><td>NA  </td></tr>\n",
       "\t<tr><th scope=row>9461</th><td>TRUE</td><td>TRUE</td><td>TRUE</td><td>NA  </td><td>NA  </td><td>TRUE</td><td>NA  </td><td>NA  </td><td>NA  </td><td>NA  </td><td>NA  </td><td>NA  </td><td>TRUE</td><td>TRUE</td><td>TRUE</td><td>NA  </td><td>NA  </td></tr>\n",
       "\t<tr><th scope=row>9462</th><td>TRUE</td><td>TRUE</td><td>TRUE</td><td>NA  </td><td>NA  </td><td>TRUE</td><td>NA  </td><td>NA  </td><td>NA  </td><td>NA  </td><td>NA  </td><td>NA  </td><td>TRUE</td><td>TRUE</td><td>TRUE</td><td>NA  </td><td>NA  </td></tr>\n",
       "\t<tr><th scope=row>9463</th><td>TRUE</td><td>TRUE</td><td>TRUE</td><td>NA  </td><td>NA  </td><td>TRUE</td><td>NA  </td><td>NA  </td><td>NA  </td><td>NA  </td><td>NA  </td><td>NA  </td><td>TRUE</td><td>TRUE</td><td>TRUE</td><td>NA  </td><td>NA  </td></tr>\n",
       "\t<tr><th scope=row>9464</th><td>TRUE</td><td>TRUE</td><td>TRUE</td><td>NA  </td><td>NA  </td><td>TRUE</td><td>NA  </td><td>NA  </td><td>NA  </td><td>NA  </td><td>NA  </td><td>NA  </td><td>TRUE</td><td>TRUE</td><td>TRUE</td><td>NA  </td><td>NA  </td></tr>\n",
       "\t<tr><th scope=row>9465</th><td>TRUE</td><td>TRUE</td><td>TRUE</td><td>NA  </td><td>NA  </td><td>TRUE</td><td>NA  </td><td>NA  </td><td>NA  </td><td>NA  </td><td>NA  </td><td>NA  </td><td>TRUE</td><td>TRUE</td><td>TRUE</td><td>NA  </td><td>NA  </td></tr>\n",
       "\t<tr><th scope=row>9466</th><td>TRUE</td><td>TRUE</td><td>TRUE</td><td>NA  </td><td>NA  </td><td>TRUE</td><td>NA  </td><td>NA  </td><td>NA  </td><td>NA  </td><td>NA  </td><td>NA  </td><td>TRUE</td><td>TRUE</td><td>TRUE</td><td>NA  </td><td>NA  </td></tr>\n",
       "\t<tr><th scope=row>9467</th><td>TRUE</td><td>TRUE</td><td>TRUE</td><td>NA  </td><td>NA  </td><td>TRUE</td><td>NA  </td><td>NA  </td><td>NA  </td><td>NA  </td><td>NA  </td><td>NA  </td><td>TRUE</td><td>TRUE</td><td>TRUE</td><td>NA  </td><td>NA  </td></tr>\n",
       "\t<tr><th scope=row>9468</th><td>TRUE</td><td>TRUE</td><td>TRUE</td><td>NA  </td><td>NA  </td><td>TRUE</td><td>NA  </td><td>NA  </td><td>NA  </td><td>NA  </td><td>NA  </td><td>NA  </td><td>TRUE</td><td>TRUE</td><td>TRUE</td><td>NA  </td><td>NA  </td></tr>\n",
       "\t<tr><th scope=row>9469</th><td>TRUE</td><td>TRUE</td><td>TRUE</td><td>NA  </td><td>NA  </td><td>TRUE</td><td>NA  </td><td>NA  </td><td>NA  </td><td>NA  </td><td>NA  </td><td>NA  </td><td>TRUE</td><td>TRUE</td><td>TRUE</td><td>NA  </td><td>NA  </td></tr>\n",
       "\t<tr><th scope=row>9470</th><td>TRUE</td><td>TRUE</td><td>TRUE</td><td>NA  </td><td>NA  </td><td>TRUE</td><td>NA  </td><td>NA  </td><td>NA  </td><td>NA  </td><td>NA  </td><td>NA  </td><td>TRUE</td><td>TRUE</td><td>TRUE</td><td>NA  </td><td>NA  </td></tr>\n",
       "\t<tr><th scope=row>9471</th><td>TRUE</td><td>TRUE</td><td>TRUE</td><td>NA  </td><td>NA  </td><td>TRUE</td><td>NA  </td><td>NA  </td><td>NA  </td><td>NA  </td><td>NA  </td><td>NA  </td><td>TRUE</td><td>TRUE</td><td>TRUE</td><td>NA  </td><td>NA  </td></tr>\n",
       "</tbody>\n",
       "</table>\n"
      ],
      "text/latex": [
       "\\begin{tabular}{r|lllllllllllllllll}\n",
       "  & Date & Time & CO.GT. & PT08.S1.CO. & NMHC.GT. & C6H6.GT. & PT08.S2.NMHC. & NOx.GT. & PT08.S3.NOx. & NO2.GT. & PT08.S4.NO2. & PT08.S5.O3. & T & RH & AH & X & X.1\\\\\n",
       "\\hline\n",
       "\t9358 & TRUE & TRUE & TRUE & NA   & NA   & TRUE & NA   & NA   & NA   & NA   & NA   & NA   & TRUE & TRUE & TRUE & NA   & NA  \\\\\n",
       "\t9359 & TRUE & TRUE & TRUE & NA   & NA   & TRUE & NA   & NA   & NA   & NA   & NA   & NA   & TRUE & TRUE & TRUE & NA   & NA  \\\\\n",
       "\t9360 & TRUE & TRUE & TRUE & NA   & NA   & TRUE & NA   & NA   & NA   & NA   & NA   & NA   & TRUE & TRUE & TRUE & NA   & NA  \\\\\n",
       "\t9361 & TRUE & TRUE & TRUE & NA   & NA   & TRUE & NA   & NA   & NA   & NA   & NA   & NA   & TRUE & TRUE & TRUE & NA   & NA  \\\\\n",
       "\t9362 & TRUE & TRUE & TRUE & NA   & NA   & TRUE & NA   & NA   & NA   & NA   & NA   & NA   & TRUE & TRUE & TRUE & NA   & NA  \\\\\n",
       "\t9363 & TRUE & TRUE & TRUE & NA   & NA   & TRUE & NA   & NA   & NA   & NA   & NA   & NA   & TRUE & TRUE & TRUE & NA   & NA  \\\\\n",
       "\t9364 & TRUE & TRUE & TRUE & NA   & NA   & TRUE & NA   & NA   & NA   & NA   & NA   & NA   & TRUE & TRUE & TRUE & NA   & NA  \\\\\n",
       "\t9365 & TRUE & TRUE & TRUE & NA   & NA   & TRUE & NA   & NA   & NA   & NA   & NA   & NA   & TRUE & TRUE & TRUE & NA   & NA  \\\\\n",
       "\t9366 & TRUE & TRUE & TRUE & NA   & NA   & TRUE & NA   & NA   & NA   & NA   & NA   & NA   & TRUE & TRUE & TRUE & NA   & NA  \\\\\n",
       "\t9367 & TRUE & TRUE & TRUE & NA   & NA   & TRUE & NA   & NA   & NA   & NA   & NA   & NA   & TRUE & TRUE & TRUE & NA   & NA  \\\\\n",
       "\t9368 & TRUE & TRUE & TRUE & NA   & NA   & TRUE & NA   & NA   & NA   & NA   & NA   & NA   & TRUE & TRUE & TRUE & NA   & NA  \\\\\n",
       "\t9369 & TRUE & TRUE & TRUE & NA   & NA   & TRUE & NA   & NA   & NA   & NA   & NA   & NA   & TRUE & TRUE & TRUE & NA   & NA  \\\\\n",
       "\t9370 & TRUE & TRUE & TRUE & NA   & NA   & TRUE & NA   & NA   & NA   & NA   & NA   & NA   & TRUE & TRUE & TRUE & NA   & NA  \\\\\n",
       "\t9371 & TRUE & TRUE & TRUE & NA   & NA   & TRUE & NA   & NA   & NA   & NA   & NA   & NA   & TRUE & TRUE & TRUE & NA   & NA  \\\\\n",
       "\t9372 & TRUE & TRUE & TRUE & NA   & NA   & TRUE & NA   & NA   & NA   & NA   & NA   & NA   & TRUE & TRUE & TRUE & NA   & NA  \\\\\n",
       "\t9373 & TRUE & TRUE & TRUE & NA   & NA   & TRUE & NA   & NA   & NA   & NA   & NA   & NA   & TRUE & TRUE & TRUE & NA   & NA  \\\\\n",
       "\t9374 & TRUE & TRUE & TRUE & NA   & NA   & TRUE & NA   & NA   & NA   & NA   & NA   & NA   & TRUE & TRUE & TRUE & NA   & NA  \\\\\n",
       "\t9375 & TRUE & TRUE & TRUE & NA   & NA   & TRUE & NA   & NA   & NA   & NA   & NA   & NA   & TRUE & TRUE & TRUE & NA   & NA  \\\\\n",
       "\t9376 & TRUE & TRUE & TRUE & NA   & NA   & TRUE & NA   & NA   & NA   & NA   & NA   & NA   & TRUE & TRUE & TRUE & NA   & NA  \\\\\n",
       "\t9377 & TRUE & TRUE & TRUE & NA   & NA   & TRUE & NA   & NA   & NA   & NA   & NA   & NA   & TRUE & TRUE & TRUE & NA   & NA  \\\\\n",
       "\t9378 & TRUE & TRUE & TRUE & NA   & NA   & TRUE & NA   & NA   & NA   & NA   & NA   & NA   & TRUE & TRUE & TRUE & NA   & NA  \\\\\n",
       "\t9379 & TRUE & TRUE & TRUE & NA   & NA   & TRUE & NA   & NA   & NA   & NA   & NA   & NA   & TRUE & TRUE & TRUE & NA   & NA  \\\\\n",
       "\t9380 & TRUE & TRUE & TRUE & NA   & NA   & TRUE & NA   & NA   & NA   & NA   & NA   & NA   & TRUE & TRUE & TRUE & NA   & NA  \\\\\n",
       "\t9381 & TRUE & TRUE & TRUE & NA   & NA   & TRUE & NA   & NA   & NA   & NA   & NA   & NA   & TRUE & TRUE & TRUE & NA   & NA  \\\\\n",
       "\t9382 & TRUE & TRUE & TRUE & NA   & NA   & TRUE & NA   & NA   & NA   & NA   & NA   & NA   & TRUE & TRUE & TRUE & NA   & NA  \\\\\n",
       "\t9383 & TRUE & TRUE & TRUE & NA   & NA   & TRUE & NA   & NA   & NA   & NA   & NA   & NA   & TRUE & TRUE & TRUE & NA   & NA  \\\\\n",
       "\t9384 & TRUE & TRUE & TRUE & NA   & NA   & TRUE & NA   & NA   & NA   & NA   & NA   & NA   & TRUE & TRUE & TRUE & NA   & NA  \\\\\n",
       "\t9385 & TRUE & TRUE & TRUE & NA   & NA   & TRUE & NA   & NA   & NA   & NA   & NA   & NA   & TRUE & TRUE & TRUE & NA   & NA  \\\\\n",
       "\t9386 & TRUE & TRUE & TRUE & NA   & NA   & TRUE & NA   & NA   & NA   & NA   & NA   & NA   & TRUE & TRUE & TRUE & NA   & NA  \\\\\n",
       "\t9387 & TRUE & TRUE & TRUE & NA   & NA   & TRUE & NA   & NA   & NA   & NA   & NA   & NA   & TRUE & TRUE & TRUE & NA   & NA  \\\\\n",
       "\t... & ... & ... & ... & ... & ... & ... & ... & ... & ... & ... & ... & ... & ... & ... & ... & ... & ...\\\\\n",
       "\t9442 & TRUE & TRUE & TRUE & NA   & NA   & TRUE & NA   & NA   & NA   & NA   & NA   & NA   & TRUE & TRUE & TRUE & NA   & NA  \\\\\n",
       "\t9443 & TRUE & TRUE & TRUE & NA   & NA   & TRUE & NA   & NA   & NA   & NA   & NA   & NA   & TRUE & TRUE & TRUE & NA   & NA  \\\\\n",
       "\t9444 & TRUE & TRUE & TRUE & NA   & NA   & TRUE & NA   & NA   & NA   & NA   & NA   & NA   & TRUE & TRUE & TRUE & NA   & NA  \\\\\n",
       "\t9445 & TRUE & TRUE & TRUE & NA   & NA   & TRUE & NA   & NA   & NA   & NA   & NA   & NA   & TRUE & TRUE & TRUE & NA   & NA  \\\\\n",
       "\t9446 & TRUE & TRUE & TRUE & NA   & NA   & TRUE & NA   & NA   & NA   & NA   & NA   & NA   & TRUE & TRUE & TRUE & NA   & NA  \\\\\n",
       "\t9447 & TRUE & TRUE & TRUE & NA   & NA   & TRUE & NA   & NA   & NA   & NA   & NA   & NA   & TRUE & TRUE & TRUE & NA   & NA  \\\\\n",
       "\t9448 & TRUE & TRUE & TRUE & NA   & NA   & TRUE & NA   & NA   & NA   & NA   & NA   & NA   & TRUE & TRUE & TRUE & NA   & NA  \\\\\n",
       "\t9449 & TRUE & TRUE & TRUE & NA   & NA   & TRUE & NA   & NA   & NA   & NA   & NA   & NA   & TRUE & TRUE & TRUE & NA   & NA  \\\\\n",
       "\t9450 & TRUE & TRUE & TRUE & NA   & NA   & TRUE & NA   & NA   & NA   & NA   & NA   & NA   & TRUE & TRUE & TRUE & NA   & NA  \\\\\n",
       "\t9451 & TRUE & TRUE & TRUE & NA   & NA   & TRUE & NA   & NA   & NA   & NA   & NA   & NA   & TRUE & TRUE & TRUE & NA   & NA  \\\\\n",
       "\t9452 & TRUE & TRUE & TRUE & NA   & NA   & TRUE & NA   & NA   & NA   & NA   & NA   & NA   & TRUE & TRUE & TRUE & NA   & NA  \\\\\n",
       "\t9453 & TRUE & TRUE & TRUE & NA   & NA   & TRUE & NA   & NA   & NA   & NA   & NA   & NA   & TRUE & TRUE & TRUE & NA   & NA  \\\\\n",
       "\t9454 & TRUE & TRUE & TRUE & NA   & NA   & TRUE & NA   & NA   & NA   & NA   & NA   & NA   & TRUE & TRUE & TRUE & NA   & NA  \\\\\n",
       "\t9455 & TRUE & TRUE & TRUE & NA   & NA   & TRUE & NA   & NA   & NA   & NA   & NA   & NA   & TRUE & TRUE & TRUE & NA   & NA  \\\\\n",
       "\t9456 & TRUE & TRUE & TRUE & NA   & NA   & TRUE & NA   & NA   & NA   & NA   & NA   & NA   & TRUE & TRUE & TRUE & NA   & NA  \\\\\n",
       "\t9457 & TRUE & TRUE & TRUE & NA   & NA   & TRUE & NA   & NA   & NA   & NA   & NA   & NA   & TRUE & TRUE & TRUE & NA   & NA  \\\\\n",
       "\t9458 & TRUE & TRUE & TRUE & NA   & NA   & TRUE & NA   & NA   & NA   & NA   & NA   & NA   & TRUE & TRUE & TRUE & NA   & NA  \\\\\n",
       "\t9459 & TRUE & TRUE & TRUE & NA   & NA   & TRUE & NA   & NA   & NA   & NA   & NA   & NA   & TRUE & TRUE & TRUE & NA   & NA  \\\\\n",
       "\t9460 & TRUE & TRUE & TRUE & NA   & NA   & TRUE & NA   & NA   & NA   & NA   & NA   & NA   & TRUE & TRUE & TRUE & NA   & NA  \\\\\n",
       "\t9461 & TRUE & TRUE & TRUE & NA   & NA   & TRUE & NA   & NA   & NA   & NA   & NA   & NA   & TRUE & TRUE & TRUE & NA   & NA  \\\\\n",
       "\t9462 & TRUE & TRUE & TRUE & NA   & NA   & TRUE & NA   & NA   & NA   & NA   & NA   & NA   & TRUE & TRUE & TRUE & NA   & NA  \\\\\n",
       "\t9463 & TRUE & TRUE & TRUE & NA   & NA   & TRUE & NA   & NA   & NA   & NA   & NA   & NA   & TRUE & TRUE & TRUE & NA   & NA  \\\\\n",
       "\t9464 & TRUE & TRUE & TRUE & NA   & NA   & TRUE & NA   & NA   & NA   & NA   & NA   & NA   & TRUE & TRUE & TRUE & NA   & NA  \\\\\n",
       "\t9465 & TRUE & TRUE & TRUE & NA   & NA   & TRUE & NA   & NA   & NA   & NA   & NA   & NA   & TRUE & TRUE & TRUE & NA   & NA  \\\\\n",
       "\t9466 & TRUE & TRUE & TRUE & NA   & NA   & TRUE & NA   & NA   & NA   & NA   & NA   & NA   & TRUE & TRUE & TRUE & NA   & NA  \\\\\n",
       "\t9467 & TRUE & TRUE & TRUE & NA   & NA   & TRUE & NA   & NA   & NA   & NA   & NA   & NA   & TRUE & TRUE & TRUE & NA   & NA  \\\\\n",
       "\t9468 & TRUE & TRUE & TRUE & NA   & NA   & TRUE & NA   & NA   & NA   & NA   & NA   & NA   & TRUE & TRUE & TRUE & NA   & NA  \\\\\n",
       "\t9469 & TRUE & TRUE & TRUE & NA   & NA   & TRUE & NA   & NA   & NA   & NA   & NA   & NA   & TRUE & TRUE & TRUE & NA   & NA  \\\\\n",
       "\t9470 & TRUE & TRUE & TRUE & NA   & NA   & TRUE & NA   & NA   & NA   & NA   & NA   & NA   & TRUE & TRUE & TRUE & NA   & NA  \\\\\n",
       "\t9471 & TRUE & TRUE & TRUE & NA   & NA   & TRUE & NA   & NA   & NA   & NA   & NA   & NA   & TRUE & TRUE & TRUE & NA   & NA  \\\\\n",
       "\\end{tabular}\n"
      ],
      "text/markdown": [
       "\n",
       "| <!--/--> | Date | Time | CO.GT. | PT08.S1.CO. | NMHC.GT. | C6H6.GT. | PT08.S2.NMHC. | NOx.GT. | PT08.S3.NOx. | NO2.GT. | PT08.S4.NO2. | PT08.S5.O3. | T | RH | AH | X | X.1 | \n",
       "|---|---|---|---|---|---|---|---|---|---|---|---|---|---|---|---|---|---|---|---|---|---|---|---|---|---|---|---|---|---|---|---|---|---|---|---|---|---|---|---|---|---|---|---|---|---|---|---|---|---|---|---|---|---|---|---|---|---|---|---|---|\n",
       "| 9358 | TRUE | TRUE | TRUE | NA   | NA   | TRUE | NA   | NA   | NA   | NA   | NA   | NA   | TRUE | TRUE | TRUE | NA   | NA   | \n",
       "| 9359 | TRUE | TRUE | TRUE | NA   | NA   | TRUE | NA   | NA   | NA   | NA   | NA   | NA   | TRUE | TRUE | TRUE | NA   | NA   | \n",
       "| 9360 | TRUE | TRUE | TRUE | NA   | NA   | TRUE | NA   | NA   | NA   | NA   | NA   | NA   | TRUE | TRUE | TRUE | NA   | NA   | \n",
       "| 9361 | TRUE | TRUE | TRUE | NA   | NA   | TRUE | NA   | NA   | NA   | NA   | NA   | NA   | TRUE | TRUE | TRUE | NA   | NA   | \n",
       "| 9362 | TRUE | TRUE | TRUE | NA   | NA   | TRUE | NA   | NA   | NA   | NA   | NA   | NA   | TRUE | TRUE | TRUE | NA   | NA   | \n",
       "| 9363 | TRUE | TRUE | TRUE | NA   | NA   | TRUE | NA   | NA   | NA   | NA   | NA   | NA   | TRUE | TRUE | TRUE | NA   | NA   | \n",
       "| 9364 | TRUE | TRUE | TRUE | NA   | NA   | TRUE | NA   | NA   | NA   | NA   | NA   | NA   | TRUE | TRUE | TRUE | NA   | NA   | \n",
       "| 9365 | TRUE | TRUE | TRUE | NA   | NA   | TRUE | NA   | NA   | NA   | NA   | NA   | NA   | TRUE | TRUE | TRUE | NA   | NA   | \n",
       "| 9366 | TRUE | TRUE | TRUE | NA   | NA   | TRUE | NA   | NA   | NA   | NA   | NA   | NA   | TRUE | TRUE | TRUE | NA   | NA   | \n",
       "| 9367 | TRUE | TRUE | TRUE | NA   | NA   | TRUE | NA   | NA   | NA   | NA   | NA   | NA   | TRUE | TRUE | TRUE | NA   | NA   | \n",
       "| 9368 | TRUE | TRUE | TRUE | NA   | NA   | TRUE | NA   | NA   | NA   | NA   | NA   | NA   | TRUE | TRUE | TRUE | NA   | NA   | \n",
       "| 9369 | TRUE | TRUE | TRUE | NA   | NA   | TRUE | NA   | NA   | NA   | NA   | NA   | NA   | TRUE | TRUE | TRUE | NA   | NA   | \n",
       "| 9370 | TRUE | TRUE | TRUE | NA   | NA   | TRUE | NA   | NA   | NA   | NA   | NA   | NA   | TRUE | TRUE | TRUE | NA   | NA   | \n",
       "| 9371 | TRUE | TRUE | TRUE | NA   | NA   | TRUE | NA   | NA   | NA   | NA   | NA   | NA   | TRUE | TRUE | TRUE | NA   | NA   | \n",
       "| 9372 | TRUE | TRUE | TRUE | NA   | NA   | TRUE | NA   | NA   | NA   | NA   | NA   | NA   | TRUE | TRUE | TRUE | NA   | NA   | \n",
       "| 9373 | TRUE | TRUE | TRUE | NA   | NA   | TRUE | NA   | NA   | NA   | NA   | NA   | NA   | TRUE | TRUE | TRUE | NA   | NA   | \n",
       "| 9374 | TRUE | TRUE | TRUE | NA   | NA   | TRUE | NA   | NA   | NA   | NA   | NA   | NA   | TRUE | TRUE | TRUE | NA   | NA   | \n",
       "| 9375 | TRUE | TRUE | TRUE | NA   | NA   | TRUE | NA   | NA   | NA   | NA   | NA   | NA   | TRUE | TRUE | TRUE | NA   | NA   | \n",
       "| 9376 | TRUE | TRUE | TRUE | NA   | NA   | TRUE | NA   | NA   | NA   | NA   | NA   | NA   | TRUE | TRUE | TRUE | NA   | NA   | \n",
       "| 9377 | TRUE | TRUE | TRUE | NA   | NA   | TRUE | NA   | NA   | NA   | NA   | NA   | NA   | TRUE | TRUE | TRUE | NA   | NA   | \n",
       "| 9378 | TRUE | TRUE | TRUE | NA   | NA   | TRUE | NA   | NA   | NA   | NA   | NA   | NA   | TRUE | TRUE | TRUE | NA   | NA   | \n",
       "| 9379 | TRUE | TRUE | TRUE | NA   | NA   | TRUE | NA   | NA   | NA   | NA   | NA   | NA   | TRUE | TRUE | TRUE | NA   | NA   | \n",
       "| 9380 | TRUE | TRUE | TRUE | NA   | NA   | TRUE | NA   | NA   | NA   | NA   | NA   | NA   | TRUE | TRUE | TRUE | NA   | NA   | \n",
       "| 9381 | TRUE | TRUE | TRUE | NA   | NA   | TRUE | NA   | NA   | NA   | NA   | NA   | NA   | TRUE | TRUE | TRUE | NA   | NA   | \n",
       "| 9382 | TRUE | TRUE | TRUE | NA   | NA   | TRUE | NA   | NA   | NA   | NA   | NA   | NA   | TRUE | TRUE | TRUE | NA   | NA   | \n",
       "| 9383 | TRUE | TRUE | TRUE | NA   | NA   | TRUE | NA   | NA   | NA   | NA   | NA   | NA   | TRUE | TRUE | TRUE | NA   | NA   | \n",
       "| 9384 | TRUE | TRUE | TRUE | NA   | NA   | TRUE | NA   | NA   | NA   | NA   | NA   | NA   | TRUE | TRUE | TRUE | NA   | NA   | \n",
       "| 9385 | TRUE | TRUE | TRUE | NA   | NA   | TRUE | NA   | NA   | NA   | NA   | NA   | NA   | TRUE | TRUE | TRUE | NA   | NA   | \n",
       "| 9386 | TRUE | TRUE | TRUE | NA   | NA   | TRUE | NA   | NA   | NA   | NA   | NA   | NA   | TRUE | TRUE | TRUE | NA   | NA   | \n",
       "| 9387 | TRUE | TRUE | TRUE | NA   | NA   | TRUE | NA   | NA   | NA   | NA   | NA   | NA   | TRUE | TRUE | TRUE | NA   | NA   | \n",
       "| ... | ... | ... | ... | ... | ... | ... | ... | ... | ... | ... | ... | ... | ... | ... | ... | ... | ... | \n",
       "| 9442 | TRUE | TRUE | TRUE | NA   | NA   | TRUE | NA   | NA   | NA   | NA   | NA   | NA   | TRUE | TRUE | TRUE | NA   | NA   | \n",
       "| 9443 | TRUE | TRUE | TRUE | NA   | NA   | TRUE | NA   | NA   | NA   | NA   | NA   | NA   | TRUE | TRUE | TRUE | NA   | NA   | \n",
       "| 9444 | TRUE | TRUE | TRUE | NA   | NA   | TRUE | NA   | NA   | NA   | NA   | NA   | NA   | TRUE | TRUE | TRUE | NA   | NA   | \n",
       "| 9445 | TRUE | TRUE | TRUE | NA   | NA   | TRUE | NA   | NA   | NA   | NA   | NA   | NA   | TRUE | TRUE | TRUE | NA   | NA   | \n",
       "| 9446 | TRUE | TRUE | TRUE | NA   | NA   | TRUE | NA   | NA   | NA   | NA   | NA   | NA   | TRUE | TRUE | TRUE | NA   | NA   | \n",
       "| 9447 | TRUE | TRUE | TRUE | NA   | NA   | TRUE | NA   | NA   | NA   | NA   | NA   | NA   | TRUE | TRUE | TRUE | NA   | NA   | \n",
       "| 9448 | TRUE | TRUE | TRUE | NA   | NA   | TRUE | NA   | NA   | NA   | NA   | NA   | NA   | TRUE | TRUE | TRUE | NA   | NA   | \n",
       "| 9449 | TRUE | TRUE | TRUE | NA   | NA   | TRUE | NA   | NA   | NA   | NA   | NA   | NA   | TRUE | TRUE | TRUE | NA   | NA   | \n",
       "| 9450 | TRUE | TRUE | TRUE | NA   | NA   | TRUE | NA   | NA   | NA   | NA   | NA   | NA   | TRUE | TRUE | TRUE | NA   | NA   | \n",
       "| 9451 | TRUE | TRUE | TRUE | NA   | NA   | TRUE | NA   | NA   | NA   | NA   | NA   | NA   | TRUE | TRUE | TRUE | NA   | NA   | \n",
       "| 9452 | TRUE | TRUE | TRUE | NA   | NA   | TRUE | NA   | NA   | NA   | NA   | NA   | NA   | TRUE | TRUE | TRUE | NA   | NA   | \n",
       "| 9453 | TRUE | TRUE | TRUE | NA   | NA   | TRUE | NA   | NA   | NA   | NA   | NA   | NA   | TRUE | TRUE | TRUE | NA   | NA   | \n",
       "| 9454 | TRUE | TRUE | TRUE | NA   | NA   | TRUE | NA   | NA   | NA   | NA   | NA   | NA   | TRUE | TRUE | TRUE | NA   | NA   | \n",
       "| 9455 | TRUE | TRUE | TRUE | NA   | NA   | TRUE | NA   | NA   | NA   | NA   | NA   | NA   | TRUE | TRUE | TRUE | NA   | NA   | \n",
       "| 9456 | TRUE | TRUE | TRUE | NA   | NA   | TRUE | NA   | NA   | NA   | NA   | NA   | NA   | TRUE | TRUE | TRUE | NA   | NA   | \n",
       "| 9457 | TRUE | TRUE | TRUE | NA   | NA   | TRUE | NA   | NA   | NA   | NA   | NA   | NA   | TRUE | TRUE | TRUE | NA   | NA   | \n",
       "| 9458 | TRUE | TRUE | TRUE | NA   | NA   | TRUE | NA   | NA   | NA   | NA   | NA   | NA   | TRUE | TRUE | TRUE | NA   | NA   | \n",
       "| 9459 | TRUE | TRUE | TRUE | NA   | NA   | TRUE | NA   | NA   | NA   | NA   | NA   | NA   | TRUE | TRUE | TRUE | NA   | NA   | \n",
       "| 9460 | TRUE | TRUE | TRUE | NA   | NA   | TRUE | NA   | NA   | NA   | NA   | NA   | NA   | TRUE | TRUE | TRUE | NA   | NA   | \n",
       "| 9461 | TRUE | TRUE | TRUE | NA   | NA   | TRUE | NA   | NA   | NA   | NA   | NA   | NA   | TRUE | TRUE | TRUE | NA   | NA   | \n",
       "| 9462 | TRUE | TRUE | TRUE | NA   | NA   | TRUE | NA   | NA   | NA   | NA   | NA   | NA   | TRUE | TRUE | TRUE | NA   | NA   | \n",
       "| 9463 | TRUE | TRUE | TRUE | NA   | NA   | TRUE | NA   | NA   | NA   | NA   | NA   | NA   | TRUE | TRUE | TRUE | NA   | NA   | \n",
       "| 9464 | TRUE | TRUE | TRUE | NA   | NA   | TRUE | NA   | NA   | NA   | NA   | NA   | NA   | TRUE | TRUE | TRUE | NA   | NA   | \n",
       "| 9465 | TRUE | TRUE | TRUE | NA   | NA   | TRUE | NA   | NA   | NA   | NA   | NA   | NA   | TRUE | TRUE | TRUE | NA   | NA   | \n",
       "| 9466 | TRUE | TRUE | TRUE | NA   | NA   | TRUE | NA   | NA   | NA   | NA   | NA   | NA   | TRUE | TRUE | TRUE | NA   | NA   | \n",
       "| 9467 | TRUE | TRUE | TRUE | NA   | NA   | TRUE | NA   | NA   | NA   | NA   | NA   | NA   | TRUE | TRUE | TRUE | NA   | NA   | \n",
       "| 9468 | TRUE | TRUE | TRUE | NA   | NA   | TRUE | NA   | NA   | NA   | NA   | NA   | NA   | TRUE | TRUE | TRUE | NA   | NA   | \n",
       "| 9469 | TRUE | TRUE | TRUE | NA   | NA   | TRUE | NA   | NA   | NA   | NA   | NA   | NA   | TRUE | TRUE | TRUE | NA   | NA   | \n",
       "| 9470 | TRUE | TRUE | TRUE | NA   | NA   | TRUE | NA   | NA   | NA   | NA   | NA   | NA   | TRUE | TRUE | TRUE | NA   | NA   | \n",
       "| 9471 | TRUE | TRUE | TRUE | NA   | NA   | TRUE | NA   | NA   | NA   | NA   | NA   | NA   | TRUE | TRUE | TRUE | NA   | NA   | \n",
       "\n",
       "\n"
      ],
      "text/plain": [
       "     Date Time CO.GT. PT08.S1.CO. NMHC.GT. C6H6.GT. PT08.S2.NMHC. NOx.GT.\n",
       "9358 TRUE TRUE TRUE   NA          NA       TRUE     NA            NA     \n",
       "9359 TRUE TRUE TRUE   NA          NA       TRUE     NA            NA     \n",
       "9360 TRUE TRUE TRUE   NA          NA       TRUE     NA            NA     \n",
       "9361 TRUE TRUE TRUE   NA          NA       TRUE     NA            NA     \n",
       "9362 TRUE TRUE TRUE   NA          NA       TRUE     NA            NA     \n",
       "9363 TRUE TRUE TRUE   NA          NA       TRUE     NA            NA     \n",
       "9364 TRUE TRUE TRUE   NA          NA       TRUE     NA            NA     \n",
       "9365 TRUE TRUE TRUE   NA          NA       TRUE     NA            NA     \n",
       "9366 TRUE TRUE TRUE   NA          NA       TRUE     NA            NA     \n",
       "9367 TRUE TRUE TRUE   NA          NA       TRUE     NA            NA     \n",
       "9368 TRUE TRUE TRUE   NA          NA       TRUE     NA            NA     \n",
       "9369 TRUE TRUE TRUE   NA          NA       TRUE     NA            NA     \n",
       "9370 TRUE TRUE TRUE   NA          NA       TRUE     NA            NA     \n",
       "9371 TRUE TRUE TRUE   NA          NA       TRUE     NA            NA     \n",
       "9372 TRUE TRUE TRUE   NA          NA       TRUE     NA            NA     \n",
       "9373 TRUE TRUE TRUE   NA          NA       TRUE     NA            NA     \n",
       "9374 TRUE TRUE TRUE   NA          NA       TRUE     NA            NA     \n",
       "9375 TRUE TRUE TRUE   NA          NA       TRUE     NA            NA     \n",
       "9376 TRUE TRUE TRUE   NA          NA       TRUE     NA            NA     \n",
       "9377 TRUE TRUE TRUE   NA          NA       TRUE     NA            NA     \n",
       "9378 TRUE TRUE TRUE   NA          NA       TRUE     NA            NA     \n",
       "9379 TRUE TRUE TRUE   NA          NA       TRUE     NA            NA     \n",
       "9380 TRUE TRUE TRUE   NA          NA       TRUE     NA            NA     \n",
       "9381 TRUE TRUE TRUE   NA          NA       TRUE     NA            NA     \n",
       "9382 TRUE TRUE TRUE   NA          NA       TRUE     NA            NA     \n",
       "9383 TRUE TRUE TRUE   NA          NA       TRUE     NA            NA     \n",
       "9384 TRUE TRUE TRUE   NA          NA       TRUE     NA            NA     \n",
       "9385 TRUE TRUE TRUE   NA          NA       TRUE     NA            NA     \n",
       "9386 TRUE TRUE TRUE   NA          NA       TRUE     NA            NA     \n",
       "9387 TRUE TRUE TRUE   NA          NA       TRUE     NA            NA     \n",
       "...  ...  ...  ...    ...         ...      ...      ...           ...    \n",
       "9442 TRUE TRUE TRUE   NA          NA       TRUE     NA            NA     \n",
       "9443 TRUE TRUE TRUE   NA          NA       TRUE     NA            NA     \n",
       "9444 TRUE TRUE TRUE   NA          NA       TRUE     NA            NA     \n",
       "9445 TRUE TRUE TRUE   NA          NA       TRUE     NA            NA     \n",
       "9446 TRUE TRUE TRUE   NA          NA       TRUE     NA            NA     \n",
       "9447 TRUE TRUE TRUE   NA          NA       TRUE     NA            NA     \n",
       "9448 TRUE TRUE TRUE   NA          NA       TRUE     NA            NA     \n",
       "9449 TRUE TRUE TRUE   NA          NA       TRUE     NA            NA     \n",
       "9450 TRUE TRUE TRUE   NA          NA       TRUE     NA            NA     \n",
       "9451 TRUE TRUE TRUE   NA          NA       TRUE     NA            NA     \n",
       "9452 TRUE TRUE TRUE   NA          NA       TRUE     NA            NA     \n",
       "9453 TRUE TRUE TRUE   NA          NA       TRUE     NA            NA     \n",
       "9454 TRUE TRUE TRUE   NA          NA       TRUE     NA            NA     \n",
       "9455 TRUE TRUE TRUE   NA          NA       TRUE     NA            NA     \n",
       "9456 TRUE TRUE TRUE   NA          NA       TRUE     NA            NA     \n",
       "9457 TRUE TRUE TRUE   NA          NA       TRUE     NA            NA     \n",
       "9458 TRUE TRUE TRUE   NA          NA       TRUE     NA            NA     \n",
       "9459 TRUE TRUE TRUE   NA          NA       TRUE     NA            NA     \n",
       "9460 TRUE TRUE TRUE   NA          NA       TRUE     NA            NA     \n",
       "9461 TRUE TRUE TRUE   NA          NA       TRUE     NA            NA     \n",
       "9462 TRUE TRUE TRUE   NA          NA       TRUE     NA            NA     \n",
       "9463 TRUE TRUE TRUE   NA          NA       TRUE     NA            NA     \n",
       "9464 TRUE TRUE TRUE   NA          NA       TRUE     NA            NA     \n",
       "9465 TRUE TRUE TRUE   NA          NA       TRUE     NA            NA     \n",
       "9466 TRUE TRUE TRUE   NA          NA       TRUE     NA            NA     \n",
       "9467 TRUE TRUE TRUE   NA          NA       TRUE     NA            NA     \n",
       "9468 TRUE TRUE TRUE   NA          NA       TRUE     NA            NA     \n",
       "9469 TRUE TRUE TRUE   NA          NA       TRUE     NA            NA     \n",
       "9470 TRUE TRUE TRUE   NA          NA       TRUE     NA            NA     \n",
       "9471 TRUE TRUE TRUE   NA          NA       TRUE     NA            NA     \n",
       "     PT08.S3.NOx. NO2.GT. PT08.S4.NO2. PT08.S5.O3. T    RH   AH   X   X.1\n",
       "9358 NA           NA      NA           NA          TRUE TRUE TRUE NA  NA \n",
       "9359 NA           NA      NA           NA          TRUE TRUE TRUE NA  NA \n",
       "9360 NA           NA      NA           NA          TRUE TRUE TRUE NA  NA \n",
       "9361 NA           NA      NA           NA          TRUE TRUE TRUE NA  NA \n",
       "9362 NA           NA      NA           NA          TRUE TRUE TRUE NA  NA \n",
       "9363 NA           NA      NA           NA          TRUE TRUE TRUE NA  NA \n",
       "9364 NA           NA      NA           NA          TRUE TRUE TRUE NA  NA \n",
       "9365 NA           NA      NA           NA          TRUE TRUE TRUE NA  NA \n",
       "9366 NA           NA      NA           NA          TRUE TRUE TRUE NA  NA \n",
       "9367 NA           NA      NA           NA          TRUE TRUE TRUE NA  NA \n",
       "9368 NA           NA      NA           NA          TRUE TRUE TRUE NA  NA \n",
       "9369 NA           NA      NA           NA          TRUE TRUE TRUE NA  NA \n",
       "9370 NA           NA      NA           NA          TRUE TRUE TRUE NA  NA \n",
       "9371 NA           NA      NA           NA          TRUE TRUE TRUE NA  NA \n",
       "9372 NA           NA      NA           NA          TRUE TRUE TRUE NA  NA \n",
       "9373 NA           NA      NA           NA          TRUE TRUE TRUE NA  NA \n",
       "9374 NA           NA      NA           NA          TRUE TRUE TRUE NA  NA \n",
       "9375 NA           NA      NA           NA          TRUE TRUE TRUE NA  NA \n",
       "9376 NA           NA      NA           NA          TRUE TRUE TRUE NA  NA \n",
       "9377 NA           NA      NA           NA          TRUE TRUE TRUE NA  NA \n",
       "9378 NA           NA      NA           NA          TRUE TRUE TRUE NA  NA \n",
       "9379 NA           NA      NA           NA          TRUE TRUE TRUE NA  NA \n",
       "9380 NA           NA      NA           NA          TRUE TRUE TRUE NA  NA \n",
       "9381 NA           NA      NA           NA          TRUE TRUE TRUE NA  NA \n",
       "9382 NA           NA      NA           NA          TRUE TRUE TRUE NA  NA \n",
       "9383 NA           NA      NA           NA          TRUE TRUE TRUE NA  NA \n",
       "9384 NA           NA      NA           NA          TRUE TRUE TRUE NA  NA \n",
       "9385 NA           NA      NA           NA          TRUE TRUE TRUE NA  NA \n",
       "9386 NA           NA      NA           NA          TRUE TRUE TRUE NA  NA \n",
       "9387 NA           NA      NA           NA          TRUE TRUE TRUE NA  NA \n",
       "...  ...          ...     ...          ...         ...  ...  ...  ... ...\n",
       "9442 NA           NA      NA           NA          TRUE TRUE TRUE NA  NA \n",
       "9443 NA           NA      NA           NA          TRUE TRUE TRUE NA  NA \n",
       "9444 NA           NA      NA           NA          TRUE TRUE TRUE NA  NA \n",
       "9445 NA           NA      NA           NA          TRUE TRUE TRUE NA  NA \n",
       "9446 NA           NA      NA           NA          TRUE TRUE TRUE NA  NA \n",
       "9447 NA           NA      NA           NA          TRUE TRUE TRUE NA  NA \n",
       "9448 NA           NA      NA           NA          TRUE TRUE TRUE NA  NA \n",
       "9449 NA           NA      NA           NA          TRUE TRUE TRUE NA  NA \n",
       "9450 NA           NA      NA           NA          TRUE TRUE TRUE NA  NA \n",
       "9451 NA           NA      NA           NA          TRUE TRUE TRUE NA  NA \n",
       "9452 NA           NA      NA           NA          TRUE TRUE TRUE NA  NA \n",
       "9453 NA           NA      NA           NA          TRUE TRUE TRUE NA  NA \n",
       "9454 NA           NA      NA           NA          TRUE TRUE TRUE NA  NA \n",
       "9455 NA           NA      NA           NA          TRUE TRUE TRUE NA  NA \n",
       "9456 NA           NA      NA           NA          TRUE TRUE TRUE NA  NA \n",
       "9457 NA           NA      NA           NA          TRUE TRUE TRUE NA  NA \n",
       "9458 NA           NA      NA           NA          TRUE TRUE TRUE NA  NA \n",
       "9459 NA           NA      NA           NA          TRUE TRUE TRUE NA  NA \n",
       "9460 NA           NA      NA           NA          TRUE TRUE TRUE NA  NA \n",
       "9461 NA           NA      NA           NA          TRUE TRUE TRUE NA  NA \n",
       "9462 NA           NA      NA           NA          TRUE TRUE TRUE NA  NA \n",
       "9463 NA           NA      NA           NA          TRUE TRUE TRUE NA  NA \n",
       "9464 NA           NA      NA           NA          TRUE TRUE TRUE NA  NA \n",
       "9465 NA           NA      NA           NA          TRUE TRUE TRUE NA  NA \n",
       "9466 NA           NA      NA           NA          TRUE TRUE TRUE NA  NA \n",
       "9467 NA           NA      NA           NA          TRUE TRUE TRUE NA  NA \n",
       "9468 NA           NA      NA           NA          TRUE TRUE TRUE NA  NA \n",
       "9469 NA           NA      NA           NA          TRUE TRUE TRUE NA  NA \n",
       "9470 NA           NA      NA           NA          TRUE TRUE TRUE NA  NA \n",
       "9471 NA           NA      NA           NA          TRUE TRUE TRUE NA  NA "
      ]
     },
     "metadata": {},
     "output_type": "display_data"
    }
   ],
   "source": [
    "airquality[(9358:9471),] == \"\""
   ]
  },
  {
   "cell_type": "markdown",
   "metadata": {},
   "source": [
    "由上表看到，此資料集在9358~9471rows中，資料不是存在NA，就是無資料，因此選擇將9358~9471rows的資料刪除<br>\n",
    "以下的資料皆以1~9357rows資料做分析"
   ]
  },
  {
   "cell_type": "code",
   "execution_count": 78,
   "metadata": {},
   "outputs": [],
   "source": [
    "# 以1~9357rows資料做分析\n",
    "airquality <- airquality[1:9357,]"
   ]
  },
  {
   "cell_type": "code",
   "execution_count": 79,
   "metadata": {
    "collapsed": true
   },
   "outputs": [
    {
     "name": "stdout",
     "output_type": "stream",
     "text": [
      "'data.frame':\t9357 obs. of  17 variables:\n",
      " $ Date         : Factor w/ 392 levels \"\",\"01/01/2005\",..: 116 116 116 116 116 116 129 129 129 129 ...\n",
      " $ Time         : Factor w/ 25 levels \"\",\"00.00.00\",..: 20 21 22 23 24 25 2 3 4 5 ...\n",
      " $ CO.GT.       : Factor w/ 105 levels \"\",\"-200\",\"-200,0\",..: 35 28 31 31 20 16 16 13 12 9 ...\n",
      " $ PT08.S1.CO.  : int  1360 1292 1402 1376 1272 1197 1185 1136 1094 1010 ...\n",
      " $ NMHC.GT.     : int  150 112 88 80 51 38 31 31 24 19 ...\n",
      " $ C6H6.GT.     : Factor w/ 409 levels \"\",\"-200,0\",\"0,1\",..: 41 404 400 402 374 327 237 234 125 19 ...\n",
      " $ PT08.S2.NMHC.: int  1046 955 939 948 836 750 690 672 609 561 ...\n",
      " $ NOx.GT.      : int  166 103 131 172 131 89 62 62 45 -200 ...\n",
      " $ PT08.S3.NOx. : int  1056 1174 1140 1092 1205 1337 1462 1453 1579 1705 ...\n",
      " $ NO2.GT.      : int  113 92 114 122 116 96 77 76 60 -200 ...\n",
      " $ PT08.S4.NO2. : int  1692 1559 1555 1584 1490 1393 1333 1333 1276 1235 ...\n",
      " $ PT08.S5.O3.  : int  1268 972 1074 1203 1110 949 733 730 620 501 ...\n",
      " $ T            : Factor w/ 438 levels \"\",\"-0,1\",\"-0,2\",..: 68 65 51 42 44 44 45 39 39 35 ...\n",
      " $ RH           : Factor w/ 755 levels \"\",\"-200\",\"10,0\",..: 377 365 428 488 484 480 456 488 485 490 ...\n",
      " $ AH           : Factor w/ 6685 levels \"\",\"-200\",\"0,1847\",..: 1898 1729 1855 2058 2068 2047 1911 1964 1937 1865 ...\n",
      " $ X            : logi  NA NA NA NA NA NA ...\n",
      " $ X.1          : logi  NA NA NA NA NA NA ...\n"
     ]
    }
   ],
   "source": [
    "str(airquality)"
   ]
  },
  {
   "cell_type": "code",
   "execution_count": 80,
   "metadata": {},
   "outputs": [],
   "source": [
    "airquality$CO.GT. <- as.numeric(gsub(\",\" ,\".\",airquality$CO.GT.))\n",
    "airquality$C6H6.GT. <- as.numeric(gsub(\",\" ,\".\",airquality$C6H6.GT.))\n",
    "airquality$T <- as.numeric(gsub(\",\" ,\".\",airquality$T))\n",
    "airquality$RH <- as.numeric(gsub(\",\" ,\".\",airquality$RH))\n",
    "airquality$AH <- as.numeric(gsub(\",\" ,\".\",airquality$AH))"
   ]
  },
  {
   "cell_type": "code",
   "execution_count": 105,
   "metadata": {},
   "outputs": [],
   "source": [
    "time = seq(\n",
    "  from = as.POSIXct(\"2004-3-10 18:00\", tz = \"UTC\"),\n",
    "  to = as.POSIXct(\"2005-4-4 14:00\", tz = \"UTC\"),\n",
    "  by = \"hour\"\n",
    ")  \n",
    "\n",
    "airquality$hour <- as.factor(format(time, \"%H\"))\n",
    "airquality$year <- as.factor(format(time, \"%Y\"))\n",
    "airquality$month <- as.factor(format(time, \"%m\"))\n",
    "airquality$day <- as.factor(format(time, \"%d\"))"
   ]
  },
  {
   "cell_type": "code",
   "execution_count": 106,
   "metadata": {
    "collapsed": true
   },
   "outputs": [
    {
     "name": "stdout",
     "output_type": "stream",
     "text": [
      "'data.frame':\t9357 obs. of  19 variables:\n",
      " $ Date         : Factor w/ 392 levels \"\",\"01/01/2005\",..: 116 116 116 116 116 116 129 129 129 129 ...\n",
      " $ Time         : Factor w/ 25 levels \"\",\"00.00.00\",..: 20 21 22 23 24 25 2 3 4 5 ...\n",
      " $ CO.GT.       : num  2.6 2 2.2 2.2 1.6 1.2 1.2 1 0.9 0.6 ...\n",
      " $ PT08.S1.CO.  : int  1360 1292 1402 1376 1272 1197 1185 1136 1094 1010 ...\n",
      " $ NMHC.GT.     : int  150 112 88 80 51 38 31 31 24 19 ...\n",
      " $ C6H6.GT.     : num  11.9 9.4 9 9.2 6.5 4.7 3.6 3.3 2.3 1.7 ...\n",
      " $ PT08.S2.NMHC.: int  1046 955 939 948 836 750 690 672 609 561 ...\n",
      " $ NOx.GT.      : int  166 103 131 172 131 89 62 62 45 -200 ...\n",
      " $ PT08.S3.NOx. : int  1056 1174 1140 1092 1205 1337 1462 1453 1579 1705 ...\n",
      " $ NO2.GT.      : int  113 92 114 122 116 96 77 76 60 -200 ...\n",
      " $ PT08.S4.NO2. : int  1692 1559 1555 1584 1490 1393 1333 1333 1276 1235 ...\n",
      " $ PT08.S5.O3.  : int  1268 972 1074 1203 1110 949 733 730 620 501 ...\n",
      " $ T            : num  13.6 13.3 11.9 11 11.2 11.2 11.3 10.7 10.7 10.3 ...\n",
      " $ RH           : num  48.9 47.7 54 60 59.6 59.2 56.8 60 59.7 60.2 ...\n",
      " $ AH           : num  0.758 0.726 0.75 0.787 0.789 ...\n",
      " $ hour         : Factor w/ 24 levels \"00\",\"01\",\"02\",..: 19 20 21 22 23 24 1 2 3 4 ...\n",
      " $ year         : Factor w/ 2 levels \"2004\",\"2005\": 1 1 1 1 1 1 1 1 1 1 ...\n",
      " $ month        : Factor w/ 12 levels \"01\",\"02\",\"03\",..: 3 3 3 3 3 3 3 3 3 3 ...\n",
      " $ day          : Factor w/ 31 levels \"01\",\"02\",\"03\",..: 10 10 10 10 10 10 11 11 11 11 ...\n"
     ]
    }
   ],
   "source": [
    "str(airquality)"
   ]
  },
  {
   "cell_type": "markdown",
   "metadata": {},
   "source": [
    "現在來看看1~9357比中共有多少NA或無資料"
   ]
  },
  {
   "cell_type": "code",
   "execution_count": 83,
   "metadata": {
    "collapsed": true
   },
   "outputs": [
    {
     "data": {
      "text/html": [
       "<dl class=dl-horizontal>\n",
       "\t<dt>CO.GT.</dt>\n",
       "\t\t<dd>0</dd>\n",
       "\t<dt>PT08.S1.CO.</dt>\n",
       "\t\t<dd>0</dd>\n",
       "\t<dt>NMHC.GT.</dt>\n",
       "\t\t<dd>0</dd>\n",
       "\t<dt>C6H6.GT.</dt>\n",
       "\t\t<dd>0</dd>\n",
       "\t<dt>PT08.S2.NMHC.</dt>\n",
       "\t\t<dd>0</dd>\n",
       "\t<dt>NOx.GT.</dt>\n",
       "\t\t<dd>0</dd>\n",
       "\t<dt>PT08.S3.NOx.</dt>\n",
       "\t\t<dd>0</dd>\n",
       "\t<dt>NO2.GT.</dt>\n",
       "\t\t<dd>0</dd>\n",
       "\t<dt>PT08.S4.NO2.</dt>\n",
       "\t\t<dd>0</dd>\n",
       "\t<dt>PT08.S5.O3.</dt>\n",
       "\t\t<dd>0</dd>\n",
       "\t<dt>T</dt>\n",
       "\t\t<dd>0</dd>\n",
       "\t<dt>RH</dt>\n",
       "\t\t<dd>0</dd>\n",
       "\t<dt>AH</dt>\n",
       "\t\t<dd>0</dd>\n",
       "\t<dt>X</dt>\n",
       "\t\t<dd>9357</dd>\n",
       "\t<dt>X.1</dt>\n",
       "\t\t<dd>9357</dd>\n",
       "\t<dt>hour</dt>\n",
       "\t\t<dd>0</dd>\n",
       "\t<dt>year</dt>\n",
       "\t\t<dd>0</dd>\n",
       "\t<dt>month</dt>\n",
       "\t\t<dd>0</dd>\n",
       "\t<dt>day</dt>\n",
       "\t\t<dd>0</dd>\n",
       "</dl>\n"
      ],
      "text/latex": [
       "\\begin{description*}\n",
       "\\item[CO.GT.] 0\n",
       "\\item[PT08.S1.CO.] 0\n",
       "\\item[NMHC.GT.] 0\n",
       "\\item[C6H6.GT.] 0\n",
       "\\item[PT08.S2.NMHC.] 0\n",
       "\\item[NOx.GT.] 0\n",
       "\\item[PT08.S3.NOx.] 0\n",
       "\\item[NO2.GT.] 0\n",
       "\\item[PT08.S4.NO2.] 0\n",
       "\\item[PT08.S5.O3.] 0\n",
       "\\item[T] 0\n",
       "\\item[RH] 0\n",
       "\\item[AH] 0\n",
       "\\item[X] 9357\n",
       "\\item[X.1] 9357\n",
       "\\item[hour] 0\n",
       "\\item[year] 0\n",
       "\\item[month] 0\n",
       "\\item[day] 0\n",
       "\\end{description*}\n"
      ],
      "text/markdown": [
       "CO.GT.\n",
       ":   0PT08.S1.CO.\n",
       ":   0NMHC.GT.\n",
       ":   0C6H6.GT.\n",
       ":   0PT08.S2.NMHC.\n",
       ":   0NOx.GT.\n",
       ":   0PT08.S3.NOx.\n",
       ":   0NO2.GT.\n",
       ":   0PT08.S4.NO2.\n",
       ":   0PT08.S5.O3.\n",
       ":   0T\n",
       ":   0RH\n",
       ":   0AH\n",
       ":   0X\n",
       ":   9357X.1\n",
       ":   9357hour\n",
       ":   0year\n",
       ":   0month\n",
       ":   0day\n",
       ":   0\n",
       "\n"
      ],
      "text/plain": [
       "       CO.GT.   PT08.S1.CO.      NMHC.GT.      C6H6.GT. PT08.S2.NMHC. \n",
       "            0             0             0             0             0 \n",
       "      NOx.GT.  PT08.S3.NOx.       NO2.GT.  PT08.S4.NO2.   PT08.S5.O3. \n",
       "            0             0             0             0             0 \n",
       "            T            RH            AH             X           X.1 \n",
       "            0             0             0          9357          9357 \n",
       "         hour          year         month           day \n",
       "            0             0             0             0 "
      ]
     },
     "metadata": {},
     "output_type": "display_data"
    },
    {
     "data": {
      "text/html": [
       "<dl class=dl-horizontal>\n",
       "\t<dt>CO.GT.</dt>\n",
       "\t\t<dd>0</dd>\n",
       "\t<dt>PT08.S1.CO.</dt>\n",
       "\t\t<dd>0</dd>\n",
       "\t<dt>NMHC.GT.</dt>\n",
       "\t\t<dd>0</dd>\n",
       "\t<dt>C6H6.GT.</dt>\n",
       "\t\t<dd>0</dd>\n",
       "\t<dt>PT08.S2.NMHC.</dt>\n",
       "\t\t<dd>0</dd>\n",
       "\t<dt>NOx.GT.</dt>\n",
       "\t\t<dd>0</dd>\n",
       "\t<dt>PT08.S3.NOx.</dt>\n",
       "\t\t<dd>0</dd>\n",
       "\t<dt>NO2.GT.</dt>\n",
       "\t\t<dd>0</dd>\n",
       "\t<dt>PT08.S4.NO2.</dt>\n",
       "\t\t<dd>0</dd>\n",
       "\t<dt>PT08.S5.O3.</dt>\n",
       "\t\t<dd>0</dd>\n",
       "\t<dt>T</dt>\n",
       "\t\t<dd>0</dd>\n",
       "\t<dt>RH</dt>\n",
       "\t\t<dd>0</dd>\n",
       "\t<dt>AH</dt>\n",
       "\t\t<dd>0</dd>\n",
       "\t<dt>X</dt>\n",
       "\t\t<dd>&lt;NA&gt;</dd>\n",
       "\t<dt>X.1</dt>\n",
       "\t\t<dd>&lt;NA&gt;</dd>\n",
       "\t<dt>hour</dt>\n",
       "\t\t<dd>0</dd>\n",
       "\t<dt>year</dt>\n",
       "\t\t<dd>0</dd>\n",
       "\t<dt>month</dt>\n",
       "\t\t<dd>0</dd>\n",
       "\t<dt>day</dt>\n",
       "\t\t<dd>0</dd>\n",
       "</dl>\n"
      ],
      "text/latex": [
       "\\begin{description*}\n",
       "\\item[CO.GT.] 0\n",
       "\\item[PT08.S1.CO.] 0\n",
       "\\item[NMHC.GT.] 0\n",
       "\\item[C6H6.GT.] 0\n",
       "\\item[PT08.S2.NMHC.] 0\n",
       "\\item[NOx.GT.] 0\n",
       "\\item[PT08.S3.NOx.] 0\n",
       "\\item[NO2.GT.] 0\n",
       "\\item[PT08.S4.NO2.] 0\n",
       "\\item[PT08.S5.O3.] 0\n",
       "\\item[T] 0\n",
       "\\item[RH] 0\n",
       "\\item[AH] 0\n",
       "\\item[X] <NA>\n",
       "\\item[X.1] <NA>\n",
       "\\item[hour] 0\n",
       "\\item[year] 0\n",
       "\\item[month] 0\n",
       "\\item[day] 0\n",
       "\\end{description*}\n"
      ],
      "text/markdown": [
       "CO.GT.\n",
       ":   0PT08.S1.CO.\n",
       ":   0NMHC.GT.\n",
       ":   0C6H6.GT.\n",
       ":   0PT08.S2.NMHC.\n",
       ":   0NOx.GT.\n",
       ":   0PT08.S3.NOx.\n",
       ":   0NO2.GT.\n",
       ":   0PT08.S4.NO2.\n",
       ":   0PT08.S5.O3.\n",
       ":   0T\n",
       ":   0RH\n",
       ":   0AH\n",
       ":   0X\n",
       ":   &lt;NA&gt;X.1\n",
       ":   &lt;NA&gt;hour\n",
       ":   0year\n",
       ":   0month\n",
       ":   0day\n",
       ":   0\n",
       "\n"
      ],
      "text/plain": [
       "       CO.GT.   PT08.S1.CO.      NMHC.GT.      C6H6.GT. PT08.S2.NMHC. \n",
       "            0             0             0             0             0 \n",
       "      NOx.GT.  PT08.S3.NOx.       NO2.GT.  PT08.S4.NO2.   PT08.S5.O3. \n",
       "            0             0             0             0             0 \n",
       "            T            RH            AH             X           X.1 \n",
       "            0             0             0            NA            NA \n",
       "         hour          year         month           day \n",
       "            0             0             0             0 "
      ]
     },
     "metadata": {},
     "output_type": "display_data"
    }
   ],
   "source": [
    "NAnumber <- NULL\n",
    "for (i in 3:length(colnames(airquality))) {\n",
    "    NAnumber[colnames(airquality)[i]] <- sum(is.na(airquality[,i]))\n",
    "}\n",
    "NAnumber\n",
    "\n",
    "Emptynumber <- NULL\n",
    "for (i in 3:length(colnames(airquality))) {\n",
    "    Emptynumber[colnames(airquality)[i]] <- sum((airquality[,i] == \"\"))\n",
    "}\n",
    "Emptynumber"
   ]
  },
  {
   "cell_type": "markdown",
   "metadata": {},
   "source": [
    "由此看來X、X.1變數全部都是NA，代表此資料也完全無訊息<br>\n",
    "而剩下的資料全都沒有NA值與empty，接下來的分析皆以1~9357筆資料中除去X、X.1來分析"
   ]
  },
  {
   "cell_type": "code",
   "execution_count": 85,
   "metadata": {},
   "outputs": [],
   "source": [
    "# 不取變數X、X.1\n",
    "airquality <- airquality[,c(1:15)]"
   ]
  },
  {
   "cell_type": "code",
   "execution_count": 86,
   "metadata": {
    "collapsed": true
   },
   "outputs": [
    {
     "data": {
      "text/html": [
       "<table>\n",
       "<thead><tr><th></th><th scope=col>CO.GT.</th><th scope=col>PT08.S1.CO.</th><th scope=col>NMHC.GT.</th><th scope=col>C6H6.GT.</th><th scope=col>PT08.S2.NMHC.</th><th scope=col>NOx.GT.</th><th scope=col>PT08.S3.NOx.</th><th scope=col>NO2.GT.</th><th scope=col>PT08.S4.NO2.</th><th scope=col>PT08.S5.O3.</th><th scope=col>T</th><th scope=col>RH</th><th scope=col>AH</th></tr></thead>\n",
       "<tbody>\n",
       "\t<tr><th scope=row>CO.GT.</th><td>1683</td><td> 36 </td><td>1659</td><td> 36 </td><td> 36 </td><td>1226</td><td> 36 </td><td>1226</td><td> 36 </td><td> 36 </td><td> 36 </td><td> 36 </td><td> 36 </td></tr>\n",
       "\t<tr><th scope=row>PT08.S1.CO.</th><td>  36</td><td>366 </td><td> 339</td><td>366 </td><td>366 </td><td>  44</td><td>366 </td><td>  44</td><td>366 </td><td>366 </td><td>366 </td><td>366 </td><td>366 </td></tr>\n",
       "\t<tr><th scope=row>NMHC.GT.</th><td>1659</td><td>339 </td><td>8443</td><td>339 </td><td>339 </td><td>1602</td><td>339 </td><td>1605</td><td>339 </td><td>339 </td><td>339 </td><td>339 </td><td>339 </td></tr>\n",
       "\t<tr><th scope=row>C6H6.GT.</th><td>  36</td><td>366 </td><td> 339</td><td>366 </td><td>366 </td><td>  44</td><td>366 </td><td>  44</td><td>366 </td><td>366 </td><td>366 </td><td>366 </td><td>366 </td></tr>\n",
       "\t<tr><th scope=row>PT08.S2.NMHC.</th><td>  36</td><td>366 </td><td> 339</td><td>366 </td><td>366 </td><td>  44</td><td>366 </td><td>  44</td><td>366 </td><td>366 </td><td>366 </td><td>366 </td><td>366 </td></tr>\n",
       "\t<tr><th scope=row>NOx.GT.</th><td>1226</td><td> 44 </td><td>1602</td><td> 44 </td><td> 44 </td><td>1639</td><td> 44 </td><td>1639</td><td> 44 </td><td> 44 </td><td> 44 </td><td> 44 </td><td> 44 </td></tr>\n",
       "\t<tr><th scope=row>PT08.S3.NOx.</th><td>  36</td><td>366 </td><td> 339</td><td>366 </td><td>366 </td><td>  44</td><td>366 </td><td>  44</td><td>366 </td><td>366 </td><td>366 </td><td>366 </td><td>366 </td></tr>\n",
       "\t<tr><th scope=row>NO2.GT.</th><td>1226</td><td> 44 </td><td>1605</td><td> 44 </td><td> 44 </td><td>1639</td><td> 44 </td><td>1642</td><td> 44 </td><td> 44 </td><td> 44 </td><td> 44 </td><td> 44 </td></tr>\n",
       "\t<tr><th scope=row>PT08.S4.NO2.</th><td>  36</td><td>366 </td><td> 339</td><td>366 </td><td>366 </td><td>  44</td><td>366 </td><td>  44</td><td>366 </td><td>366 </td><td>366 </td><td>366 </td><td>366 </td></tr>\n",
       "\t<tr><th scope=row>PT08.S5.O3.</th><td>  36</td><td>366 </td><td> 339</td><td>366 </td><td>366 </td><td>  44</td><td>366 </td><td>  44</td><td>366 </td><td>366 </td><td>366 </td><td>366 </td><td>366 </td></tr>\n",
       "\t<tr><th scope=row>T</th><td>  36</td><td>366 </td><td> 339</td><td>366 </td><td>366 </td><td>  44</td><td>366 </td><td>  44</td><td>366 </td><td>366 </td><td>366 </td><td>366 </td><td>366 </td></tr>\n",
       "\t<tr><th scope=row>RH</th><td>  36</td><td>366 </td><td> 339</td><td>366 </td><td>366 </td><td>  44</td><td>366 </td><td>  44</td><td>366 </td><td>366 </td><td>366 </td><td>366 </td><td>366 </td></tr>\n",
       "\t<tr><th scope=row>AH</th><td>  36</td><td>366 </td><td> 339</td><td>366 </td><td>366 </td><td>  44</td><td>366 </td><td>  44</td><td>366 </td><td>366 </td><td>366 </td><td>366 </td><td>366 </td></tr>\n",
       "</tbody>\n",
       "</table>\n"
      ],
      "text/latex": [
       "\\begin{tabular}{r|lllllllllllll}\n",
       "  & CO.GT. & PT08.S1.CO. & NMHC.GT. & C6H6.GT. & PT08.S2.NMHC. & NOx.GT. & PT08.S3.NOx. & NO2.GT. & PT08.S4.NO2. & PT08.S5.O3. & T & RH & AH\\\\\n",
       "\\hline\n",
       "\tCO.GT. & 1683 &  36  & 1659 &  36  &  36  & 1226 &  36  & 1226 &  36  &  36  &  36  &  36  &  36 \\\\\n",
       "\tPT08.S1.CO. &   36 & 366  &  339 & 366  & 366  &   44 & 366  &   44 & 366  & 366  & 366  & 366  & 366 \\\\\n",
       "\tNMHC.GT. & 1659 & 339  & 8443 & 339  & 339  & 1602 & 339  & 1605 & 339  & 339  & 339  & 339  & 339 \\\\\n",
       "\tC6H6.GT. &   36 & 366  &  339 & 366  & 366  &   44 & 366  &   44 & 366  & 366  & 366  & 366  & 366 \\\\\n",
       "\tPT08.S2.NMHC. &   36 & 366  &  339 & 366  & 366  &   44 & 366  &   44 & 366  & 366  & 366  & 366  & 366 \\\\\n",
       "\tNOx.GT. & 1226 &  44  & 1602 &  44  &  44  & 1639 &  44  & 1639 &  44  &  44  &  44  &  44  &  44 \\\\\n",
       "\tPT08.S3.NOx. &   36 & 366  &  339 & 366  & 366  &   44 & 366  &   44 & 366  & 366  & 366  & 366  & 366 \\\\\n",
       "\tNO2.GT. & 1226 &  44  & 1605 &  44  &  44  & 1639 &  44  & 1642 &  44  &  44  &  44  &  44  &  44 \\\\\n",
       "\tPT08.S4.NO2. &   36 & 366  &  339 & 366  & 366  &   44 & 366  &   44 & 366  & 366  & 366  & 366  & 366 \\\\\n",
       "\tPT08.S5.O3. &   36 & 366  &  339 & 366  & 366  &   44 & 366  &   44 & 366  & 366  & 366  & 366  & 366 \\\\\n",
       "\tT &   36 & 366  &  339 & 366  & 366  &   44 & 366  &   44 & 366  & 366  & 366  & 366  & 366 \\\\\n",
       "\tRH &   36 & 366  &  339 & 366  & 366  &   44 & 366  &   44 & 366  & 366  & 366  & 366  & 366 \\\\\n",
       "\tAH &   36 & 366  &  339 & 366  & 366  &   44 & 366  &   44 & 366  & 366  & 366  & 366  & 366 \\\\\n",
       "\\end{tabular}\n"
      ],
      "text/markdown": [
       "\n",
       "| <!--/--> | CO.GT. | PT08.S1.CO. | NMHC.GT. | C6H6.GT. | PT08.S2.NMHC. | NOx.GT. | PT08.S3.NOx. | NO2.GT. | PT08.S4.NO2. | PT08.S5.O3. | T | RH | AH | \n",
       "|---|---|---|---|---|---|---|---|---|---|---|---|---|\n",
       "| CO.GT. | 1683 |  36  | 1659 |  36  |  36  | 1226 |  36  | 1226 |  36  |  36  |  36  |  36  |  36  | \n",
       "| PT08.S1.CO. |   36 | 366  |  339 | 366  | 366  |   44 | 366  |   44 | 366  | 366  | 366  | 366  | 366  | \n",
       "| NMHC.GT. | 1659 | 339  | 8443 | 339  | 339  | 1602 | 339  | 1605 | 339  | 339  | 339  | 339  | 339  | \n",
       "| C6H6.GT. |   36 | 366  |  339 | 366  | 366  |   44 | 366  |   44 | 366  | 366  | 366  | 366  | 366  | \n",
       "| PT08.S2.NMHC. |   36 | 366  |  339 | 366  | 366  |   44 | 366  |   44 | 366  | 366  | 366  | 366  | 366  | \n",
       "| NOx.GT. | 1226 |  44  | 1602 |  44  |  44  | 1639 |  44  | 1639 |  44  |  44  |  44  |  44  |  44  | \n",
       "| PT08.S3.NOx. |   36 | 366  |  339 | 366  | 366  |   44 | 366  |   44 | 366  | 366  | 366  | 366  | 366  | \n",
       "| NO2.GT. | 1226 |  44  | 1605 |  44  |  44  | 1639 |  44  | 1642 |  44  |  44  |  44  |  44  |  44  | \n",
       "| PT08.S4.NO2. |   36 | 366  |  339 | 366  | 366  |   44 | 366  |   44 | 366  | 366  | 366  | 366  | 366  | \n",
       "| PT08.S5.O3. |   36 | 366  |  339 | 366  | 366  |   44 | 366  |   44 | 366  | 366  | 366  | 366  | 366  | \n",
       "| T |   36 | 366  |  339 | 366  | 366  |   44 | 366  |   44 | 366  | 366  | 366  | 366  | 366  | \n",
       "| RH |   36 | 366  |  339 | 366  | 366  |   44 | 366  |   44 | 366  | 366  | 366  | 366  | 366  | \n",
       "| AH |   36 | 366  |  339 | 366  | 366  |   44 | 366  |   44 | 366  | 366  | 366  | 366  | 366  | \n",
       "\n",
       "\n"
      ],
      "text/plain": [
       "              CO.GT. PT08.S1.CO. NMHC.GT. C6H6.GT. PT08.S2.NMHC. NOx.GT.\n",
       "CO.GT.        1683    36         1659      36       36           1226   \n",
       "PT08.S1.CO.     36   366          339     366      366             44   \n",
       "NMHC.GT.      1659   339         8443     339      339           1602   \n",
       "C6H6.GT.        36   366          339     366      366             44   \n",
       "PT08.S2.NMHC.   36   366          339     366      366             44   \n",
       "NOx.GT.       1226    44         1602      44       44           1639   \n",
       "PT08.S3.NOx.    36   366          339     366      366             44   \n",
       "NO2.GT.       1226    44         1605      44       44           1639   \n",
       "PT08.S4.NO2.    36   366          339     366      366             44   \n",
       "PT08.S5.O3.     36   366          339     366      366             44   \n",
       "T               36   366          339     366      366             44   \n",
       "RH              36   366          339     366      366             44   \n",
       "AH              36   366          339     366      366             44   \n",
       "              PT08.S3.NOx. NO2.GT. PT08.S4.NO2. PT08.S5.O3. T   RH  AH \n",
       "CO.GT.         36          1226     36           36          36  36  36\n",
       "PT08.S1.CO.   366            44    366          366         366 366 366\n",
       "NMHC.GT.      339          1605    339          339         339 339 339\n",
       "C6H6.GT.      366            44    366          366         366 366 366\n",
       "PT08.S2.NMHC. 366            44    366          366         366 366 366\n",
       "NOx.GT.        44          1639     44           44          44  44  44\n",
       "PT08.S3.NOx.  366            44    366          366         366 366 366\n",
       "NO2.GT.        44          1642     44           44          44  44  44\n",
       "PT08.S4.NO2.  366            44    366          366         366 366 366\n",
       "PT08.S5.O3.   366            44    366          366         366 366 366\n",
       "T             366            44    366          366         366 366 366\n",
       "RH            366            44    366          366         366 366 366\n",
       "AH            366            44    366          366         366 366 366"
      ]
     },
     "metadata": {},
     "output_type": "display_data"
    }
   ],
   "source": [
    "missing_same <- function(var1, var2) {\n",
    "  \n",
    "  if (sum(which(airquality[,var1] == -200)) < sum(which(airquality[,var2] == -200))) {\n",
    "    n = which(airquality[,var1] == -200)[(which(airquality[,var1] == -200) %in% which(airquality[,var2] == -200))]\n",
    "  }else {\n",
    "    n = which(airquality[,var2] == -200)[(which(airquality[,var2] == -200) %in% which(airquality[,var1] == -200))]\n",
    "  }\n",
    "  return(length(n))\n",
    "  #return(paste(colnames(airquality)[var1], \"and\", colnames(airquality)[var2], \"both have missing data in\", c(n), sep = \" \"))\n",
    "  \n",
    "}\n",
    "\n",
    "NumberOfMissing = data.frame()\n",
    "for (i in 3:length(colnames(airquality))) {\n",
    "  for (j in 3:length(colnames(airquality))) {\n",
    "    NumberOfMissing[i-2,colnames(airquality)[j]] <- missing_same(var1 = i, var2 = j)\n",
    "  }\n",
    "}\n",
    "rownames(NumberOfMissing) <- colnames(airquality)[3:length(colnames(airquality))]\n",
    "NumberOfMissing\n",
    "\n"
   ]
  },
  {
   "cell_type": "markdown",
   "metadata": {},
   "source": [
    " 由此表可知，以對角線來看 CO.GT.、NMHC.GT.、NOx.GT、NO2.GT.有超過1000筆missing data，剩下的變數皆有366筆missing data；以非對角線來看，CO.GT.、NMHC.GT.、NOx.GT、NO2.GT.變數中 missing data出現的位置相同的共有皆超過一千筆以上，但並非全部都missing data皆出現在相同位置，而剩下的變數中missing data皆為366筆，且其出現的位置皆相等!!\n"
   ]
  },
  {
   "cell_type": "code",
   "execution_count": 87,
   "metadata": {},
   "outputs": [],
   "source": [
    "Total_missing = NumberOfMissing %>% as.matrix %>% diag()"
   ]
  },
  {
   "cell_type": "code",
   "execution_count": 88,
   "metadata": {
    "collapsed": true
   },
   "outputs": [
    {
     "data": {
      "text/html": [
       "<table>\n",
       "<thead><tr><th></th><th scope=col>CO.GT.</th><th scope=col>PT08.S1.CO.</th><th scope=col>NMHC.GT.</th><th scope=col>C6H6.GT.</th><th scope=col>PT08.S2.NMHC.</th><th scope=col>NOx.GT.</th><th scope=col>PT08.S3.NOx.</th><th scope=col>NO2.GT.</th><th scope=col>PT08.S4.NO2.</th><th scope=col>PT08.S5.O3.</th><th scope=col>T</th><th scope=col>RH</th><th scope=col>AH</th></tr></thead>\n",
       "<tbody>\n",
       "\t<tr><th scope=row>CO.GT.</th><td>1.00000000</td><td>0.02139037</td><td>0.9857398 </td><td>0.02139037</td><td>0.02139037</td><td>0.7284611 </td><td>0.02139037</td><td>0.7284611 </td><td>0.02139037</td><td>0.02139037</td><td>0.02139037</td><td>0.02139037</td><td>0.02139037</td></tr>\n",
       "\t<tr><th scope=row>PT08.S1.CO.</th><td>0.09836066</td><td>1.00000000</td><td>0.9262295 </td><td>1.00000000</td><td>1.00000000</td><td>0.1202186 </td><td>1.00000000</td><td>0.1202186 </td><td>1.00000000</td><td>1.00000000</td><td>1.00000000</td><td>1.00000000</td><td>1.00000000</td></tr>\n",
       "\t<tr><th scope=row>NMHC.GT.</th><td>0.19649414</td><td>0.04015160</td><td>1.0000000 </td><td>0.04015160</td><td>0.04015160</td><td>0.1897430 </td><td>0.04015160</td><td>0.1900983 </td><td>0.04015160</td><td>0.04015160</td><td>0.04015160</td><td>0.04015160</td><td>0.04015160</td></tr>\n",
       "\t<tr><th scope=row>C6H6.GT.</th><td>0.09836066</td><td>1.00000000</td><td>0.9262295 </td><td>1.00000000</td><td>1.00000000</td><td>0.1202186 </td><td>1.00000000</td><td>0.1202186 </td><td>1.00000000</td><td>1.00000000</td><td>1.00000000</td><td>1.00000000</td><td>1.00000000</td></tr>\n",
       "\t<tr><th scope=row>PT08.S2.NMHC.</th><td>0.09836066</td><td>1.00000000</td><td>0.9262295 </td><td>1.00000000</td><td>1.00000000</td><td>0.1202186 </td><td>1.00000000</td><td>0.1202186 </td><td>1.00000000</td><td>1.00000000</td><td>1.00000000</td><td>1.00000000</td><td>1.00000000</td></tr>\n",
       "\t<tr><th scope=row>NOx.GT.</th><td>0.74801708</td><td>0.02684564</td><td>0.9774253 </td><td>0.02684564</td><td>0.02684564</td><td>1.0000000 </td><td>0.02684564</td><td>1.0000000 </td><td>0.02684564</td><td>0.02684564</td><td>0.02684564</td><td>0.02684564</td><td>0.02684564</td></tr>\n",
       "\t<tr><th scope=row>PT08.S3.NOx.</th><td>0.09836066</td><td>1.00000000</td><td>0.9262295 </td><td>1.00000000</td><td>1.00000000</td><td>0.1202186 </td><td>1.00000000</td><td>0.1202186 </td><td>1.00000000</td><td>1.00000000</td><td>1.00000000</td><td>1.00000000</td><td>1.00000000</td></tr>\n",
       "\t<tr><th scope=row>NO2.GT.</th><td>0.74665043</td><td>0.02679659</td><td>0.9774665 </td><td>0.02679659</td><td>0.02679659</td><td>0.9981730 </td><td>0.02679659</td><td>1.0000000 </td><td>0.02679659</td><td>0.02679659</td><td>0.02679659</td><td>0.02679659</td><td>0.02679659</td></tr>\n",
       "\t<tr><th scope=row>PT08.S4.NO2.</th><td>0.09836066</td><td>1.00000000</td><td>0.9262295 </td><td>1.00000000</td><td>1.00000000</td><td>0.1202186 </td><td>1.00000000</td><td>0.1202186 </td><td>1.00000000</td><td>1.00000000</td><td>1.00000000</td><td>1.00000000</td><td>1.00000000</td></tr>\n",
       "\t<tr><th scope=row>PT08.S5.O3.</th><td>0.09836066</td><td>1.00000000</td><td>0.9262295 </td><td>1.00000000</td><td>1.00000000</td><td>0.1202186 </td><td>1.00000000</td><td>0.1202186 </td><td>1.00000000</td><td>1.00000000</td><td>1.00000000</td><td>1.00000000</td><td>1.00000000</td></tr>\n",
       "\t<tr><th scope=row>T</th><td>0.09836066</td><td>1.00000000</td><td>0.9262295 </td><td>1.00000000</td><td>1.00000000</td><td>0.1202186 </td><td>1.00000000</td><td>0.1202186 </td><td>1.00000000</td><td>1.00000000</td><td>1.00000000</td><td>1.00000000</td><td>1.00000000</td></tr>\n",
       "\t<tr><th scope=row>RH</th><td>0.09836066</td><td>1.00000000</td><td>0.9262295 </td><td>1.00000000</td><td>1.00000000</td><td>0.1202186 </td><td>1.00000000</td><td>0.1202186 </td><td>1.00000000</td><td>1.00000000</td><td>1.00000000</td><td>1.00000000</td><td>1.00000000</td></tr>\n",
       "\t<tr><th scope=row>AH</th><td>0.09836066</td><td>1.00000000</td><td>0.9262295 </td><td>1.00000000</td><td>1.00000000</td><td>0.1202186 </td><td>1.00000000</td><td>0.1202186 </td><td>1.00000000</td><td>1.00000000</td><td>1.00000000</td><td>1.00000000</td><td>1.00000000</td></tr>\n",
       "</tbody>\n",
       "</table>\n"
      ],
      "text/latex": [
       "\\begin{tabular}{r|lllllllllllll}\n",
       "  & CO.GT. & PT08.S1.CO. & NMHC.GT. & C6H6.GT. & PT08.S2.NMHC. & NOx.GT. & PT08.S3.NOx. & NO2.GT. & PT08.S4.NO2. & PT08.S5.O3. & T & RH & AH\\\\\n",
       "\\hline\n",
       "\tCO.GT. & 1.00000000 & 0.02139037 & 0.9857398  & 0.02139037 & 0.02139037 & 0.7284611  & 0.02139037 & 0.7284611  & 0.02139037 & 0.02139037 & 0.02139037 & 0.02139037 & 0.02139037\\\\\n",
       "\tPT08.S1.CO. & 0.09836066 & 1.00000000 & 0.9262295  & 1.00000000 & 1.00000000 & 0.1202186  & 1.00000000 & 0.1202186  & 1.00000000 & 1.00000000 & 1.00000000 & 1.00000000 & 1.00000000\\\\\n",
       "\tNMHC.GT. & 0.19649414 & 0.04015160 & 1.0000000  & 0.04015160 & 0.04015160 & 0.1897430  & 0.04015160 & 0.1900983  & 0.04015160 & 0.04015160 & 0.04015160 & 0.04015160 & 0.04015160\\\\\n",
       "\tC6H6.GT. & 0.09836066 & 1.00000000 & 0.9262295  & 1.00000000 & 1.00000000 & 0.1202186  & 1.00000000 & 0.1202186  & 1.00000000 & 1.00000000 & 1.00000000 & 1.00000000 & 1.00000000\\\\\n",
       "\tPT08.S2.NMHC. & 0.09836066 & 1.00000000 & 0.9262295  & 1.00000000 & 1.00000000 & 0.1202186  & 1.00000000 & 0.1202186  & 1.00000000 & 1.00000000 & 1.00000000 & 1.00000000 & 1.00000000\\\\\n",
       "\tNOx.GT. & 0.74801708 & 0.02684564 & 0.9774253  & 0.02684564 & 0.02684564 & 1.0000000  & 0.02684564 & 1.0000000  & 0.02684564 & 0.02684564 & 0.02684564 & 0.02684564 & 0.02684564\\\\\n",
       "\tPT08.S3.NOx. & 0.09836066 & 1.00000000 & 0.9262295  & 1.00000000 & 1.00000000 & 0.1202186  & 1.00000000 & 0.1202186  & 1.00000000 & 1.00000000 & 1.00000000 & 1.00000000 & 1.00000000\\\\\n",
       "\tNO2.GT. & 0.74665043 & 0.02679659 & 0.9774665  & 0.02679659 & 0.02679659 & 0.9981730  & 0.02679659 & 1.0000000  & 0.02679659 & 0.02679659 & 0.02679659 & 0.02679659 & 0.02679659\\\\\n",
       "\tPT08.S4.NO2. & 0.09836066 & 1.00000000 & 0.9262295  & 1.00000000 & 1.00000000 & 0.1202186  & 1.00000000 & 0.1202186  & 1.00000000 & 1.00000000 & 1.00000000 & 1.00000000 & 1.00000000\\\\\n",
       "\tPT08.S5.O3. & 0.09836066 & 1.00000000 & 0.9262295  & 1.00000000 & 1.00000000 & 0.1202186  & 1.00000000 & 0.1202186  & 1.00000000 & 1.00000000 & 1.00000000 & 1.00000000 & 1.00000000\\\\\n",
       "\tT & 0.09836066 & 1.00000000 & 0.9262295  & 1.00000000 & 1.00000000 & 0.1202186  & 1.00000000 & 0.1202186  & 1.00000000 & 1.00000000 & 1.00000000 & 1.00000000 & 1.00000000\\\\\n",
       "\tRH & 0.09836066 & 1.00000000 & 0.9262295  & 1.00000000 & 1.00000000 & 0.1202186  & 1.00000000 & 0.1202186  & 1.00000000 & 1.00000000 & 1.00000000 & 1.00000000 & 1.00000000\\\\\n",
       "\tAH & 0.09836066 & 1.00000000 & 0.9262295  & 1.00000000 & 1.00000000 & 0.1202186  & 1.00000000 & 0.1202186  & 1.00000000 & 1.00000000 & 1.00000000 & 1.00000000 & 1.00000000\\\\\n",
       "\\end{tabular}\n"
      ],
      "text/markdown": [
       "\n",
       "| <!--/--> | CO.GT. | PT08.S1.CO. | NMHC.GT. | C6H6.GT. | PT08.S2.NMHC. | NOx.GT. | PT08.S3.NOx. | NO2.GT. | PT08.S4.NO2. | PT08.S5.O3. | T | RH | AH | \n",
       "|---|---|---|---|---|---|---|---|---|---|---|---|---|\n",
       "| CO.GT. | 1.00000000 | 0.02139037 | 0.9857398  | 0.02139037 | 0.02139037 | 0.7284611  | 0.02139037 | 0.7284611  | 0.02139037 | 0.02139037 | 0.02139037 | 0.02139037 | 0.02139037 | \n",
       "| PT08.S1.CO. | 0.09836066 | 1.00000000 | 0.9262295  | 1.00000000 | 1.00000000 | 0.1202186  | 1.00000000 | 0.1202186  | 1.00000000 | 1.00000000 | 1.00000000 | 1.00000000 | 1.00000000 | \n",
       "| NMHC.GT. | 0.19649414 | 0.04015160 | 1.0000000  | 0.04015160 | 0.04015160 | 0.1897430  | 0.04015160 | 0.1900983  | 0.04015160 | 0.04015160 | 0.04015160 | 0.04015160 | 0.04015160 | \n",
       "| C6H6.GT. | 0.09836066 | 1.00000000 | 0.9262295  | 1.00000000 | 1.00000000 | 0.1202186  | 1.00000000 | 0.1202186  | 1.00000000 | 1.00000000 | 1.00000000 | 1.00000000 | 1.00000000 | \n",
       "| PT08.S2.NMHC. | 0.09836066 | 1.00000000 | 0.9262295  | 1.00000000 | 1.00000000 | 0.1202186  | 1.00000000 | 0.1202186  | 1.00000000 | 1.00000000 | 1.00000000 | 1.00000000 | 1.00000000 | \n",
       "| NOx.GT. | 0.74801708 | 0.02684564 | 0.9774253  | 0.02684564 | 0.02684564 | 1.0000000  | 0.02684564 | 1.0000000  | 0.02684564 | 0.02684564 | 0.02684564 | 0.02684564 | 0.02684564 | \n",
       "| PT08.S3.NOx. | 0.09836066 | 1.00000000 | 0.9262295  | 1.00000000 | 1.00000000 | 0.1202186  | 1.00000000 | 0.1202186  | 1.00000000 | 1.00000000 | 1.00000000 | 1.00000000 | 1.00000000 | \n",
       "| NO2.GT. | 0.74665043 | 0.02679659 | 0.9774665  | 0.02679659 | 0.02679659 | 0.9981730  | 0.02679659 | 1.0000000  | 0.02679659 | 0.02679659 | 0.02679659 | 0.02679659 | 0.02679659 | \n",
       "| PT08.S4.NO2. | 0.09836066 | 1.00000000 | 0.9262295  | 1.00000000 | 1.00000000 | 0.1202186  | 1.00000000 | 0.1202186  | 1.00000000 | 1.00000000 | 1.00000000 | 1.00000000 | 1.00000000 | \n",
       "| PT08.S5.O3. | 0.09836066 | 1.00000000 | 0.9262295  | 1.00000000 | 1.00000000 | 0.1202186  | 1.00000000 | 0.1202186  | 1.00000000 | 1.00000000 | 1.00000000 | 1.00000000 | 1.00000000 | \n",
       "| T | 0.09836066 | 1.00000000 | 0.9262295  | 1.00000000 | 1.00000000 | 0.1202186  | 1.00000000 | 0.1202186  | 1.00000000 | 1.00000000 | 1.00000000 | 1.00000000 | 1.00000000 | \n",
       "| RH | 0.09836066 | 1.00000000 | 0.9262295  | 1.00000000 | 1.00000000 | 0.1202186  | 1.00000000 | 0.1202186  | 1.00000000 | 1.00000000 | 1.00000000 | 1.00000000 | 1.00000000 | \n",
       "| AH | 0.09836066 | 1.00000000 | 0.9262295  | 1.00000000 | 1.00000000 | 0.1202186  | 1.00000000 | 0.1202186  | 1.00000000 | 1.00000000 | 1.00000000 | 1.00000000 | 1.00000000 | \n",
       "\n",
       "\n"
      ],
      "text/plain": [
       "              CO.GT.     PT08.S1.CO. NMHC.GT.  C6H6.GT.   PT08.S2.NMHC.\n",
       "CO.GT.        1.00000000 0.02139037  0.9857398 0.02139037 0.02139037   \n",
       "PT08.S1.CO.   0.09836066 1.00000000  0.9262295 1.00000000 1.00000000   \n",
       "NMHC.GT.      0.19649414 0.04015160  1.0000000 0.04015160 0.04015160   \n",
       "C6H6.GT.      0.09836066 1.00000000  0.9262295 1.00000000 1.00000000   \n",
       "PT08.S2.NMHC. 0.09836066 1.00000000  0.9262295 1.00000000 1.00000000   \n",
       "NOx.GT.       0.74801708 0.02684564  0.9774253 0.02684564 0.02684564   \n",
       "PT08.S3.NOx.  0.09836066 1.00000000  0.9262295 1.00000000 1.00000000   \n",
       "NO2.GT.       0.74665043 0.02679659  0.9774665 0.02679659 0.02679659   \n",
       "PT08.S4.NO2.  0.09836066 1.00000000  0.9262295 1.00000000 1.00000000   \n",
       "PT08.S5.O3.   0.09836066 1.00000000  0.9262295 1.00000000 1.00000000   \n",
       "T             0.09836066 1.00000000  0.9262295 1.00000000 1.00000000   \n",
       "RH            0.09836066 1.00000000  0.9262295 1.00000000 1.00000000   \n",
       "AH            0.09836066 1.00000000  0.9262295 1.00000000 1.00000000   \n",
       "              NOx.GT.   PT08.S3.NOx. NO2.GT.   PT08.S4.NO2. PT08.S5.O3.\n",
       "CO.GT.        0.7284611 0.02139037   0.7284611 0.02139037   0.02139037 \n",
       "PT08.S1.CO.   0.1202186 1.00000000   0.1202186 1.00000000   1.00000000 \n",
       "NMHC.GT.      0.1897430 0.04015160   0.1900983 0.04015160   0.04015160 \n",
       "C6H6.GT.      0.1202186 1.00000000   0.1202186 1.00000000   1.00000000 \n",
       "PT08.S2.NMHC. 0.1202186 1.00000000   0.1202186 1.00000000   1.00000000 \n",
       "NOx.GT.       1.0000000 0.02684564   1.0000000 0.02684564   0.02684564 \n",
       "PT08.S3.NOx.  0.1202186 1.00000000   0.1202186 1.00000000   1.00000000 \n",
       "NO2.GT.       0.9981730 0.02679659   1.0000000 0.02679659   0.02679659 \n",
       "PT08.S4.NO2.  0.1202186 1.00000000   0.1202186 1.00000000   1.00000000 \n",
       "PT08.S5.O3.   0.1202186 1.00000000   0.1202186 1.00000000   1.00000000 \n",
       "T             0.1202186 1.00000000   0.1202186 1.00000000   1.00000000 \n",
       "RH            0.1202186 1.00000000   0.1202186 1.00000000   1.00000000 \n",
       "AH            0.1202186 1.00000000   0.1202186 1.00000000   1.00000000 \n",
       "              T          RH         AH        \n",
       "CO.GT.        0.02139037 0.02139037 0.02139037\n",
       "PT08.S1.CO.   1.00000000 1.00000000 1.00000000\n",
       "NMHC.GT.      0.04015160 0.04015160 0.04015160\n",
       "C6H6.GT.      1.00000000 1.00000000 1.00000000\n",
       "PT08.S2.NMHC. 1.00000000 1.00000000 1.00000000\n",
       "NOx.GT.       0.02684564 0.02684564 0.02684564\n",
       "PT08.S3.NOx.  1.00000000 1.00000000 1.00000000\n",
       "NO2.GT.       0.02679659 0.02679659 0.02679659\n",
       "PT08.S4.NO2.  1.00000000 1.00000000 1.00000000\n",
       "PT08.S5.O3.   1.00000000 1.00000000 1.00000000\n",
       "T             1.00000000 1.00000000 1.00000000\n",
       "RH            1.00000000 1.00000000 1.00000000\n",
       "AH            1.00000000 1.00000000 1.00000000"
      ]
     },
     "metadata": {},
     "output_type": "display_data"
    }
   ],
   "source": [
    "numberofmissing <- NULL\n",
    "for (i in 1:length(Total_missing)) {\n",
    "    numberofmissing<-  rbind(numberofmissing,NumberOfMissing[i,]/Total_missing[i])\n",
    "}\n",
    "numberofmissing"
   ]
  },
  {
   "cell_type": "markdown",
   "metadata": {},
   "source": [
    "若將上表改為比例來看，可以看到某一變數的missing data 與另一變數的missing data出現位置相同佔的比例，因此此表並不會對稱<br>\n",
    "CO.GT.、NMHC.GT.、NOx.GT、NO2.GT.變數兩兩的比例佔比皆很高，其中NMHC.GT.個數較大，所以其比例會較低，但是其與CO.GT.、NOx.GT、NO2.GT.變數的比例相較於剩下的變數的比例是比較高的。"
   ]
  },
  {
   "cell_type": "markdown",
   "metadata": {},
   "source": [
    "# 目前的發現:\n",
    "- 9358~9471筆資料皆為NA或empty，因此將這段區間刪除\n",
    "- 變數X、X.1 也都是NA，此變數無法給我們資訊，因此也可以把它刪除\n",
    "- 各變數中皆有NA，CO.GT.、NMHC.GT.、NOx.GT、NO2.GT.變數含有的NA個數超過上千，剩下的變數含有的NA個數皆為366筆，且其NA出現的位置(也就是說出現NA的時間)皆相同，且仔細看其發生時間有些為連續六小時或連續兩三天，可能發生這種情況的原因猜測為當時儀器故障維修、數值太低無法偵測，就目前資訊無法確定其發生原因。\n",
    "- CO.GT.、NMHC.GT.、NOx.GT、NO2.GT.變數兩兩重複出現NA的位置(亦即時間)的比例相對於其他變數的比例較高\n"
   ]
  },
  {
   "cell_type": "markdown",
   "metadata": {},
   "source": [
    "# Plot "
   ]
  },
  {
   "cell_type": "code",
   "execution_count": 89,
   "metadata": {},
   "outputs": [],
   "source": [
    "# transfer Date and Time to Date type\n",
    "# 1~9357筆資料的時間為2004/03/10 18:00至2005/04/04 14:00\n",
    "time = seq(\n",
    "  from = as.POSIXct(\"2004-3-10 18:00\", tz = \"UTC\"),\n",
    "  to = as.POSIXct(\"2005-4-4 14:00\", tz = \"UTC\"),\n",
    "  by = \"hour\"\n",
    ")  "
   ]
  },
  {
   "cell_type": "code",
   "execution_count": 91,
   "metadata": {
    "collapsed": true
   },
   "outputs": [
    {
     "data": {
      "image/png": "[encoded data removed]",
      "text/plain": [
       "Plot with title \"AH\""
      ]
     },
     "metadata": {},
     "output_type": "display_data"
    }
   ],
   "source": [
    "options(repr.plot.width = 10, repr.plot.height = 10)\n",
    "par(mfrow=c(3,5))\n",
    "for (i in 3:15) {\n",
    "    hist(airquality[,i],breaks = 500,main = colnames(airquality)[i])\n",
    "}"
   ]
  },
  {
   "cell_type": "code",
   "execution_count": 92,
   "metadata": {
    "collapsed": true
   },
   "outputs": [
    {
     "data": {
      "image/png": "[encoded data removed]",
      "text/plain": [
       "Plot with title \"AH\""
      ]
     },
     "metadata": {},
     "output_type": "display_data"
    }
   ],
   "source": [
    "options(repr.plot.width = 10, repr.plot.height = 10)\n",
    "par(mfrow=c(3,5))\n",
    "for (i in 3:15) {\n",
    "    hist( airquality[,i],breaks = nclass.Sturges(airquality[,i][which(airquality[,i] != -200)]),main = colnames(airquality)[i])\n",
    "}"
   ]
  },
  {
   "cell_type": "markdown",
   "metadata": {},
   "source": [
    "- 此兩張圖選擇不同的breaks來看，上面那張圖用breaks = 1000，下方則nclass.Sturges函數根據數值範圍來選擇breaks\n",
    "- NMHC.GT.大部分資料缺失，因此暫不考慮對其分析\n",
    "- 其中CO.GT.、C6H6.GT.、AH變數非常集中\n",
    "- PT08.S1.CO.、PT08.S2.NMHC.的分布相似，且其範圍也差不多\n",
    "- T、RH的分布相似，且其範圍也差不多\n",
    "- NOx.GT.變數分布有右偏的情況\n",
    "- PT08.S4.NO2.、PT08.S5.O3.變數分布相似\n",
    "- CO.GT.、PT08.S2.NMHC.、NOx.GT.、PT08.S3.NOx.、NO2.GT.、PT08.S4.NO2.、PT08.S5.O3.皆稍有右偏的情形，之後分析可以對其取logrithm，使其分布更像常態分配"
   ]
  },
  {
   "cell_type": "code",
   "execution_count": 93,
   "metadata": {},
   "outputs": [
    {
     "data": {
      "image/png": "[encoded data removed]",
      "text/plain": [
       "Plot with title \"AH\""
      ]
     },
     "metadata": {},
     "output_type": "display_data"
    }
   ],
   "source": [
    "options(repr.plot.width = 10, repr.plot.height = 10)\n",
    "par(mfrow=c(3,5))\n",
    "for (i in 3:15) {\n",
    "    plot( x =time, y = airquality[,i],type = 'l',ylim = c(0,max(airquality[,i])),main = colnames(airquality)[i])\n",
    "}"
   ]
  },
  {
   "cell_type": "markdown",
   "metadata": {},
   "source": [
    "- 由上圖看到NMHC.GT.變數大部分的資料都缺失，這部分對於資料分析有困難，因為缺失比例太大，無法使用填補，因此決定將此變數刪除\n",
    "- NOx.GT.看起來有隨著時間而改變趨勢\n",
    "- T、RH、AH看起來有個週期\n",
    "- 其餘變數看起來是穩定的"
   ]
  },
  {
   "cell_type": "code",
   "execution_count": 95,
   "metadata": {
    "collapsed": true
   },
   "outputs": [
    {
     "data": {
      "image/png": "[encoded data removed]",
      "text/plain": [
       "Plot with title \"Hour 12\""
      ]
     },
     "metadata": {},
     "output_type": "display_data"
    }
   ],
   "source": [
    "options(repr.plot.width = 10, repr.plot.height = 10)\n",
    "par(mfrow=c(4,3))\n",
    "for (i in 1:12) {\n",
    "    plot(airquality$CO.GT.[airquality$Time == unique(airquality$Time)[i]],type = \"l\",\n",
    "         ylab = \"concentration CO in mg/m^3 \", main = paste(\"Hour\",i,sep = \" \"))\n",
    "}"
   ]
  },
  {
   "cell_type": "markdown",
   "metadata": {},
   "source": [
    "# 目前的發現\n",
    "- NMHC.GT.變數僅在前面有偵測到，後面有一大部分缺失，因此後續分析選擇將此變數刪除\n",
    "- T、RH、AH看起來有個週期，就常識來想也是合理的\n",
    "- NOx.GT.看起來有趨勢，而其分部也呈現右偏，可能是紀錄後期數值較高但是數量較少而造成右偏的現象"
   ]
  },
  {
   "cell_type": "markdown",
   "metadata": {},
   "source": [
    "# Filling missing data\n"
   ]
  },
  {
   "cell_type": "code",
   "execution_count": 107,
   "metadata": {},
   "outputs": [],
   "source": [
    "# 將NMHC.GT.變數移除\n",
    "Airquality <- airquality[,c(1:4,6:19)]"
   ]
  },
  {
   "cell_type": "markdown",
   "metadata": {},
   "source": [
    "這裡想依照missing data 的前幾期資訊平均來進行填補，而期數的選擇以pacf來觀察，並且在變數為無趨勢的情況下填補，因此若該變數有趨勢項，則必須先將該變數去除趨勢項因素，在進行pacf觀察期數，在以此期數進行填補。\n",
    "而對於是否有趨勢的情況，可以用圖片大致觀察，或者使用auto correlation來選擇。\n",
    "pacf則是用來決定AR(p)的期數，若pacf圖形在p期後的數值截斷，則此AR期數為p"
   ]
  },
  {
   "cell_type": "code",
   "execution_count": 175,
   "metadata": {},
   "outputs": [
    {
     "name": "stderr",
     "output_type": "stream",
     "text": [
      "Warning message:\n",
      "\"package 'forecast' was built under R version 3.4.4\""
     ]
    },
    {
     "ename": "ERROR",
     "evalue": "Error: package or namespace load failed for 'forecast' in loadNamespace(j <- i[[1L]], c(lib.loc, .libPaths()), versionCheck = vI[[j]]):\n namespace 'rlang' 0.1.6 is already loaded, but >= 0.2.1 is required\n",
     "output_type": "error",
     "traceback": [
      "Error: package or namespace load failed for 'forecast' in loadNamespace(j <- i[[1L]], c(lib.loc, .libPaths()), versionCheck = vI[[j]]):\n namespace 'rlang' 0.1.6 is already loaded, but >= 0.2.1 is required\nTraceback:\n",
      "1. library(forecast)",
      "2. tryCatch({\n .     attr(package, \"LibPath\") <- which.lib.loc\n .     ns <- loadNamespace(package, lib.loc)\n .     env <- attachNamespace(ns, pos = pos, deps)\n . }, error = function(e) {\n .     P <- if (!is.null(cc <- conditionCall(e))) \n .         paste(\" in\", deparse(cc)[1L])\n .     else \"\"\n .     msg <- gettextf(\"package or namespace load failed for %s%s:\\n %s\", \n .         sQuote(package), P, conditionMessage(e))\n .     if (logical.return) \n .         message(paste(\"Error:\", msg), domain = NA)\n .     else stop(msg, call. = FALSE, domain = NA)\n . })",
      "3. tryCatchList(expr, classes, parentenv, handlers)",
      "4. tryCatchOne(expr, names, parentenv, handlers[[1L]])",
      "5. value[[3L]](cond)",
      "6. stop(msg, call. = FALSE, domain = NA)"
     ]
    }
   ],
   "source": [
    "\n",
    "library(forecast)"
   ]
  },
  {
   "cell_type": "code",
   "execution_count": 162,
   "metadata": {},
   "outputs": [
    {
     "data": {
      "image/png": "[encoded data removed]",
      "text/plain": [
       "Plot with title \"AH\""
      ]
     },
     "metadata": {},
     "output_type": "display_data"
    }
   ],
   "source": [
    "options(repr.plot.width = 10, repr.plot.height = 10)\n",
    "par(mfrow=c(4,3))\n",
    "for (i in 3:14) {\n",
    " pacf(Airquality[,i], main = colnames(Airquality)[i])   \n",
    "}\n"
   ]
  },
  {
   "cell_type": "code",
   "execution_count": 166,
   "metadata": {
    "collapsed": true
   },
   "outputs": [
    {
     "data": {
      "image/png": "[encoded data removed]",
      "text/plain": [
       "Plot with title \"AH\""
      ]
     },
     "metadata": {},
     "output_type": "display_data"
    }
   ],
   "source": [
    "options(repr.plot.width = 10, repr.plot.height = 10)\n",
    "par(mfrow=c(4,3))\n",
    "for (i in 3:14) {\n",
    " acf(Airquality[,i], main = colnames(Airquality)[i])   \n",
    "}\n"
   ]
  },
  {
   "cell_type": "code",
   "execution_count": 150,
   "metadata": {},
   "outputs": [
    {
     "data": {
      "text/html": [
       "<ol class=list-inline>\n",
       "\t<li>'Date'</li>\n",
       "\t<li>'Time'</li>\n",
       "\t<li>'CO.GT.'</li>\n",
       "\t<li>'PT08.S1.CO.'</li>\n",
       "\t<li>'C6H6.GT.'</li>\n",
       "\t<li>'PT08.S2.NMHC.'</li>\n",
       "\t<li>'NOx.GT.'</li>\n",
       "\t<li>'PT08.S3.NOx.'</li>\n",
       "\t<li>'NO2.GT.'</li>\n",
       "\t<li>'PT08.S4.NO2.'</li>\n",
       "\t<li>'PT08.S5.O3.'</li>\n",
       "\t<li>'T'</li>\n",
       "\t<li>'RH'</li>\n",
       "\t<li>'AH'</li>\n",
       "\t<li>'hour'</li>\n",
       "\t<li>'year'</li>\n",
       "\t<li>'month'</li>\n",
       "\t<li>'day'</li>\n",
       "</ol>\n"
      ],
      "text/latex": [
       "\\begin{enumerate*}\n",
       "\\item 'Date'\n",
       "\\item 'Time'\n",
       "\\item 'CO.GT.'\n",
       "\\item 'PT08.S1.CO.'\n",
       "\\item 'C6H6.GT.'\n",
       "\\item 'PT08.S2.NMHC.'\n",
       "\\item 'NOx.GT.'\n",
       "\\item 'PT08.S3.NOx.'\n",
       "\\item 'NO2.GT.'\n",
       "\\item 'PT08.S4.NO2.'\n",
       "\\item 'PT08.S5.O3.'\n",
       "\\item 'T'\n",
       "\\item 'RH'\n",
       "\\item 'AH'\n",
       "\\item 'hour'\n",
       "\\item 'year'\n",
       "\\item 'month'\n",
       "\\item 'day'\n",
       "\\end{enumerate*}\n"
      ],
      "text/markdown": [
       "1. 'Date'\n",
       "2. 'Time'\n",
       "3. 'CO.GT.'\n",
       "4. 'PT08.S1.CO.'\n",
       "5. 'C6H6.GT.'\n",
       "6. 'PT08.S2.NMHC.'\n",
       "7. 'NOx.GT.'\n",
       "8. 'PT08.S3.NOx.'\n",
       "9. 'NO2.GT.'\n",
       "10. 'PT08.S4.NO2.'\n",
       "11. 'PT08.S5.O3.'\n",
       "12. 'T'\n",
       "13. 'RH'\n",
       "14. 'AH'\n",
       "15. 'hour'\n",
       "16. 'year'\n",
       "17. 'month'\n",
       "18. 'day'\n",
       "\n",
       "\n"
      ],
      "text/plain": [
       " [1] \"Date\"          \"Time\"          \"CO.GT.\"        \"PT08.S1.CO.\"  \n",
       " [5] \"C6H6.GT.\"      \"PT08.S2.NMHC.\" \"NOx.GT.\"       \"PT08.S3.NOx.\" \n",
       " [9] \"NO2.GT.\"       \"PT08.S4.NO2.\"  \"PT08.S5.O3.\"   \"T\"            \n",
       "[13] \"RH\"            \"AH\"            \"hour\"          \"year\"         \n",
       "[17] \"month\"         \"day\"          "
      ]
     },
     "metadata": {},
     "output_type": "display_data"
    }
   ],
   "source": [
    "colnames(Airquality)"
   ]
  },
  {
   "cell_type": "code",
   "execution_count": 151,
   "metadata": {},
   "outputs": [],
   "source": [
    "# 用來填補-200 的值，在此我以前三筆資料的平均作為替換\n",
    "fill_missingdata <- function(x) {\n",
    "        for (i in 1:length(x)) {\n",
    "        if (x[i] == -200) {\n",
    "            x[i] <- mean(x[i-1],x[i-2],x[i-3])\n",
    "        }else {\n",
    "            x[i] <-x[i]\n",
    "        }    \n",
    "    }\n",
    "    return(x)\n",
    "}"
   ]
  },
  {
   "cell_type": "code",
   "execution_count": 152,
   "metadata": {},
   "outputs": [],
   "source": [
    "CO <- Airquality$CO.GT."
   ]
  },
  {
   "cell_type": "code",
   "execution_count": 165,
   "metadata": {},
   "outputs": [
    {
     "name": "stdout",
     "output_type": "stream",
     "text": [
      "List of 6\n",
      " $ acf   : num [1:39, 1, 1] 0.8659 0.3477 0.1814 0.1003 0.0622 ...\n",
      " $ type  : chr \"partial\"\n",
      " $ n.used: int 9357\n",
      " $ lag   : num [1:39, 1, 1] 1 2 3 4 5 6 7 8 9 10 ...\n",
      " $ series: chr \"Airquality$CO.GT.\"\n",
      " $ snames: NULL\n",
      " - attr(*, \"class\")= chr \"acf\"\n"
     ]
    },
    {
     "data": {
      "image/png": "[encoded data removed]",
      "text/plain": [
       "Plot with title \"Series  Airquality$CO.GT.\""
      ]
     },
     "metadata": {},
     "output_type": "display_data"
    }
   ],
   "source": [
    "str(pacf(Airquality$CO.GT.))"
   ]
  },
  {
   "cell_type": "code",
   "execution_count": null,
   "metadata": {},
   "outputs": [],
   "source": []
  },
  {
   "cell_type": "code",
   "execution_count": null,
   "metadata": {},
   "outputs": [],
   "source": []
  },
  {
   "cell_type": "code",
   "execution_count": null,
   "metadata": {},
   "outputs": [],
   "source": []
  }
 ],
 "metadata": {
  "kernelspec": {
   "display_name": "R",
   "language": "R",
   "name": "ir"
  },
  "language_info": {
   "codemirror_mode": "r",
   "file_extension": ".r",
   "mimetype": "text/x-r-source",
   "name": "R",
   "pygments_lexer": "r",
   "version": "3.4.2"
  }
 },
 "nbformat": 4,
 "nbformat_minor": 2
}
